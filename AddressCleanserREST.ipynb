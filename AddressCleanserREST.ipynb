{
 "cells": [
  {
   "cell_type": "code",
   "execution_count": 3,
   "metadata": {
    "ExecuteTime": {
     "end_time": "2019-11-07T12:12:01.049627Z",
     "start_time": "2019-11-07T12:12:00.281000Z"
    },
    "run_control": {
     "marked": true
    },
    "scrolled": true
   },
   "outputs": [],
   "source": [
    "from flask import Flask,  request,jsonify\n",
    "\n",
    "import pandas as pd\n",
    "\n",
    "import os\n",
    "\n",
    "from  importlib import reload\n",
    "import AddressCleanserUtils\n",
    "reload(AddressCleanserUtils)\n",
    "from AddressCleanserUtils import *\n",
    "\n",
    "from IPython.display import display\n",
    "\n",
    "\n",
    "import sys, traceback\n",
    "\n",
    "from datetime import datetime, timedelta\n"
   ]
  },
  {
   "cell_type": "code",
   "execution_count": null,
   "metadata": {},
   "outputs": [],
   "source": [
    "import config_REST\n",
    "reload(config_REST)\n",
    "from config_REST import *"
   ]
  },
  {
   "cell_type": "code",
   "execution_count": null,
   "metadata": {},
   "outputs": [],
   "source": []
  },
  {
   "cell_type": "code",
   "execution_count": null,
   "metadata": {
    "ExecuteTime": {
     "end_time": "2019-11-07T12:03:49.031343Z",
     "start_time": "2019-11-07T12:04:22.067Z"
    },
    "scrolled": true
   },
   "outputs": [],
   "source": [
    "# TO RUN : \n",
    "# jupyter nbconvert --to python AddressCleanserREST.ipynb\n",
    "# export  FLASK_APP=AddressCleanserREST.py ; export  FLASK_ENV=development ;  flask   run  \n",
    "\n",
    "# OR : \n",
    "# gunicorn -w 8 -b 127.0.0.1:5000 wsgi:app\n"
   ]
  },
  {
   "cell_type": "code",
   "execution_count": 2,
   "metadata": {
    "ExecuteTime": {
     "end_time": "2020-05-06T12:04:59.623475Z",
     "start_time": "2020-05-06T12:04:59.619830Z"
    }
   },
   "outputs": [],
   "source": [
    "# !jupyter nbconvert --to python AddressCleanserREST.ipynb"
   ]
  },
  {
   "cell_type": "code",
   "execution_count": 1,
   "metadata": {
    "ExecuteTime": {
     "end_time": "2020-05-04T12:07:59.526014Z",
     "start_time": "2020-05-04T12:07:59.367033Z"
    }
   },
   "outputs": [
    {
     "ename": "NameError",
     "evalue": "name 'AddressCleanserUtils' is not defined",
     "output_type": "error",
     "traceback": [
      "\u001b[0;31m---------------------------------------------------------------------------\u001b[0m",
      "\u001b[0;31mNameError\u001b[0m                                 Traceback (most recent call last)",
      "\u001b[0;32m<ipython-input-1-ad5a01bb15c5>\u001b[0m in \u001b[0;36m<module>\u001b[0;34m\u001b[0m\n\u001b[1;32m      1\u001b[0m \u001b[0;31m# AddressCleanserUtils.pbar.unregister()\u001b[0m\u001b[0;34m\u001b[0m\u001b[0;34m\u001b[0m\u001b[0;34m\u001b[0m\u001b[0m\n\u001b[1;32m      2\u001b[0m \u001b[0;34m\u001b[0m\u001b[0m\n\u001b[0;32m----> 3\u001b[0;31m \u001b[0mAddressCleanserUtils\u001b[0m\u001b[0;34m.\u001b[0m\u001b[0mwith_dask\u001b[0m         \u001b[0;34m=\u001b[0m \u001b[0;32mFalse\u001b[0m\u001b[0;34m\u001b[0m\u001b[0;34m\u001b[0m\u001b[0m\n\u001b[0m\u001b[1;32m      4\u001b[0m \u001b[0mAddressCleanserUtils\u001b[0m\u001b[0;34m.\u001b[0m\u001b[0mcheck_osm_results\u001b[0m \u001b[0;34m=\u001b[0m \u001b[0;32mTrue\u001b[0m\u001b[0;34m\u001b[0m\u001b[0;34m\u001b[0m\u001b[0m\n\u001b[1;32m      5\u001b[0m \u001b[0;34m\u001b[0m\u001b[0m\n",
      "\u001b[0;31mNameError\u001b[0m: name 'AddressCleanserUtils' is not defined"
     ]
    }
   ],
   "source": [
    "# AddressCleanserUtils.pbar.unregister()\n",
    "\n",
    "AddressCleanserUtils.with_dask         = False\n",
    "AddressCleanserUtils.check_osm_results = True\n",
    "\n",
    "AddressCleanserUtils.addr_key_field  = addr_key_field\n",
    "\n",
    "AddressCleanserUtils.regex_replacements = regex_replacements\n",
    "\n",
    "AddressCleanserUtils.use_osm_parent = use_osm_parent \n",
    "\n"
   ]
  },
  {
   "cell_type": "code",
   "execution_count": 6,
   "metadata": {
    "ExecuteTime": {
     "end_time": "2020-05-04T12:14:35.897097Z",
     "start_time": "2020-05-04T12:14:35.886166Z"
    }
   },
   "outputs": [],
   "source": [
    "import logging, os\n",
    "\n",
    "logger = logging.getLogger()\n",
    "\n",
    "# WARNING : no logs\n",
    "# INFO : a few logs\n",
    "# DEBUG : lots of logs\n",
    "\n",
    "\n",
    "env_log_level = os.getenv('LOG_LEVEL', \"MEDIUM\").upper().strip()\n",
    "if env_log_level == \"LOW\":\n",
    "    logger.setLevel(logging.WARNING)\n",
    "elif env_log_level == \"MEDIUM\":\n",
    "    logger.setLevel(logging.INFO)\n",
    "elif env_log_level == \"HIGH\":\n",
    "    logger.setLevel(logging.DEBUG)\n",
    "else :\n",
    "    print(f\"Unkown log level '{env_log_level}'. Should be LOW/MEDIUM/HIGH\")\n",
    "\n",
    "\n"
   ]
  },
  {
   "cell_type": "code",
   "execution_count": null,
   "metadata": {
    "ExecuteTime": {
     "end_time": "2019-10-28T10:28:22.896393Z",
     "start_time": "2019-10-28T10:28:17.893Z"
    }
   },
   "outputs": [],
   "source": [
    "def get_init_df(data):\n",
    "    return pd.DataFrame([{addr_key_field : \"1\",\n",
    "                          street_field:   data[\"street\"],\n",
    "                          housenbr_field: data[\"housenumber\"],\n",
    "                          postcode_field: data[\"postcode\"],\n",
    "                          city_field:     data[\"city\"],\n",
    "                          country_field:  data[\"country\"]\n",
    "                          }])\n",
    "\n"
   ]
  },
  {
   "cell_type": "code",
   "execution_count": null,
   "metadata": {
    "ExecuteTime": {
     "end_time": "2019-10-28T10:28:22.903989Z",
     "start_time": "2019-10-28T10:28:17.896Z"
    },
    "scrolled": true
   },
   "outputs": [],
   "source": [
    "def get_row_dict(row, orig=False):\n",
    "    if orig: \n",
    "        return row[\"osm_item_result\"]\n",
    "    else: \n",
    "        to_copy_field = [\"osm_id\", \"place_id\", \"lat\",\"lon\",\"display_name\", \"place_rank\", \"method\", \"extra_house_nbr\"] + list(collapse_params.keys())  + list(filter(lambda x: x.startswith(\"SIM\"), row.index))\n",
    "        res =  {}\n",
    "\n",
    "        for f in to_copy_field:\n",
    "            if f in row: \n",
    "                res[f] = row[f]\n",
    "\n",
    "        return res"
   ]
  },
  {
   "cell_type": "code",
   "execution_count": null,
   "metadata": {
    "ExecuteTime": {
     "end_time": "2019-10-28T10:28:22.912505Z",
     "start_time": "2019-10-28T10:28:17.900Z"
    }
   },
   "outputs": [],
   "source": [
    "def format_res(res):\n",
    "    return list(res.fillna(\"\").apply(lambda row: get_row_dict(row, False), axis=1))"
   ]
  },
  {
   "cell_type": "code",
   "execution_count": 1,
   "metadata": {
    "ExecuteTime": {
     "end_time": "2019-11-08T12:35:24.988064Z",
     "start_time": "2019-11-08T12:35:24.961092Z"
    },
    "run_control": {
     "marked": false
    }
   },
   "outputs": [],
   "source": [
    "transformers_sequence = [ [\"orig\"],\n",
    "                          [\"regex[init]\"],\n",
    "                          [\"nonum\"],\n",
    "                          [\"libpostal\", \"regex[lpost]\"], \n",
    "                          [\"libpostal\", \"regex[lpost]\", \"nonum\"], \n",
    "                          [\"libpostal\", \"regex[lpost]\", \"photon\"], \n",
    "                          [\"libpostal\", \"regex[lpost]\", \"photon\", \"nonum\"], \n",
    "                          [\"photon\"],\n",
    "                          [\"photon\", \"nonum\"],\n",
    "                          [\"nostreet\"]\n",
    "                        ]\n",
    "\n",
    "def process_address(data):\n",
    "    vlog(f\"Will process {data}\")\n",
    "    to_process_addresses = get_init_df(data)\n",
    "    \n",
    "    vlog(\"Got dataframe\")\n",
    "    all_reject = pd.DataFrame()\n",
    "    for transformers in transformers_sequence:\n",
    "        vlog (\"--------------------------\")\n",
    "        vlog(\"| Transformers : \" + \";\".join(transformers))\n",
    "        vlog (\"--------------------------\")\n",
    "\n",
    "        try :\n",
    "            osm_results, rejected, step_stats = transform_and_process(to_process_addresses, transformers, addr_key_field, \n",
    "                                                                      street_field=street_field, housenbr_field=housenbr_field, \n",
    "                                                                      postcode_field=postcode_field, city_field=city_field,\n",
    "                                                                      country_field=country_field)\n",
    "            \n",
    "        except Exception as e: \n",
    "            log(f\"Error during processing : {e}\")\n",
    "            traceback.print_exc(file=sys.stdout)\n",
    "            return {\"error\": str(e)}\n",
    "        \n",
    "        all_reject = all_reject.append(rejected, sort=False)\n",
    "        \n",
    "        vlog(step_stats)\n",
    "        if osm_results.shape[0] > 0:\n",
    "            osm_results = add_extra_house_number(osm_results, to_process_addresses, street_field=street_field, housenbr_field=housenbr_field)\n",
    "            \n",
    "            return {\"match\": format_res(osm_results), \"rejected\": format_res(all_reject)}\n",
    "    \n",
    "    return {\"rejected\": format_res(all_reject)}\n"
   ]
  },
  {
   "cell_type": "code",
   "execution_count": null,
   "metadata": {},
   "outputs": [],
   "source": [
    "def process_addresses(to_process_addresses):\n",
    "    \n",
    "    all_reject = pd.DataFrame()\n",
    "    for transformers in transformers_sequence:\n",
    "        vlog (\"--------------------------\")\n",
    "        vlog(\"| Transformers : \" + \";\".join(transformers))\n",
    "        vlog (\"--------------------------\")\n",
    "\n",
    "        try :\n",
    "            osm_results, rejected, step_stats = transform_and_process(to_process_addresses, transformers, addr_key_field, \n",
    "                                                                      street_field=street_field, housenbr_field=housenbr_field, \n",
    "                                                                      postcode_field=postcode_field, city_field=city_field,\n",
    "                                                                      country_field=country_field)\n",
    "        except Exception as e: \n",
    "            log(f\"Error during processing : {e}\")\n",
    "            traceback.print_exc(file=sys.stdout)\n",
    "            return {\"error\": str(e)}\n",
    "        \n",
    "        all_reject = all_reject.append(rejected, sort=False)\n",
    "        \n",
    "        vlog(step_stats)\n",
    "        if osm_results.shape[0] > 0:\n",
    "            osm_results = add_extra_house_number(osm_results, to_process_addresses, street_field=street_field, housenbr_field=housenbr_field)\n",
    "            \n",
    "            return osm_results #{\"match\": format_res(osm_results), \"rejected\": format_res(all_reject)}\n",
    "    \n",
    "    return pd.DataFrame()\n"
   ]
  },
  {
   "cell_type": "code",
   "execution_count": 2,
   "metadata": {
    "ExecuteTime": {
     "end_time": "2020-06-12T09:47:07.180649Z",
     "start_time": "2020-06-12T09:47:07.005077Z"
    },
    "run_control": {
     "marked": false
    }
   },
   "outputs": [
    {
     "ename": "NameError",
     "evalue": "name 'Flask' is not defined",
     "output_type": "error",
     "traceback": [
      "\u001b[0;31m---------------------------------------------------------------------------\u001b[0m",
      "\u001b[0;31mNameError\u001b[0m                                 Traceback (most recent call last)",
      "\u001b[0;32m<ipython-input-2-bb9d94720f1f>\u001b[0m in \u001b[0;36m<module>\u001b[0;34m\u001b[0m\n\u001b[1;32m      7\u001b[0m \u001b[0;32mimport\u001b[0m \u001b[0msys\u001b[0m\u001b[0;34m\u001b[0m\u001b[0;34m\u001b[0m\u001b[0m\n\u001b[1;32m      8\u001b[0m \u001b[0;34m\u001b[0m\u001b[0m\n\u001b[0;32m----> 9\u001b[0;31m \u001b[0mapp\u001b[0m \u001b[0;34m=\u001b[0m \u001b[0mFlask\u001b[0m\u001b[0;34m(\u001b[0m\u001b[0m__name__\u001b[0m\u001b[0;34m)\u001b[0m\u001b[0;34m\u001b[0m\u001b[0;34m\u001b[0m\u001b[0m\n\u001b[0m\u001b[1;32m     10\u001b[0m \u001b[0;34m\u001b[0m\u001b[0m\n\u001b[1;32m     11\u001b[0m \u001b[0;34m@\u001b[0m\u001b[0mapp\u001b[0m\u001b[0;34m.\u001b[0m\u001b[0mroute\u001b[0m\u001b[0;34m(\u001b[0m\u001b[0;34m'/search/'\u001b[0m\u001b[0;34m,\u001b[0m \u001b[0mmethods\u001b[0m\u001b[0;34m=\u001b[0m\u001b[0;34m[\u001b[0m\u001b[0;34m'GET'\u001b[0m\u001b[0;34m,\u001b[0m \u001b[0;34m'POST'\u001b[0m\u001b[0;34m]\u001b[0m\u001b[0;34m)\u001b[0m\u001b[0;34m\u001b[0m\u001b[0;34m\u001b[0m\u001b[0m\n",
      "\u001b[0;31mNameError\u001b[0m: name 'Flask' is not defined"
     ]
    }
   ],
   "source": [
    "def get_arg(argname, def_val):\n",
    "    if argname in request.form: \n",
    "        return request.form[argname]\n",
    "    return request.args.get(argname, def_val)\n",
    "\n",
    "\n",
    "import sys\n",
    "\n",
    "app = Flask(__name__)\n",
    "\n",
    "@app.route('/search/', methods=['GET', 'POST'])\n",
    "def search():\n",
    "#     print(\"search!\")\n",
    "\n",
    "    for k in AddressCleanserUtils.timestats:\n",
    "        AddressCleanserUtils.timestats[k]=timedelta(0)\n",
    "        \n",
    "    data= {street_field   : get_arg(\"street\", \"\"),\n",
    "           housenbr_field : get_arg(\"housenumber\", \"\"),\n",
    "           city_field     : get_arg(\"city\", \"\"),\n",
    "           postcode_field : get_arg(\"postcode\", \"\"),\n",
    "           country_field  : get_arg(\"country\", \"\"),\n",
    "\n",
    "          }\n",
    "    no_reject = get_arg(\"noreject\", False)\n",
    "   \n",
    "    res = process_address(data)\n",
    "    log(f\"Input: {data}\")\n",
    "    log(f\"Result: {res}\")\n",
    "    \n",
    "    if with_timing_info: \n",
    "        res[\"timing\"] = {k: AddressCleanserUtils.timestats[k].total_seconds() for k in AddressCleanserUtils.timestats}\n",
    "    \n",
    "    if no_reject != False:\n",
    "        del res[\"rejected\"]\n",
    "        \n",
    "    return jsonify(res)\n",
    "\n",
    "\n",
    "\n"
   ]
  },
  {
   "cell_type": "code",
   "execution_count": null,
   "metadata": {},
   "outputs": [],
   "source": [
    "# Call to this : curl -F media=@address_sample100.csv http://127.0.0.1:5000/batch/ -X POST -F mode=long\n",
    "\n",
    "@app.route('/batch/', methods=['POST'])\n",
    "def batch():\n",
    "    log(\"batch\")\n",
    "    \n",
    "    mode = \"short\"\n",
    "    if \"mode\" in request.form :\n",
    "        mode = request.form[\"mode\"]\n",
    "\n",
    "    key_name = (list(request.files.keys())[0])\n",
    "    \n",
    "    #print(request.files[0])\n",
    "    \n",
    "    df = pd.read_csv(request.files[key_name], dtype=str)\n",
    "    log(df)\n",
    "    \n",
    "    mandatory_fields = [street_field, housenbr_field , postcode_field , city_field, country_field, addr_key_field]\n",
    "    for field in mandatory_fields:\n",
    "        if field not in df: \n",
    "            return f\"Field '{field} mandatory in file. All mandatory fields are {mandatory_fields}\\n\"\n",
    "    \n",
    "    res = process_addresses(df)\n",
    "    \n",
    "    \n",
    "    if res is None or res.shape[0] == 0:\n",
    "        return '[]'\n",
    "        \n",
    "    if mode == \"geo\":\n",
    "        res = res[[addr_key_field,\"lat\", \"lon\", \"place_rank\"]]\n",
    "    elif mode == \"short\":\n",
    "        res = df.merge(res)[[addr_key_field,\n",
    "                   \"lat\", \"lon\", \"place_rank\", \n",
    "                   \"addr_out_street\", \"addr_out_number\", \"extra_house_nbr\", \"addr_out_postcode\", \"addr_out_city\",   \"addr_out_country\" ]]\n",
    "    elif mode == \"long\":\n",
    "        res = df.merge(res)\n",
    "    else:\n",
    "        return f\"Invalid mode {mode}\"\n",
    "    \n",
    "    res[\"lat\"] = res[\"lat\"].astype(float)\n",
    "    res[\"lon\"] = res[\"lon\"].astype(float)\n",
    "    \n",
    "    log(res)\n",
    "    return res.to_json(orient=\"records\")\n",
    "    #request.files:"
   ]
  },
  {
   "cell_type": "code",
   "execution_count": 3,
   "metadata": {
    "ExecuteTime": {
     "end_time": "2020-05-06T12:07:08.872564Z",
     "start_time": "2020-05-06T12:07:08.867841Z"
    }
   },
   "outputs": [],
   "source": [
    "#! jupyter nbconvert --to python AddressCleanserREST.ipynb"
   ]
  }
 ],
 "metadata": {
  "kernelspec": {
   "display_name": "Python 3",
   "language": "python",
   "name": "python3"
  },
  "language_info": {
   "codemirror_mode": {
    "name": "ipython",
    "version": 3
   },
   "file_extension": ".py",
   "mimetype": "text/x-python",
   "name": "python",
   "nbconvert_exporter": "python",
   "pygments_lexer": "ipython3",
   "version": "3.6.9"
  },
  "toc": {
   "base_numbering": 1,
   "nav_menu": {},
   "number_sections": true,
   "sideBar": true,
   "skip_h1_title": false,
   "title_cell": "Table of Contents",
   "title_sidebar": "Contents",
   "toc_cell": false,
   "toc_position": {},
   "toc_section_display": true,
   "toc_window_display": false
  },
  "varInspector": {
   "cols": {
    "lenName": 16,
    "lenType": 16,
    "lenVar": 40
   },
   "kernels_config": {
    "python": {
     "delete_cmd_postfix": "",
     "delete_cmd_prefix": "del ",
     "library": "var_list.py",
     "varRefreshCmd": "print(var_dic_list())"
    },
    "r": {
     "delete_cmd_postfix": ") ",
     "delete_cmd_prefix": "rm(",
     "library": "var_list.r",
     "varRefreshCmd": "cat(var_dic_list()) "
    }
   },
   "types_to_exclude": [
    "module",
    "function",
    "builtin_function_or_method",
    "instance",
    "_Feature"
   ],
   "window_display": false
  }
 },
 "nbformat": 4,
 "nbformat_minor": 2
}
