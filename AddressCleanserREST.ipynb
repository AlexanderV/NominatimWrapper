{
 "cells": [
  {
   "cell_type": "code",
   "execution_count": 3,
   "metadata": {
    "ExecuteTime": {
     "end_time": "2019-11-07T12:12:01.049627Z",
     "start_time": "2019-11-07T12:12:00.281000Z"
    },
    "run_control": {
     "marked": true
    },
    "scrolled": true
   },
   "outputs": [],
   "source": [
    "from flask import Flask,  request,jsonify\n",
    "\n",
    "import pandas as pd\n",
    "\n",
    "import os\n",
    "\n",
    "from  importlib import reload\n",
    "import AddressCleanserUtils\n",
    "reload(AddressCleanserUtils)\n",
    "from AddressCleanserUtils import *\n",
    "\n",
    "from IPython.display import display\n",
    "\n",
    "import sys, traceback\n",
    "\n",
    "from datetime import datetime, timedelta\n"
   ]
  },
  {
   "cell_type": "code",
   "execution_count": null,
   "metadata": {},
   "outputs": [],
   "source": [
    "import config_REST\n",
    "reload(config_REST)\n",
    "from config_REST import *"
   ]
  },
  {
   "cell_type": "code",
   "execution_count": null,
   "metadata": {
    "ExecuteTime": {
     "end_time": "2019-11-07T12:03:49.031343Z",
     "start_time": "2019-11-07T12:04:22.067Z"
    },
    "scrolled": true
   },
   "outputs": [],
   "source": [
    "# TO RUN : \n",
    "# jupyter nbconvert --to python AddressCleanserREST.ipynb\n",
    "# export  FLASK_APP=AddressCleanserREST.py ; export  FLASK_ENV=development ;  flask   run  \n",
    "\n",
    "# OR : \n",
    "# gunicorn -w 8 -b 127.0.0.1:5000 wsgi:app\n"
   ]
  },
  {
   "cell_type": "code",
   "execution_count": null,
   "metadata": {
    "ExecuteTime": {
     "end_time": "2019-11-07T12:03:49.063598Z",
     "start_time": "2019-11-07T12:04:22.721Z"
    }
   },
   "outputs": [],
   "source": [
    "# !jupyter nbconvert --to python AddressCleanserREST.ipynb"
   ]
  },
  {
   "cell_type": "code",
   "execution_count": null,
   "metadata": {
    "ExecuteTime": {
     "end_time": "2019-11-07T12:03:49.087021Z",
     "start_time": "2019-11-07T12:04:23.784Z"
    }
   },
   "outputs": [],
   "source": [
    "# AddressCleanserUtils.pbar.unregister()\n",
    "\n",
    "AddressCleanserUtils.with_dask         = False\n",
    "AddressCleanserUtils.check_osm_results = True\n",
    "\n",
    "AddressCleanserUtils.street_field    = street_field\n",
    "AddressCleanserUtils.housenbr_field  = housenbr_field\n",
    "AddressCleanserUtils.city_field      = city_field\n",
    "AddressCleanserUtils.postcode_field  = postcode_field\n",
    "\n",
    "AddressCleanserUtils.addr_key_field  = addr_key_field\n",
    "\n",
    "AddressCleanserUtils.regex_replacements = regex_replacements\n",
    "\n",
    "AddressCleanserUtils.use_osm_parent = use_osm_parent \n",
    "\n",
    "# if 'OSM_HOST' in os.environ: \n",
    "    \n",
    "#     AddressCleanserUtils.osm_host = os.environ['OSM_HOST']\n",
    "#     print(\"Get OSM Host from env variables : \", AddressCleanserUtils.osm_host )\n",
    "# else: \n",
    "#     print(\"OSM_HOST not in env variables\")"
   ]
  },
  {
   "cell_type": "code",
   "execution_count": null,
   "metadata": {
    "ExecuteTime": {
     "end_time": "2019-10-28T10:28:22.877633Z",
     "start_time": "2019-10-28T10:28:17.889Z"
    }
   },
   "outputs": [],
   "source": [
    "import logging\n",
    "\n",
    "logger = logging.getLogger()\n",
    "logger.setLevel(logging.DEBUG)\n"
   ]
  },
  {
   "cell_type": "code",
   "execution_count": null,
   "metadata": {
    "ExecuteTime": {
     "end_time": "2019-10-28T10:28:22.896393Z",
     "start_time": "2019-10-28T10:28:17.893Z"
    }
   },
   "outputs": [],
   "source": [
    "\n",
    "def get_init_df(data):\n",
    "    return pd.DataFrame([{addr_key_field : \"1\",\n",
    "                          street_field: data[\"street\"],\n",
    "                          housenbr_field: data[\"housenumber\"],\n",
    "                          postcode_field: data[\"postcode\"],\n",
    "                          city_field: data[\"city\"]\n",
    "                          }])\n",
    "\n"
   ]
  },
  {
   "cell_type": "code",
   "execution_count": null,
   "metadata": {
    "ExecuteTime": {
     "end_time": "2019-10-28T10:28:22.903989Z",
     "start_time": "2019-10-28T10:28:17.896Z"
    },
    "scrolled": true
   },
   "outputs": [],
   "source": [
    "def get_row_dict(row, orig=False):\n",
    "    if orig: \n",
    "        return row[\"osm_item_result\"]\n",
    "    else: \n",
    "        to_copy_field = [\"osm_id\", \"lat\",\"lon\",\"display_name\", \"place_rank\", \"method\", \"extra_house_nbr\"] + list(collapse_params.keys())  + list(filter(lambda x: x.startswith(\"SIM\"), row.index))\n",
    "        res =  {}\n",
    "\n",
    "        for f in to_copy_field:\n",
    "            if f in row: \n",
    "                res[f] = row[f]\n",
    "\n",
    "        return res\n",
    "    \n"
   ]
  },
  {
   "cell_type": "code",
   "execution_count": null,
   "metadata": {
    "ExecuteTime": {
     "end_time": "2019-10-28T10:28:22.912505Z",
     "start_time": "2019-10-28T10:28:17.900Z"
    }
   },
   "outputs": [],
   "source": [
    "def format_res(res):\n",
    "    return list(res.fillna(\"\").apply(lambda row: get_row_dict(row, False), axis=1))"
   ]
  },
  {
   "cell_type": "code",
   "execution_count": 1,
   "metadata": {
    "ExecuteTime": {
     "end_time": "2019-11-08T12:35:24.988064Z",
     "start_time": "2019-11-08T12:35:24.961092Z"
    }
   },
   "outputs": [],
   "source": [
    "def process_address(data):\n",
    "    vlog(f\"Will process {data}\")\n",
    "    to_process_addresses = get_init_df(data)\n",
    "    \n",
    "    vlog(\"Got dataframe\")\n",
    "    all_reject = pd.DataFrame()\n",
    "    for transformers in [ [\"orig\"],\n",
    "                          [\"regex[init]\"],\n",
    "                          [\"nonum\"],\n",
    "                          [\"libpostal\", \"regex[lpost]\"], \n",
    "                          [\"libpostal\", \"regex[lpost]\", \"nonum\"], \n",
    "                          [\"libpostal\", \"regex[lpost]\", \"photon\"], \n",
    "                          [\"libpostal\", \"regex[lpost]\", \"photon\", \"nonum\"], \n",
    "                          [\"photon\"],\n",
    "                          [\"photon\", \"nonum\"]]:\n",
    "        log (\"--------------------------\")\n",
    "        log(\"| Transformers : \" + \";\".join(transformers))\n",
    "        log (\"--------------------------\")\n",
    "\n",
    "        try :\n",
    "            osm_results, rejected, step_stats = transform_and_process(to_process_addresses, transformers, addr_key_field, street_field, housenbr_field, city_field, postcode_field)\n",
    "        except Exception as e: \n",
    "            log(f\"Error during processing : {e}\")\n",
    "            traceback.print_exc(file=sys.stdout)\n",
    "            return {\"error\": str(e)}\n",
    "        \n",
    "        all_reject = all_reject.append(rejected, sort=False)\n",
    "        \n",
    "        log(step_stats)\n",
    "        if osm_results.shape[0] > 0:\n",
    "            osm_results = add_extra_house_number(osm_results, to_process_addresses, street_field=street_field, housenbr_field=housenbr_field)\n",
    "            \n",
    "            return {\"match\": format_res(osm_results), \"rejected\": format_res(all_reject)}\n",
    "    \n",
    "    return {\"rejected\": format_res(all_reject)}\n"
   ]
  },
  {
   "cell_type": "code",
   "execution_count": null,
   "metadata": {
    "run_control": {
     "marked": false
    }
   },
   "outputs": [],
   "source": [
    "def get_arg(argname, def_val):\n",
    "    if argname in request.form: \n",
    "        return request.form[argname]\n",
    "    return request.args.get(argname, def_val)\n",
    "\n",
    "\n",
    "import sys\n",
    "\n",
    "app = Flask(__name__)\n",
    "\n",
    "@app.route('/search/', methods=['GET', 'POST'])\n",
    "def search():\n",
    "#     print(\"search!\")\n",
    "\n",
    "    for k in AddressCleanserUtils.timestats:\n",
    "        AddressCleanserUtils.timestats[k]=timedelta(0)\n",
    "        \n",
    "    data= {\"street\"      : get_arg(\"street\", \"\"),\n",
    "           \"housenumber\" : get_arg(\"housenumber\", \"\"),\n",
    "           \"city\"        : get_arg(\"city\", \"\"),\n",
    "           \"postcode\"    : get_arg(\"postcode\", \"\")          \n",
    "          }\n",
    "    res = process_address(data)\n",
    "    log(f\"Input: {data}\")\n",
    "    log(f\"Result: {res}\")\n",
    "    \n",
    "    res[\"timing\"] = {k: AddressCleanserUtils.timestats[k].total_seconds() for k in AddressCleanserUtils.timestats}\n",
    "    \n",
    "    return jsonify(res)\n",
    "\n",
    "\n",
    "\n"
   ]
  }
 ],
 "metadata": {
  "kernelspec": {
   "display_name": "Python 3",
   "language": "python",
   "name": "python3"
  },
  "language_info": {
   "codemirror_mode": {
    "name": "ipython",
    "version": 3
   },
   "file_extension": ".py",
   "mimetype": "text/x-python",
   "name": "python",
   "nbconvert_exporter": "python",
   "pygments_lexer": "ipython3",
   "version": "3.7.4"
  },
  "toc": {
   "base_numbering": 1,
   "nav_menu": {},
   "number_sections": true,
   "sideBar": true,
   "skip_h1_title": false,
   "title_cell": "Table of Contents",
   "title_sidebar": "Contents",
   "toc_cell": false,
   "toc_position": {},
   "toc_section_display": true,
   "toc_window_display": false
  },
  "varInspector": {
   "cols": {
    "lenName": 16,
    "lenType": 16,
    "lenVar": 40
   },
   "kernels_config": {
    "python": {
     "delete_cmd_postfix": "",
     "delete_cmd_prefix": "del ",
     "library": "var_list.py",
     "varRefreshCmd": "print(var_dic_list())"
    },
    "r": {
     "delete_cmd_postfix": ") ",
     "delete_cmd_prefix": "rm(",
     "library": "var_list.r",
     "varRefreshCmd": "cat(var_dic_list()) "
    }
   },
   "types_to_exclude": [
    "module",
    "function",
    "builtin_function_or_method",
    "instance",
    "_Feature"
   ],
   "window_display": false
  }
 },
 "nbformat": 4,
 "nbformat_minor": 2
}
