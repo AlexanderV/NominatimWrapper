{
 "cells": [
  {
   "cell_type": "code",
   "execution_count": 1,
   "metadata": {
    "ExecuteTime": {
     "end_time": "2020-09-30T12:09:25.218799Z",
     "start_time": "2020-09-30T12:09:23.821739Z"
    }
   },
   "outputs": [],
   "source": [
    "import pandas as pd\n",
    "import urllib\n",
    "\n",
    "import numpy as np\n",
    "\n",
    "import json\n",
    "\n",
    "import tqdm\n",
    "\n",
    "#%matplotlib inline\n",
    "\n",
    "tqdm.tqdm.pandas(tqdm)\n",
    "\n",
    "import dask.dataframe as dd\n",
    "\n",
    "from dask.multiprocessing import get\n",
    "from dask.diagnostics import ProgressBar\n",
    "\n",
    "from datetime import datetime\n",
    "import matplotlib.pyplot as plt\n",
    "\n",
    "from IPython.display import display\n"
   ]
  },
  {
   "cell_type": "code",
   "execution_count": 2,
   "metadata": {
    "ExecuteTime": {
     "end_time": "2020-09-30T12:09:25.336196Z",
     "start_time": "2020-09-30T12:09:25.221797Z"
    }
   },
   "outputs": [],
   "source": [
    "import urllib3"
   ]
  },
  {
   "cell_type": "code",
   "execution_count": 3,
   "metadata": {
    "ExecuteTime": {
     "end_time": "2020-09-30T12:09:25.351280Z",
     "start_time": "2020-09-30T12:09:25.340810Z"
    }
   },
   "outputs": [],
   "source": [
    "http = urllib3.PoolManager()"
   ]
  },
  {
   "cell_type": "code",
   "execution_count": 5,
   "metadata": {
    "ExecuteTime": {
     "end_time": "2020-09-30T12:09:34.678344Z",
     "start_time": "2020-09-30T12:09:34.671373Z"
    }
   },
   "outputs": [],
   "source": [
    "from config_batch import * "
   ]
  },
  {
   "cell_type": "markdown",
   "metadata": {
    "ExecuteTime": {
     "end_time": "2020-05-06T13:50:43.162875Z",
     "start_time": "2020-05-06T13:50:43.151794Z"
    }
   },
   "source": [
    "# Functions"
   ]
  },
  {
   "cell_type": "code",
   "execution_count": 8,
   "metadata": {
    "ExecuteTime": {
     "end_time": "2020-09-30T12:10:15.663639Z",
     "start_time": "2020-09-30T12:10:15.657123Z"
    }
   },
   "outputs": [],
   "source": [
    "ws_hostname = \"127.0.0.1\""
   ]
  },
  {
   "cell_type": "code",
   "execution_count": 9,
   "metadata": {
    "ExecuteTime": {
     "end_time": "2020-09-30T12:10:16.122297Z",
     "start_time": "2020-09-30T12:10:16.109142Z"
    }
   },
   "outputs": [],
   "source": [
    "def call_ws(addr_data): #lg = \"en,fr,nl\"\n",
    "    t = datetime.now()\n",
    "    \n",
    "    params = urllib.parse.urlencode({\"street\": addr_data[street_field],\n",
    "                                     \"housenumber\": addr_data[housenbr_field],\n",
    "                                     \"city\": addr_data[city_field],\n",
    "                                     \"postcode\": addr_data[postcode_field],\n",
    "                                     \"country\": addr_data[country_field],\n",
    "                                    })\n",
    "    url = f\"http://{ws_hostname}:5000/search/?{params}\"\n",
    "    \n",
    "    \n",
    "    try:\n",
    "        with urllib.request.urlopen(url) as response:\n",
    "            res = response.read()\n",
    "            res = json.loads(res)\n",
    "#             print(res)\n",
    "            res[\"time\"] = datetime.now() - t\n",
    "            return res\n",
    "    except Exception as e:\n",
    "        return str(e)\n",
    "    "
   ]
  },
  {
   "cell_type": "code",
   "execution_count": 10,
   "metadata": {
    "ExecuteTime": {
     "end_time": "2020-09-30T12:10:16.564765Z",
     "start_time": "2020-09-30T12:10:16.551074Z"
    }
   },
   "outputs": [],
   "source": [
    "def call_ws_batch(addr_data, mode=\"geo\"): #lg = \"en,fr,nl\"\n",
    "#     print(addr_data)\n",
    "#     print(addr_data.shape)\n",
    "#     print()\n",
    "    file_data = addr_data.rename(columns = {\n",
    "        street_field : \"street\",\n",
    "        housenbr_field: \"housenumber\",\n",
    "        postcode_field: \"postcode\",\n",
    "        city_field: \"city\",\n",
    "        country_field: \"country\",\n",
    "        addr_key_field : \"addr_key\"}).to_csv(index=False)\n",
    "    \n",
    "    r = http.request(\n",
    "    'POST',\n",
    "    f'http://{ws_hostname}:5000/batch',\n",
    "    fields= { \n",
    "        'media': ('addresses.csv', file_data),\n",
    "        'mode': mode\n",
    "    })\n",
    "    \n",
    "    res = pd.DataFrame(json.loads(r.data.decode('utf-8')))\n",
    "#     display(res)\n",
    "    return res"
   ]
  },
  {
   "cell_type": "code",
   "execution_count": 26,
   "metadata": {
    "ExecuteTime": {
     "end_time": "2020-09-30T12:54:54.380442Z",
     "start_time": "2020-09-30T12:54:54.364630Z"
    }
   },
   "outputs": [],
   "source": [
    "def expand_json(addresses):\n",
    "    addresses[\"status\"]= addresses.json.apply(lambda d: \"error\" if \"error\" in d else \"match\" if \"match\" in d else \"rejected\")\n",
    "    addresses[\"time\"]  = addresses.json.apply(lambda d: d[\"time\"])\n",
    "\n",
    "    addresses[\"timing\"]  = addresses.json.apply(lambda d: d[\"timing\"] if \"timing\" in d else {})\n",
    "\n",
    "    addresses[\"method\"]= addresses.json.apply(lambda d: d[\"match\"][0][\"method\"] if len(d)>0 and \"match\" in d else \"none\")\n",
    "    \n",
    "    for field in [\"street\", \"number\", \"postcode\", \"city\"]:\n",
    "        addresses[field]= addresses.json.apply(lambda d: d[\"match\"][0][\"addr_out_\"+field] if len(d)>0 and \"match\" in d else \"\")\n",
    "    return "
   ]
  },
  {
   "cell_type": "markdown",
   "metadata": {},
   "source": [
    "# Calls"
   ]
  },
  {
   "cell_type": "markdown",
   "metadata": {
    "ExecuteTime": {
     "end_time": "2020-09-30T09:57:35.286293Z",
     "start_time": "2020-09-30T09:57:35.281457Z"
    }
   },
   "source": [
    "## Single address calls"
   ]
  },
  {
   "cell_type": "code",
   "execution_count": 12,
   "metadata": {
    "ExecuteTime": {
     "end_time": "2020-09-30T11:52:18.750411Z",
     "start_time": "2020-09-30T11:52:17.855319Z"
    },
    "scrolled": true
   },
   "outputs": [
    {
     "data": {
      "text/plain": [
       "{'match': [{'SIM_street': 1.0,\n",
       "   'SIM_street_which': 'addr_out_street',\n",
       "   'addr_out_city': 'Saint-Gilles - Sint-Gillis',\n",
       "   'addr_out_country': 'België / Belgique / Belgien',\n",
       "   'addr_out_number': '20',\n",
       "   'addr_out_postcode': '',\n",
       "   'addr_out_street': 'Avenue Fonsny - Fonsnylaan',\n",
       "   'display_name': 'DAE (Smals), 20, Avenue Fonsny - Fonsnylaan, Saint-Gilles - Sint-Gillis, Brussel-Hoofdstad - Bruxelles-Capitale, Région de Bruxelles-Capitale - Brussels Hoofdstedelijk Gewest, België / Belgique / Belgien',\n",
       "   'extra_house_nbr': '20',\n",
       "   'lat': '50.8358216',\n",
       "   'lon': '4.3386884',\n",
       "   'method': 'orig',\n",
       "   'place_id': 343087,\n",
       "   'place_rank': 30}],\n",
       " 'rejected': [{'SIM_city': 0.46153846153846156,\n",
       "   'SIM_house_nbr': 1.0,\n",
       "   'SIM_street': 1.0,\n",
       "   'SIM_street_which': 'addr_out_street',\n",
       "   'SIM_zip': 0.1,\n",
       "   'addr_out_city': 'Saint-Gilles - Sint-Gillis',\n",
       "   'addr_out_country': 'België / Belgique / Belgien',\n",
       "   'addr_out_number': '20',\n",
       "   'addr_out_postcode': '',\n",
       "   'addr_out_street': 'Avenue Fonsny - Fonsnylaan',\n",
       "   'display_name': '20, Avenue Fonsny - Fonsnylaan, Saint-Gilles - Sint-Gillis, Brussel-Hoofdstad - Bruxelles-Capitale, Région de Bruxelles-Capitale - Brussels Hoofdstedelijk Gewest, België / Belgique / Belgien',\n",
       "   'lat': '50.8358677',\n",
       "   'lon': '4.3385087',\n",
       "   'method': 'orig',\n",
       "   'place_id': 373534,\n",
       "   'place_rank': 30}],\n",
       " 'time': datetime.timedelta(0, 0, 884061)}"
      ]
     },
     "execution_count": 12,
     "metadata": {},
     "output_type": "execute_result"
    }
   ],
   "source": [
    "call_ws({street_field: \"Av. Fonsny\", \n",
    "          housenbr_field: \"20\",\n",
    "          city_field: \"Saint-Gilles\",\n",
    "          postcode_field:  \"1060\",\n",
    "          country_field: \"Belgium\"})"
   ]
  },
  {
   "cell_type": "markdown",
   "metadata": {},
   "source": [
    "## Batch calls (row by row)"
   ]
  },
  {
   "cell_type": "code",
   "execution_count": 6,
   "metadata": {
    "ExecuteTime": {
     "end_time": "2020-09-30T12:09:54.563961Z",
     "start_time": "2020-09-30T12:09:38.513819Z"
    }
   },
   "outputs": [],
   "source": [
    "addresses = get_addresses(\"address.csv.gz\")\n",
    "addresses = addresses.sample(100).copy()"
   ]
  },
  {
   "cell_type": "markdown",
   "metadata": {},
   "source": [
    "### Simple way"
   ]
  },
  {
   "cell_type": "code",
   "execution_count": 29,
   "metadata": {
    "ExecuteTime": {
     "end_time": "2020-09-30T12:58:02.527694Z",
     "start_time": "2020-09-30T12:56:00.358549Z"
    }
   },
   "outputs": [
    {
     "name": "stderr",
     "output_type": "stream",
     "text": [
      "100%|██████████| 100/100 [02:02<00:00,  1.22s/it]\n"
     ]
    }
   ],
   "source": [
    "addresses[\"json\"] = addresses.progress_apply(call_ws, axis=1)"
   ]
  },
  {
   "cell_type": "markdown",
   "metadata": {
    "ExecuteTime": {
     "end_time": "2020-09-30T10:03:50.368838Z",
     "start_time": "2020-09-30T10:03:50.364575Z"
    }
   },
   "source": [
    "### Using Dask"
   ]
  },
  {
   "cell_type": "code",
   "execution_count": 17,
   "metadata": {
    "ExecuteTime": {
     "end_time": "2020-09-30T11:57:50.598137Z",
     "start_time": "2020-09-30T11:55:46.159401Z"
    }
   },
   "outputs": [
    {
     "name": "stdout",
     "output_type": "stream",
     "text": [
      "[########################################] | 100% Completed |  2min  4.4s\n"
     ]
    }
   ],
   "source": [
    "dd_addresses = dd.from_pandas(addresses, npartitions=4)\n",
    "\n",
    "dask_task = dd_addresses.apply(call_ws, meta=('x', 'str'), axis=1)\n",
    "\n",
    "with ProgressBar(): \n",
    "    addresses[\"json\"] = dask_task.compute()"
   ]
  },
  {
   "cell_type": "code",
   "execution_count": 30,
   "metadata": {
    "ExecuteTime": {
     "end_time": "2020-09-30T12:58:56.882229Z",
     "start_time": "2020-09-30T12:58:56.845726Z"
    }
   },
   "outputs": [],
   "source": [
    "expand_json(addresses)"
   ]
  },
  {
   "cell_type": "markdown",
   "metadata": {
    "ExecuteTime": {
     "end_time": "2020-09-30T10:09:38.533274Z",
     "start_time": "2020-09-30T10:09:38.528729Z"
    }
   },
   "source": [
    "## Batch calls (batch WS)"
   ]
  },
  {
   "cell_type": "markdown",
   "metadata": {
    "ExecuteTime": {
     "end_time": "2020-09-30T10:13:11.087024Z",
     "start_time": "2020-09-30T10:13:11.082413Z"
    }
   },
   "source": [
    "### Single block"
   ]
  },
  {
   "cell_type": "code",
   "execution_count": 18,
   "metadata": {
    "ExecuteTime": {
     "end_time": "2020-09-30T11:58:05.473441Z",
     "start_time": "2020-09-30T11:57:58.695530Z"
    },
    "scrolled": true
   },
   "outputs": [
    {
     "data": {
      "text/html": [
       "<div>\n",
       "<style scoped>\n",
       "    .dataframe tbody tr th:only-of-type {\n",
       "        vertical-align: middle;\n",
       "    }\n",
       "\n",
       "    .dataframe tbody tr th {\n",
       "        vertical-align: top;\n",
       "    }\n",
       "\n",
       "    .dataframe thead th {\n",
       "        text-align: right;\n",
       "    }\n",
       "</style>\n",
       "<table border=\"1\" class=\"dataframe\">\n",
       "  <thead>\n",
       "    <tr style=\"text-align: right;\">\n",
       "      <th></th>\n",
       "      <th>addr_key</th>\n",
       "      <th>lat</th>\n",
       "      <th>lon</th>\n",
       "      <th>place_rank</th>\n",
       "    </tr>\n",
       "  </thead>\n",
       "  <tbody>\n",
       "    <tr>\n",
       "      <th>0</th>\n",
       "      <td>0400.973.848</td>\n",
       "      <td>51.026373</td>\n",
       "      <td>4.983889</td>\n",
       "      <td>30</td>\n",
       "    </tr>\n",
       "    <tr>\n",
       "      <th>1</th>\n",
       "      <td>0422.478.847</td>\n",
       "      <td>51.247551</td>\n",
       "      <td>4.457435</td>\n",
       "      <td>30</td>\n",
       "    </tr>\n",
       "    <tr>\n",
       "      <th>2</th>\n",
       "      <td>0424.894.543</td>\n",
       "      <td>50.867108</td>\n",
       "      <td>3.442699</td>\n",
       "      <td>26</td>\n",
       "    </tr>\n",
       "    <tr>\n",
       "      <th>3</th>\n",
       "      <td>0436.293.924</td>\n",
       "      <td>51.203257</td>\n",
       "      <td>3.208497</td>\n",
       "      <td>30</td>\n",
       "    </tr>\n",
       "    <tr>\n",
       "      <th>4</th>\n",
       "      <td>0441.670.494</td>\n",
       "      <td>50.831226</td>\n",
       "      <td>4.335429</td>\n",
       "      <td>30</td>\n",
       "    </tr>\n",
       "    <tr>\n",
       "      <th>...</th>\n",
       "      <td>...</td>\n",
       "      <td>...</td>\n",
       "      <td>...</td>\n",
       "      <td>...</td>\n",
       "    </tr>\n",
       "    <tr>\n",
       "      <th>80</th>\n",
       "      <td>2.276.229.417</td>\n",
       "      <td>50.927358</td>\n",
       "      <td>5.358747</td>\n",
       "      <td>26</td>\n",
       "    </tr>\n",
       "    <tr>\n",
       "      <th>81</th>\n",
       "      <td>2.278.033.815</td>\n",
       "      <td>51.155505</td>\n",
       "      <td>3.981056</td>\n",
       "      <td>30</td>\n",
       "    </tr>\n",
       "    <tr>\n",
       "      <th>82</th>\n",
       "      <td>2.279.759.524</td>\n",
       "      <td>51.057200</td>\n",
       "      <td>4.663296</td>\n",
       "      <td>30</td>\n",
       "    </tr>\n",
       "    <tr>\n",
       "      <th>83</th>\n",
       "      <td>2.279.978.862</td>\n",
       "      <td>50.747870</td>\n",
       "      <td>4.350929</td>\n",
       "      <td>26</td>\n",
       "    </tr>\n",
       "    <tr>\n",
       "      <th>84</th>\n",
       "      <td>2.281.634.493</td>\n",
       "      <td>51.207883</td>\n",
       "      <td>4.425999</td>\n",
       "      <td>30</td>\n",
       "    </tr>\n",
       "  </tbody>\n",
       "</table>\n",
       "<p>85 rows × 4 columns</p>\n",
       "</div>"
      ],
      "text/plain": [
       "         addr_key        lat       lon  place_rank\n",
       "0    0400.973.848  51.026373  4.983889          30\n",
       "1    0422.478.847  51.247551  4.457435          30\n",
       "2    0424.894.543  50.867108  3.442699          26\n",
       "3    0436.293.924  51.203257  3.208497          30\n",
       "4    0441.670.494  50.831226  4.335429          30\n",
       "..            ...        ...       ...         ...\n",
       "80  2.276.229.417  50.927358  5.358747          26\n",
       "81  2.278.033.815  51.155505  3.981056          30\n",
       "82  2.279.759.524  51.057200  4.663296          30\n",
       "83  2.279.978.862  50.747870  4.350929          26\n",
       "84  2.281.634.493  51.207883  4.425999          30\n",
       "\n",
       "[85 rows x 4 columns]"
      ]
     },
     "execution_count": 18,
     "metadata": {},
     "output_type": "execute_result"
    }
   ],
   "source": [
    "# Only geocoding\n",
    "call_ws_batch(addresses)"
   ]
  },
  {
   "cell_type": "code",
   "execution_count": 19,
   "metadata": {
    "ExecuteTime": {
     "end_time": "2020-09-30T11:58:26.011226Z",
     "start_time": "2020-09-30T11:58:18.985625Z"
    },
    "scrolled": true
   },
   "outputs": [
    {
     "data": {
      "text/html": [
       "<div>\n",
       "<style scoped>\n",
       "    .dataframe tbody tr th:only-of-type {\n",
       "        vertical-align: middle;\n",
       "    }\n",
       "\n",
       "    .dataframe tbody tr th {\n",
       "        vertical-align: top;\n",
       "    }\n",
       "\n",
       "    .dataframe thead th {\n",
       "        text-align: right;\n",
       "    }\n",
       "</style>\n",
       "<table border=\"1\" class=\"dataframe\">\n",
       "  <thead>\n",
       "    <tr style=\"text-align: right;\">\n",
       "      <th></th>\n",
       "      <th>addr_key</th>\n",
       "      <th>lat</th>\n",
       "      <th>lon</th>\n",
       "      <th>place_rank</th>\n",
       "      <th>addr_out_street</th>\n",
       "      <th>addr_out_number</th>\n",
       "      <th>extra_house_nbr</th>\n",
       "      <th>addr_out_postcode</th>\n",
       "      <th>addr_out_city</th>\n",
       "      <th>addr_out_country</th>\n",
       "    </tr>\n",
       "  </thead>\n",
       "  <tbody>\n",
       "    <tr>\n",
       "      <th>0</th>\n",
       "      <td>0844.841.789</td>\n",
       "      <td>51.062821</td>\n",
       "      <td>3.689577</td>\n",
       "      <td>30</td>\n",
       "      <td>Perzikstraat</td>\n",
       "      <td>49</td>\n",
       "      <td>49</td>\n",
       "      <td>9000</td>\n",
       "      <td>Gent</td>\n",
       "      <td>België / Belgique / Belgien</td>\n",
       "    </tr>\n",
       "    <tr>\n",
       "      <th>1</th>\n",
       "      <td>2.279.978.862</td>\n",
       "      <td>50.747870</td>\n",
       "      <td>4.350929</td>\n",
       "      <td>26</td>\n",
       "      <td>Stationsstraat - Rue de la Station</td>\n",
       "      <td>None</td>\n",
       "      <td>148</td>\n",
       "      <td>1640</td>\n",
       "      <td>Sint-Genesius-Rode</td>\n",
       "      <td>België / Belgique / Belgien</td>\n",
       "    </tr>\n",
       "    <tr>\n",
       "      <th>2</th>\n",
       "      <td>0455.446.969</td>\n",
       "      <td>50.585042</td>\n",
       "      <td>4.355348</td>\n",
       "      <td>26</td>\n",
       "      <td>Rue de l'Industrie</td>\n",
       "      <td>None</td>\n",
       "      <td>30</td>\n",
       "      <td>1400</td>\n",
       "      <td>Nivelles</td>\n",
       "      <td>België / Belgique / Belgien</td>\n",
       "    </tr>\n",
       "    <tr>\n",
       "      <th>3</th>\n",
       "      <td>2.241.495.992</td>\n",
       "      <td>50.854845</td>\n",
       "      <td>4.336434</td>\n",
       "      <td>30</td>\n",
       "      <td>Rue de l'École - Schoolstraat</td>\n",
       "      <td>6</td>\n",
       "      <td>6</td>\n",
       "      <td>1080</td>\n",
       "      <td>Molenbeek-Saint-Jean - Sint-Jans-Molenbeek</td>\n",
       "      <td>België / Belgique / Belgien</td>\n",
       "    </tr>\n",
       "    <tr>\n",
       "      <th>4</th>\n",
       "      <td>0890.360.426</td>\n",
       "      <td>50.841763</td>\n",
       "      <td>4.377404</td>\n",
       "      <td>26</td>\n",
       "      <td>Rue De Pascale - De Pascalestraat</td>\n",
       "      <td>None</td>\n",
       "      <td>4-6</td>\n",
       "      <td>1000</td>\n",
       "      <td>BXL</td>\n",
       "      <td>België / Belgique / Belgien</td>\n",
       "    </tr>\n",
       "    <tr>\n",
       "      <th>...</th>\n",
       "      <td>...</td>\n",
       "      <td>...</td>\n",
       "      <td>...</td>\n",
       "      <td>...</td>\n",
       "      <td>...</td>\n",
       "      <td>...</td>\n",
       "      <td>...</td>\n",
       "      <td>...</td>\n",
       "      <td>...</td>\n",
       "      <td>...</td>\n",
       "    </tr>\n",
       "    <tr>\n",
       "      <th>80</th>\n",
       "      <td>2.245.941.562</td>\n",
       "      <td>50.568372</td>\n",
       "      <td>4.171773</td>\n",
       "      <td>26</td>\n",
       "      <td>Rue de la Marlière</td>\n",
       "      <td>None</td>\n",
       "      <td>6</td>\n",
       "      <td>7190</td>\n",
       "      <td>Écaussinnes</td>\n",
       "      <td>België / Belgique / Belgien</td>\n",
       "    </tr>\n",
       "    <tr>\n",
       "      <th>81</th>\n",
       "      <td>2.251.400.781</td>\n",
       "      <td>50.490712</td>\n",
       "      <td>5.103314</td>\n",
       "      <td>26</td>\n",
       "      <td>Rue du Pré des Dames</td>\n",
       "      <td>None</td>\n",
       "      <td>61</td>\n",
       "      <td>5300</td>\n",
       "      <td>Andenne</td>\n",
       "      <td>België / Belgique / Belgien</td>\n",
       "    </tr>\n",
       "    <tr>\n",
       "      <th>82</th>\n",
       "      <td>0422.478.847</td>\n",
       "      <td>51.247551</td>\n",
       "      <td>4.457435</td>\n",
       "      <td>30</td>\n",
       "      <td>Oudebareellei</td>\n",
       "      <td>79-81</td>\n",
       "      <td>79</td>\n",
       "      <td>2170</td>\n",
       "      <td>Schoten</td>\n",
       "      <td>België / Belgique / Belgien</td>\n",
       "    </tr>\n",
       "    <tr>\n",
       "      <th>83</th>\n",
       "      <td>0693.673.229</td>\n",
       "      <td>50.647252</td>\n",
       "      <td>4.419385</td>\n",
       "      <td>26</td>\n",
       "      <td>Chaussée de Bruxelles</td>\n",
       "      <td>None</td>\n",
       "      <td>27</td>\n",
       "      <td>1472</td>\n",
       "      <td>Genappe</td>\n",
       "      <td>België / Belgique / Belgien</td>\n",
       "    </tr>\n",
       "    <tr>\n",
       "      <th>84</th>\n",
       "      <td>0707.588.472</td>\n",
       "      <td>51.233237</td>\n",
       "      <td>4.569509</td>\n",
       "      <td>30</td>\n",
       "      <td>Mastendreef</td>\n",
       "      <td>11</td>\n",
       "      <td>11</td>\n",
       "      <td>2970</td>\n",
       "      <td>Schilde</td>\n",
       "      <td>België / Belgique / Belgien</td>\n",
       "    </tr>\n",
       "  </tbody>\n",
       "</table>\n",
       "<p>85 rows × 10 columns</p>\n",
       "</div>"
      ],
      "text/plain": [
       "         addr_key        lat       lon  place_rank  \\\n",
       "0    0844.841.789  51.062821  3.689577          30   \n",
       "1   2.279.978.862  50.747870  4.350929          26   \n",
       "2    0455.446.969  50.585042  4.355348          26   \n",
       "3   2.241.495.992  50.854845  4.336434          30   \n",
       "4    0890.360.426  50.841763  4.377404          26   \n",
       "..            ...        ...       ...         ...   \n",
       "80  2.245.941.562  50.568372  4.171773          26   \n",
       "81  2.251.400.781  50.490712  5.103314          26   \n",
       "82   0422.478.847  51.247551  4.457435          30   \n",
       "83   0693.673.229  50.647252  4.419385          26   \n",
       "84   0707.588.472  51.233237  4.569509          30   \n",
       "\n",
       "                       addr_out_street addr_out_number extra_house_nbr  \\\n",
       "0                         Perzikstraat              49              49   \n",
       "1   Stationsstraat - Rue de la Station            None             148   \n",
       "2                   Rue de l'Industrie            None              30   \n",
       "3        Rue de l'École - Schoolstraat               6               6   \n",
       "4    Rue De Pascale - De Pascalestraat            None             4-6   \n",
       "..                                 ...             ...             ...   \n",
       "80                  Rue de la Marlière            None               6   \n",
       "81                Rue du Pré des Dames            None              61   \n",
       "82                       Oudebareellei           79-81              79   \n",
       "83               Chaussée de Bruxelles            None              27   \n",
       "84                         Mastendreef              11              11   \n",
       "\n",
       "   addr_out_postcode                               addr_out_city  \\\n",
       "0               9000                                        Gent   \n",
       "1               1640                          Sint-Genesius-Rode   \n",
       "2               1400                                    Nivelles   \n",
       "3               1080  Molenbeek-Saint-Jean - Sint-Jans-Molenbeek   \n",
       "4               1000                                         BXL   \n",
       "..               ...                                         ...   \n",
       "80              7190                                 Écaussinnes   \n",
       "81              5300                                     Andenne   \n",
       "82              2170                                     Schoten   \n",
       "83              1472                                     Genappe   \n",
       "84              2970                                     Schilde   \n",
       "\n",
       "               addr_out_country  \n",
       "0   België / Belgique / Belgien  \n",
       "1   België / Belgique / Belgien  \n",
       "2   België / Belgique / Belgien  \n",
       "3   België / Belgique / Belgien  \n",
       "4   België / Belgique / Belgien  \n",
       "..                          ...  \n",
       "80  België / Belgique / Belgien  \n",
       "81  België / Belgique / Belgien  \n",
       "82  België / Belgique / Belgien  \n",
       "83  België / Belgique / Belgien  \n",
       "84  België / Belgique / Belgien  \n",
       "\n",
       "[85 rows x 10 columns]"
      ]
     },
     "execution_count": 19,
     "metadata": {},
     "output_type": "execute_result"
    }
   ],
   "source": [
    "# Geocode + address\n",
    "call_ws_batch(addresses, mode=\"short\") "
   ]
  },
  {
   "cell_type": "markdown",
   "metadata": {
    "ExecuteTime": {
     "end_time": "2020-09-30T10:13:21.879291Z",
     "start_time": "2020-09-30T10:13:21.874241Z"
    }
   },
   "source": [
    "### Batch blocs"
   ]
  },
  {
   "cell_type": "code",
   "execution_count": 17,
   "metadata": {
    "ExecuteTime": {
     "end_time": "2020-09-30T12:16:39.228080Z",
     "start_time": "2020-09-30T12:16:31.951086Z"
    }
   },
   "outputs": [
    {
     "name": "stderr",
     "output_type": "stream",
     "text": [
      "100%|██████████| 2/2 [00:07<00:00,  3.63s/it]\n"
     ]
    }
   ],
   "source": [
    "chunk_size = 50\n",
    "chunks = np.array_split(addresses, addresses.shape[0]//chunk_size)\n",
    "\n",
    "\n",
    "res= [call_ws_batch(chunk, mode=\"short\") for chunk in tqdm.tqdm(chunks)]\n",
    "\n",
    "## TODO : find a better way with dask? It seems that map_partitions does not support function returning dataframes. "
   ]
  },
  {
   "cell_type": "code",
   "execution_count": null,
   "metadata": {},
   "outputs": [],
   "source": []
  }
 ],
 "metadata": {
  "kernelspec": {
   "display_name": "Python 3",
   "language": "python",
   "name": "python3"
  },
  "toc": {
   "base_numbering": 1,
   "nav_menu": {},
   "number_sections": true,
   "sideBar": true,
   "skip_h1_title": false,
   "title_cell": "Table of Contents",
   "title_sidebar": "Contents",
   "toc_cell": false,
   "toc_position": {},
   "toc_section_display": true,
   "toc_window_display": false
  },
  "varInspector": {
   "cols": {
    "lenName": 16,
    "lenType": 16,
    "lenVar": 40
   },
   "kernels_config": {
    "python": {
     "delete_cmd_postfix": "",
     "delete_cmd_prefix": "del ",
     "library": "var_list.py",
     "varRefreshCmd": "print(var_dic_list())"
    },
    "r": {
     "delete_cmd_postfix": ") ",
     "delete_cmd_prefix": "rm(",
     "library": "var_list.r",
     "varRefreshCmd": "cat(var_dic_list()) "
    }
   },
   "types_to_exclude": [
    "module",
    "function",
    "builtin_function_or_method",
    "instance",
    "_Feature"
   ],
   "window_display": false
  }
 },
 "nbformat": 4,
 "nbformat_minor": 2
}
