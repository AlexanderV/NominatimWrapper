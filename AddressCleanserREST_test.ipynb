{
 "cells": [
  {
   "cell_type": "code",
   "execution_count": 4,
   "metadata": {
    "ExecuteTime": {
     "end_time": "2020-05-06T13:50:43.147592Z",
     "start_time": "2020-05-06T13:50:41.012566Z"
    }
   },
   "outputs": [
    {
     "name": "stderr",
     "output_type": "stream",
     "text": [
      "/home/vandy/.local/lib/python3.6/site-packages/tqdm/autonotebook/__init__.py:18: TqdmExperimentalWarning: Using `tqdm.autonotebook.tqdm` in notebook mode. Use `tqdm.tqdm` instead to force console mode (e.g. in jupyter console)\n",
      "  \" (e.g. in jupyter console)\", TqdmExperimentalWarning)\n"
     ]
    }
   ],
   "source": [
    "import pandas as pd\n",
    "import urllib\n",
    "\n",
    "import numpy as np\n",
    "\n",
    "import json\n",
    "\n",
    "from tqdm.autonotebook import  tqdm\n",
    "\n",
    "#%matplotlib inline\n",
    "\n",
    "tqdm.pandas(tqdm)\n",
    "\n",
    "import dask.dataframe as dd\n",
    "\n",
    "from dask.multiprocessing import get\n",
    "from dask.diagnostics import ProgressBar\n",
    "\n",
    "from datetime import datetime\n",
    "import matplotlib.pyplot as plt\n",
    "\n",
    "from IPython.display import display\n"
   ]
  },
  {
   "cell_type": "code",
   "execution_count": 5,
   "metadata": {
    "ExecuteTime": {
     "end_time": "2020-05-06T13:50:43.162875Z",
     "start_time": "2020-05-06T13:50:43.151794Z"
    }
   },
   "outputs": [],
   "source": [
    "from config_batch import * "
   ]
  },
  {
   "cell_type": "code",
   "execution_count": 6,
   "metadata": {
    "ExecuteTime": {
     "end_time": "2020-05-06T13:50:43.193343Z",
     "start_time": "2020-05-06T13:50:43.169195Z"
    }
   },
   "outputs": [],
   "source": [
    "def call_ws(addr_data): #lg = \"en,fr,nl\"\n",
    "    t = datetime.now()\n",
    "    \n",
    "    params = urllib.parse.urlencode({\"street\": addr_data[street_field],\n",
    "                                     \"housenumber\": addr_data[housenbr_field],\n",
    "                                     \"city\": addr_data[city_field],\n",
    "                                     \"postcode\": addr_data[postcode_field],\n",
    "                                     \"country\": addr_data[country_field],\n",
    "                                    })\n",
    "    url = \"http://172.26.0.1:5000/search/?%s\"%params\n",
    "    \n",
    "    \n",
    "    try:\n",
    "        with urllib.request.urlopen(url) as response:\n",
    "            res = response.read()\n",
    "            res = json.loads(res)\n",
    "#             print(res)\n",
    "            res[\"time\"] = datetime.now() - t\n",
    "            return res\n",
    "    except Exception as e:\n",
    "        return str(e)\n",
    "    "
   ]
  },
  {
   "cell_type": "code",
   "execution_count": null,
   "metadata": {},
   "outputs": [],
   "source": []
  },
  {
   "cell_type": "code",
   "execution_count": 7,
   "metadata": {
    "ExecuteTime": {
     "end_time": "2020-05-06T13:50:43.217768Z",
     "start_time": "2020-05-06T13:50:43.197425Z"
    }
   },
   "outputs": [],
   "source": [
    "def get_plots(addresses, column):\n",
    "    fig, axes = plt.subplots(ncols=1, nrows = addresses[column].nunique(),  sharex=True, figsize=[6, 3*addresses[column].nunique()])\n",
    "\n",
    "    addresses.hist(column=\"_time\", by=column,ax=axes)\n",
    "\n",
    "    return fig"
   ]
  },
  {
   "cell_type": "code",
   "execution_count": 8,
   "metadata": {
    "ExecuteTime": {
     "end_time": "2020-05-06T13:51:01.443333Z",
     "start_time": "2020-05-06T13:50:43.227542Z"
    }
   },
   "outputs": [
    {
     "name": "stderr",
     "output_type": "stream",
     "text": [
      "/home/vandy/.local/lib/python3.6/site-packages/IPython/core/interactiveshell.py:3249: DtypeWarning: Columns (3,4) have mixed types. Specify dtype option on import or set low_memory=False.\n",
      "  if (await self.run_code(code, result,  async_=asy)):\n"
     ]
    }
   ],
   "source": [
    "addresses = get_addresses(\"address.csv.gz\")"
   ]
  },
  {
   "cell_type": "code",
   "execution_count": 83,
   "metadata": {
    "ExecuteTime": {
     "end_time": "2020-05-04T11:46:44.929931Z",
     "start_time": "2020-05-04T11:46:44.891359Z"
    }
   },
   "outputs": [
    {
     "data": {
      "text/html": [
       "<div>\n",
       "<style scoped>\n",
       "    .dataframe tbody tr th:only-of-type {\n",
       "        vertical-align: middle;\n",
       "    }\n",
       "\n",
       "    .dataframe tbody tr th {\n",
       "        vertical-align: top;\n",
       "    }\n",
       "\n",
       "    .dataframe thead th {\n",
       "        text-align: right;\n",
       "    }\n",
       "</style>\n",
       "<table border=\"1\" class=\"dataframe\">\n",
       "  <thead>\n",
       "    <tr style=\"text-align: right;\">\n",
       "      <th></th>\n",
       "      <th>EntityNumber</th>\n",
       "      <th>CountryFR</th>\n",
       "      <th>Zipcode</th>\n",
       "      <th>MunicipalityFR</th>\n",
       "      <th>StreetFR</th>\n",
       "      <th>HouseNumber</th>\n",
       "    </tr>\n",
       "  </thead>\n",
       "  <tbody>\n",
       "    <tr>\n",
       "      <th>0</th>\n",
       "      <td>0200.065.765</td>\n",
       "      <td>Belgique</td>\n",
       "      <td>9070</td>\n",
       "      <td>Destelbergen</td>\n",
       "      <td>Panhuisstraat</td>\n",
       "      <td>1</td>\n",
       "    </tr>\n",
       "    <tr>\n",
       "      <th>1</th>\n",
       "      <td>0200.068.636</td>\n",
       "      <td>Belgique</td>\n",
       "      <td>9000</td>\n",
       "      <td>Gent</td>\n",
       "      <td>Stropstraat</td>\n",
       "      <td>1</td>\n",
       "    </tr>\n",
       "    <tr>\n",
       "      <th>2</th>\n",
       "      <td>0200.171.970</td>\n",
       "      <td>Belgique</td>\n",
       "      <td>9000</td>\n",
       "      <td>Gent</td>\n",
       "      <td>Brabantdam</td>\n",
       "      <td>101</td>\n",
       "    </tr>\n",
       "    <tr>\n",
       "      <th>3</th>\n",
       "      <td>0200.245.711</td>\n",
       "      <td>Belgique</td>\n",
       "      <td>9500</td>\n",
       "      <td>Geraardsbergen</td>\n",
       "      <td>Hoge Buizemont</td>\n",
       "      <td>247</td>\n",
       "    </tr>\n",
       "    <tr>\n",
       "      <th>4</th>\n",
       "      <td>0200.305.493</td>\n",
       "      <td>Belgique</td>\n",
       "      <td>9320</td>\n",
       "      <td>Aalst</td>\n",
       "      <td>Industrielaan</td>\n",
       "      <td>25</td>\n",
       "    </tr>\n",
       "    <tr>\n",
       "      <th>...</th>\n",
       "      <td>...</td>\n",
       "      <td>...</td>\n",
       "      <td>...</td>\n",
       "      <td>...</td>\n",
       "      <td>...</td>\n",
       "      <td>...</td>\n",
       "    </tr>\n",
       "    <tr>\n",
       "      <th>3112200</th>\n",
       "      <td>2.287.383.823</td>\n",
       "      <td>Belgique</td>\n",
       "      <td>2000.0</td>\n",
       "      <td>Antwerpen</td>\n",
       "      <td>Volkstraat</td>\n",
       "      <td>62-64</td>\n",
       "    </tr>\n",
       "    <tr>\n",
       "      <th>3112201</th>\n",
       "      <td>2.287.383.922</td>\n",
       "      <td>Belgique</td>\n",
       "      <td>2235.0</td>\n",
       "      <td>Hulshout</td>\n",
       "      <td>Ramselsesteenweg</td>\n",
       "      <td>52</td>\n",
       "    </tr>\n",
       "    <tr>\n",
       "      <th>3112202</th>\n",
       "      <td>2.287.384.021</td>\n",
       "      <td>Belgique</td>\n",
       "      <td>2910.0</td>\n",
       "      <td>Essen</td>\n",
       "      <td>Horendonk</td>\n",
       "      <td>316</td>\n",
       "    </tr>\n",
       "    <tr>\n",
       "      <th>3112203</th>\n",
       "      <td>2.287.384.120</td>\n",
       "      <td>Belgique</td>\n",
       "      <td>1060.0</td>\n",
       "      <td>Saint-Gilles</td>\n",
       "      <td>Rue de Danemark</td>\n",
       "      <td>30</td>\n",
       "    </tr>\n",
       "    <tr>\n",
       "      <th>3112204</th>\n",
       "      <td>2.287.384.219</td>\n",
       "      <td>Belgique</td>\n",
       "      <td>2230.0</td>\n",
       "      <td>Herselt</td>\n",
       "      <td>Houtvensesteenweg(RAM)</td>\n",
       "      <td>97</td>\n",
       "    </tr>\n",
       "  </tbody>\n",
       "</table>\n",
       "<p>3101258 rows × 6 columns</p>\n",
       "</div>"
      ],
      "text/plain": [
       "          EntityNumber CountryFR Zipcode  MunicipalityFR  \\\n",
       "0         0200.065.765  Belgique    9070    Destelbergen   \n",
       "1         0200.068.636  Belgique    9000            Gent   \n",
       "2         0200.171.970  Belgique    9000            Gent   \n",
       "3         0200.245.711  Belgique    9500  Geraardsbergen   \n",
       "4         0200.305.493  Belgique    9320           Aalst   \n",
       "...                ...       ...     ...             ...   \n",
       "3112200  2.287.383.823  Belgique  2000.0       Antwerpen   \n",
       "3112201  2.287.383.922  Belgique  2235.0        Hulshout   \n",
       "3112202  2.287.384.021  Belgique  2910.0           Essen   \n",
       "3112203  2.287.384.120  Belgique  1060.0    Saint-Gilles   \n",
       "3112204  2.287.384.219  Belgique  2230.0         Herselt   \n",
       "\n",
       "                       StreetFR HouseNumber  \n",
       "0                 Panhuisstraat           1  \n",
       "1                   Stropstraat           1  \n",
       "2                    Brabantdam         101  \n",
       "3                Hoge Buizemont         247  \n",
       "4                 Industrielaan          25  \n",
       "...                         ...         ...  \n",
       "3112200              Volkstraat       62-64  \n",
       "3112201        Ramselsesteenweg          52  \n",
       "3112202               Horendonk         316  \n",
       "3112203         Rue de Danemark          30  \n",
       "3112204  Houtvensesteenweg(RAM)          97  \n",
       "\n",
       "[3101258 rows x 6 columns]"
      ]
     },
     "metadata": {},
     "output_type": "display_data"
    }
   ],
   "source": [
    "display(addresses)\n"
   ]
  },
  {
   "cell_type": "code",
   "execution_count": 95,
   "metadata": {
    "ExecuteTime": {
     "end_time": "2020-05-04T12:12:42.891363Z",
     "start_time": "2020-05-04T12:12:42.868768Z"
    }
   },
   "outputs": [],
   "source": [
    "addresses  =addresses.sample(10)"
   ]
  },
  {
   "cell_type": "code",
   "execution_count": 99,
   "metadata": {
    "ExecuteTime": {
     "end_time": "2020-05-04T12:22:06.345165Z",
     "start_time": "2020-05-04T12:21:44.992165Z"
    },
    "scrolled": true
   },
   "outputs": [
    {
     "data": {
      "application/vnd.jupyter.widget-view+json": {
       "model_id": "14113228f9cc48c8b64f32a95d2d7f24",
       "version_major": 2,
       "version_minor": 0
      },
      "text/plain": [
       "HBox(children=(IntProgress(value=0, max=10), HTML(value='')))"
      ]
     },
     "metadata": {},
     "output_type": "display_data"
    },
    {
     "name": "stdout",
     "output_type": "stream",
     "text": [
      "\n"
     ]
    }
   ],
   "source": [
    "with_dask = False\n",
    "if with_dask : \n",
    "    dd_addresses = dd.from_pandas(addresses, npartitions=4)\n",
    "\n",
    "    dask_task = dd_addresses.apply(call_ws, meta=('x', 'str'), axis=1)\n",
    "\n",
    "    with ProgressBar(): \n",
    "        addresses[\"json\"] = dask_task.compute()\n",
    "else: \n",
    "    \n",
    "    addresses[\"json\"] = addresses.progress_apply(call_ws, axis=1)"
   ]
  },
  {
   "cell_type": "code",
   "execution_count": 86,
   "metadata": {
    "ExecuteTime": {
     "end_time": "2020-05-04T11:58:23.169386Z",
     "start_time": "2020-05-04T11:58:23.105263Z"
    },
    "scrolled": true
   },
   "outputs": [
    {
     "data": {
      "text/html": [
       "<div>\n",
       "<style scoped>\n",
       "    .dataframe tbody tr th:only-of-type {\n",
       "        vertical-align: middle;\n",
       "    }\n",
       "\n",
       "    .dataframe tbody tr th {\n",
       "        vertical-align: top;\n",
       "    }\n",
       "\n",
       "    .dataframe thead th {\n",
       "        text-align: right;\n",
       "    }\n",
       "</style>\n",
       "<table border=\"1\" class=\"dataframe\">\n",
       "  <thead>\n",
       "    <tr style=\"text-align: right;\">\n",
       "      <th></th>\n",
       "      <th>EntityNumber</th>\n",
       "      <th>CountryFR</th>\n",
       "      <th>Zipcode</th>\n",
       "      <th>MunicipalityFR</th>\n",
       "      <th>StreetFR</th>\n",
       "      <th>HouseNumber</th>\n",
       "      <th>json</th>\n",
       "    </tr>\n",
       "  </thead>\n",
       "  <tbody>\n",
       "    <tr>\n",
       "      <th>256721</th>\n",
       "      <td>0448.478.114</td>\n",
       "      <td>Belgique</td>\n",
       "      <td>8400</td>\n",
       "      <td>Oostende</td>\n",
       "      <td>Longchamplaan</td>\n",
       "      <td>29</td>\n",
       "      <td>{'match': [{'SIM_street': 1.0, 'SIM_street_whi...</td>\n",
       "    </tr>\n",
       "    <tr>\n",
       "      <th>352638</th>\n",
       "      <td>0466.085.493</td>\n",
       "      <td>Belgique</td>\n",
       "      <td>2950</td>\n",
       "      <td>Kapellen</td>\n",
       "      <td>Marcottedreef</td>\n",
       "      <td>17</td>\n",
       "      <td>{'match': [{'SIM_street': 1.0, 'SIM_street_whi...</td>\n",
       "    </tr>\n",
       "    <tr>\n",
       "      <th>2024228</th>\n",
       "      <td>2.101.805.502</td>\n",
       "      <td>Belgique</td>\n",
       "      <td>1080.0</td>\n",
       "      <td>Molenbeek-Saint-Jean</td>\n",
       "      <td>Rue de Birmingham</td>\n",
       "      <td>56</td>\n",
       "      <td>{'match': [{'SIM_street': 1.0, 'SIM_street_whi...</td>\n",
       "    </tr>\n",
       "    <tr>\n",
       "      <th>870179</th>\n",
       "      <td>0678.267.946</td>\n",
       "      <td>Belgique</td>\n",
       "      <td>8800</td>\n",
       "      <td>Roeselare</td>\n",
       "      <td>Meensesteenweg</td>\n",
       "      <td>466</td>\n",
       "      <td>{'match': [{'SIM_street': 1.0, 'SIM_street_whi...</td>\n",
       "    </tr>\n",
       "    <tr>\n",
       "      <th>593123</th>\n",
       "      <td>0566.988.259</td>\n",
       "      <td>Belgique</td>\n",
       "      <td>4960</td>\n",
       "      <td>Malmedy</td>\n",
       "      <td>Route de Falize</td>\n",
       "      <td>151</td>\n",
       "      <td>{'match': [{'SIM_street': 1.0, 'SIM_street_whi...</td>\n",
       "    </tr>\n",
       "    <tr>\n",
       "      <th>...</th>\n",
       "      <td>...</td>\n",
       "      <td>...</td>\n",
       "      <td>...</td>\n",
       "      <td>...</td>\n",
       "      <td>...</td>\n",
       "      <td>...</td>\n",
       "      <td>...</td>\n",
       "    </tr>\n",
       "    <tr>\n",
       "      <th>2698743</th>\n",
       "      <td>2.237.208.295</td>\n",
       "      <td>Belgique</td>\n",
       "      <td>9991</td>\n",
       "      <td>Maldegem</td>\n",
       "      <td>Veldekens</td>\n",
       "      <td>8</td>\n",
       "      <td>{'match': [{'SIM_street': 1.0, 'SIM_street_whi...</td>\n",
       "    </tr>\n",
       "    <tr>\n",
       "      <th>1423989</th>\n",
       "      <td>0853.547.639</td>\n",
       "      <td>Belgique</td>\n",
       "      <td>3001</td>\n",
       "      <td>Leuven</td>\n",
       "      <td>Naamsesteenweg</td>\n",
       "      <td>217</td>\n",
       "      <td>{'match': [{'SIM_street': 1.0, 'SIM_street_whi...</td>\n",
       "    </tr>\n",
       "    <tr>\n",
       "      <th>1688435</th>\n",
       "      <td>2.005.475.889</td>\n",
       "      <td>Belgique</td>\n",
       "      <td>1332</td>\n",
       "      <td>Rixensart</td>\n",
       "      <td>Drève du Val St-Pierre</td>\n",
       "      <td>1 6</td>\n",
       "      <td>{'match': [{'SIM_street': 1.0, 'SIM_street_whi...</td>\n",
       "    </tr>\n",
       "    <tr>\n",
       "      <th>3033044</th>\n",
       "      <td>2.279.159.015</td>\n",
       "      <td>Belgique</td>\n",
       "      <td>2950</td>\n",
       "      <td>Kapellen</td>\n",
       "      <td>Kasteeldreef</td>\n",
       "      <td>3</td>\n",
       "      <td>{'match': [{'SIM_street': 1.0, 'SIM_street_whi...</td>\n",
       "    </tr>\n",
       "    <tr>\n",
       "      <th>2620114</th>\n",
       "      <td>2.226.004.597</td>\n",
       "      <td>Belgique</td>\n",
       "      <td>3300</td>\n",
       "      <td>Tienen</td>\n",
       "      <td>Waterstraat(VSN)</td>\n",
       "      <td>54</td>\n",
       "      <td>{'match': [{'SIM_street': 1.0, 'SIM_street_whi...</td>\n",
       "    </tr>\n",
       "  </tbody>\n",
       "</table>\n",
       "<p>500 rows × 7 columns</p>\n",
       "</div>"
      ],
      "text/plain": [
       "          EntityNumber CountryFR Zipcode        MunicipalityFR  \\\n",
       "256721    0448.478.114  Belgique    8400              Oostende   \n",
       "352638    0466.085.493  Belgique    2950              Kapellen   \n",
       "2024228  2.101.805.502  Belgique  1080.0  Molenbeek-Saint-Jean   \n",
       "870179    0678.267.946  Belgique    8800             Roeselare   \n",
       "593123    0566.988.259  Belgique    4960               Malmedy   \n",
       "...                ...       ...     ...                   ...   \n",
       "2698743  2.237.208.295  Belgique    9991              Maldegem   \n",
       "1423989   0853.547.639  Belgique    3001                Leuven   \n",
       "1688435  2.005.475.889  Belgique    1332             Rixensart   \n",
       "3033044  2.279.159.015  Belgique    2950              Kapellen   \n",
       "2620114  2.226.004.597  Belgique    3300                Tienen   \n",
       "\n",
       "                       StreetFR HouseNumber  \\\n",
       "256721            Longchamplaan          29   \n",
       "352638            Marcottedreef          17   \n",
       "2024228       Rue de Birmingham          56   \n",
       "870179           Meensesteenweg         466   \n",
       "593123          Route de Falize         151   \n",
       "...                         ...         ...   \n",
       "2698743               Veldekens           8   \n",
       "1423989          Naamsesteenweg         217   \n",
       "1688435  Drève du Val St-Pierre         1 6   \n",
       "3033044            Kasteeldreef           3   \n",
       "2620114        Waterstraat(VSN)          54   \n",
       "\n",
       "                                                      json  \n",
       "256721   {'match': [{'SIM_street': 1.0, 'SIM_street_whi...  \n",
       "352638   {'match': [{'SIM_street': 1.0, 'SIM_street_whi...  \n",
       "2024228  {'match': [{'SIM_street': 1.0, 'SIM_street_whi...  \n",
       "870179   {'match': [{'SIM_street': 1.0, 'SIM_street_whi...  \n",
       "593123   {'match': [{'SIM_street': 1.0, 'SIM_street_whi...  \n",
       "...                                                    ...  \n",
       "2698743  {'match': [{'SIM_street': 1.0, 'SIM_street_whi...  \n",
       "1423989  {'match': [{'SIM_street': 1.0, 'SIM_street_whi...  \n",
       "1688435  {'match': [{'SIM_street': 1.0, 'SIM_street_whi...  \n",
       "3033044  {'match': [{'SIM_street': 1.0, 'SIM_street_whi...  \n",
       "2620114  {'match': [{'SIM_street': 1.0, 'SIM_street_whi...  \n",
       "\n",
       "[500 rows x 7 columns]"
      ]
     },
     "execution_count": 86,
     "metadata": {},
     "output_type": "execute_result"
    }
   ],
   "source": [
    "# Flask : 1:03\n",
    "# gunicorn -w 1: 0:55\n",
    "# gunicorn -w 2, npartition=2: 0:30\n",
    "# gunicorn -w 2, npartition=4: 0:30\n",
    "# gunicorn -w 4, npartition=4: 0:33\n",
    "\n",
    "addresses"
   ]
  },
  {
   "cell_type": "code",
   "execution_count": 87,
   "metadata": {
    "ExecuteTime": {
     "end_time": "2020-05-04T11:58:23.936494Z",
     "start_time": "2020-05-04T11:58:23.848749Z"
    },
    "scrolled": true
   },
   "outputs": [
    {
     "data": {
      "text/html": [
       "<div>\n",
       "<style scoped>\n",
       "    .dataframe tbody tr th:only-of-type {\n",
       "        vertical-align: middle;\n",
       "    }\n",
       "\n",
       "    .dataframe tbody tr th {\n",
       "        vertical-align: top;\n",
       "    }\n",
       "\n",
       "    .dataframe thead th {\n",
       "        text-align: right;\n",
       "    }\n",
       "</style>\n",
       "<table border=\"1\" class=\"dataframe\">\n",
       "  <thead>\n",
       "    <tr style=\"text-align: right;\">\n",
       "      <th></th>\n",
       "      <th>EntityNumber</th>\n",
       "      <th>CountryFR</th>\n",
       "      <th>Zipcode</th>\n",
       "      <th>MunicipalityFR</th>\n",
       "      <th>StreetFR</th>\n",
       "      <th>HouseNumber</th>\n",
       "      <th>status</th>\n",
       "      <th>time</th>\n",
       "      <th>timing</th>\n",
       "      <th>method</th>\n",
       "      <th>street</th>\n",
       "    </tr>\n",
       "  </thead>\n",
       "  <tbody>\n",
       "    <tr>\n",
       "      <th>256721</th>\n",
       "      <td>0448.478.114</td>\n",
       "      <td>Belgique</td>\n",
       "      <td>8400</td>\n",
       "      <td>Oostende</td>\n",
       "      <td>Longchamplaan</td>\n",
       "      <td>29</td>\n",
       "      <td>match</td>\n",
       "      <td>00:00:00.736235</td>\n",
       "      <td>{}</td>\n",
       "      <td>orig</td>\n",
       "      <td>Longchamplaan</td>\n",
       "    </tr>\n",
       "    <tr>\n",
       "      <th>352638</th>\n",
       "      <td>0466.085.493</td>\n",
       "      <td>Belgique</td>\n",
       "      <td>2950</td>\n",
       "      <td>Kapellen</td>\n",
       "      <td>Marcottedreef</td>\n",
       "      <td>17</td>\n",
       "      <td>match</td>\n",
       "      <td>00:00:00.675106</td>\n",
       "      <td>{}</td>\n",
       "      <td>orig</td>\n",
       "      <td>Marcottedreef</td>\n",
       "    </tr>\n",
       "    <tr>\n",
       "      <th>2024228</th>\n",
       "      <td>2.101.805.502</td>\n",
       "      <td>Belgique</td>\n",
       "      <td>1080.0</td>\n",
       "      <td>Molenbeek-Saint-Jean</td>\n",
       "      <td>Rue de Birmingham</td>\n",
       "      <td>56</td>\n",
       "      <td>match</td>\n",
       "      <td>00:00:01.173982</td>\n",
       "      <td>{}</td>\n",
       "      <td>nonum</td>\n",
       "      <td>Rue de Birmingham - Birminghamstraat</td>\n",
       "    </tr>\n",
       "    <tr>\n",
       "      <th>870179</th>\n",
       "      <td>0678.267.946</td>\n",
       "      <td>Belgique</td>\n",
       "      <td>8800</td>\n",
       "      <td>Roeselare</td>\n",
       "      <td>Meensesteenweg</td>\n",
       "      <td>466</td>\n",
       "      <td>match</td>\n",
       "      <td>00:00:00.932640</td>\n",
       "      <td>{}</td>\n",
       "      <td>orig</td>\n",
       "      <td>Meensesteenweg</td>\n",
       "    </tr>\n",
       "    <tr>\n",
       "      <th>593123</th>\n",
       "      <td>0566.988.259</td>\n",
       "      <td>Belgique</td>\n",
       "      <td>4960</td>\n",
       "      <td>Malmedy</td>\n",
       "      <td>Route de Falize</td>\n",
       "      <td>151</td>\n",
       "      <td>match</td>\n",
       "      <td>00:00:00.685588</td>\n",
       "      <td>{}</td>\n",
       "      <td>orig</td>\n",
       "      <td>Route de Falize</td>\n",
       "    </tr>\n",
       "    <tr>\n",
       "      <th>...</th>\n",
       "      <td>...</td>\n",
       "      <td>...</td>\n",
       "      <td>...</td>\n",
       "      <td>...</td>\n",
       "      <td>...</td>\n",
       "      <td>...</td>\n",
       "      <td>...</td>\n",
       "      <td>...</td>\n",
       "      <td>...</td>\n",
       "      <td>...</td>\n",
       "      <td>...</td>\n",
       "    </tr>\n",
       "    <tr>\n",
       "      <th>2698743</th>\n",
       "      <td>2.237.208.295</td>\n",
       "      <td>Belgique</td>\n",
       "      <td>9991</td>\n",
       "      <td>Maldegem</td>\n",
       "      <td>Veldekens</td>\n",
       "      <td>8</td>\n",
       "      <td>match</td>\n",
       "      <td>00:00:00.968216</td>\n",
       "      <td>{}</td>\n",
       "      <td>orig</td>\n",
       "      <td>Veldekens</td>\n",
       "    </tr>\n",
       "    <tr>\n",
       "      <th>1423989</th>\n",
       "      <td>0853.547.639</td>\n",
       "      <td>Belgique</td>\n",
       "      <td>3001</td>\n",
       "      <td>Leuven</td>\n",
       "      <td>Naamsesteenweg</td>\n",
       "      <td>217</td>\n",
       "      <td>match</td>\n",
       "      <td>00:00:00.855873</td>\n",
       "      <td>{}</td>\n",
       "      <td>orig</td>\n",
       "      <td>Naamsesteenweg</td>\n",
       "    </tr>\n",
       "    <tr>\n",
       "      <th>1688435</th>\n",
       "      <td>2.005.475.889</td>\n",
       "      <td>Belgique</td>\n",
       "      <td>1332</td>\n",
       "      <td>Rixensart</td>\n",
       "      <td>Drève du Val St-Pierre</td>\n",
       "      <td>1 6</td>\n",
       "      <td>match</td>\n",
       "      <td>00:00:01.401952</td>\n",
       "      <td>{}</td>\n",
       "      <td>orig</td>\n",
       "      <td>Drève du Val Saint-Pierre</td>\n",
       "    </tr>\n",
       "    <tr>\n",
       "      <th>3033044</th>\n",
       "      <td>2.279.159.015</td>\n",
       "      <td>Belgique</td>\n",
       "      <td>2950</td>\n",
       "      <td>Kapellen</td>\n",
       "      <td>Kasteeldreef</td>\n",
       "      <td>3</td>\n",
       "      <td>match</td>\n",
       "      <td>00:00:00.715824</td>\n",
       "      <td>{}</td>\n",
       "      <td>orig</td>\n",
       "      <td>Kasteeldreef</td>\n",
       "    </tr>\n",
       "    <tr>\n",
       "      <th>2620114</th>\n",
       "      <td>2.226.004.597</td>\n",
       "      <td>Belgique</td>\n",
       "      <td>3300</td>\n",
       "      <td>Tienen</td>\n",
       "      <td>Waterstraat(VSN)</td>\n",
       "      <td>54</td>\n",
       "      <td>match</td>\n",
       "      <td>00:00:01.019588</td>\n",
       "      <td>{}</td>\n",
       "      <td>regex[init]</td>\n",
       "      <td>Waterstraat</td>\n",
       "    </tr>\n",
       "  </tbody>\n",
       "</table>\n",
       "<p>500 rows × 11 columns</p>\n",
       "</div>"
      ],
      "text/plain": [
       "          EntityNumber CountryFR Zipcode        MunicipalityFR  \\\n",
       "256721    0448.478.114  Belgique    8400              Oostende   \n",
       "352638    0466.085.493  Belgique    2950              Kapellen   \n",
       "2024228  2.101.805.502  Belgique  1080.0  Molenbeek-Saint-Jean   \n",
       "870179    0678.267.946  Belgique    8800             Roeselare   \n",
       "593123    0566.988.259  Belgique    4960               Malmedy   \n",
       "...                ...       ...     ...                   ...   \n",
       "2698743  2.237.208.295  Belgique    9991              Maldegem   \n",
       "1423989   0853.547.639  Belgique    3001                Leuven   \n",
       "1688435  2.005.475.889  Belgique    1332             Rixensart   \n",
       "3033044  2.279.159.015  Belgique    2950              Kapellen   \n",
       "2620114  2.226.004.597  Belgique    3300                Tienen   \n",
       "\n",
       "                       StreetFR HouseNumber status            time timing  \\\n",
       "256721            Longchamplaan          29  match 00:00:00.736235     {}   \n",
       "352638            Marcottedreef          17  match 00:00:00.675106     {}   \n",
       "2024228       Rue de Birmingham          56  match 00:00:01.173982     {}   \n",
       "870179           Meensesteenweg         466  match 00:00:00.932640     {}   \n",
       "593123          Route de Falize         151  match 00:00:00.685588     {}   \n",
       "...                         ...         ...    ...             ...    ...   \n",
       "2698743               Veldekens           8  match 00:00:00.968216     {}   \n",
       "1423989          Naamsesteenweg         217  match 00:00:00.855873     {}   \n",
       "1688435  Drève du Val St-Pierre         1 6  match 00:00:01.401952     {}   \n",
       "3033044            Kasteeldreef           3  match 00:00:00.715824     {}   \n",
       "2620114        Waterstraat(VSN)          54  match 00:00:01.019588     {}   \n",
       "\n",
       "              method                                street  \n",
       "256721          orig                         Longchamplaan  \n",
       "352638          orig                         Marcottedreef  \n",
       "2024228        nonum  Rue de Birmingham - Birminghamstraat  \n",
       "870179          orig                        Meensesteenweg  \n",
       "593123          orig                       Route de Falize  \n",
       "...              ...                                   ...  \n",
       "2698743         orig                             Veldekens  \n",
       "1423989         orig                        Naamsesteenweg  \n",
       "1688435         orig             Drève du Val Saint-Pierre  \n",
       "3033044         orig                          Kasteeldreef  \n",
       "2620114  regex[init]                           Waterstraat  \n",
       "\n",
       "[500 rows x 11 columns]"
      ]
     },
     "metadata": {},
     "output_type": "display_data"
    }
   ],
   "source": [
    "addresses[\"status\"]= addresses.json.apply(lambda d: \"error\" if \"error\" in d else \"match\" if \"match\" in d else \"rejected\")\n",
    "addresses[\"time\"]  = addresses.json.apply(lambda d: d[\"time\"])\n",
    "\n",
    "addresses[\"timing\"]  = addresses.json.apply(lambda d: d[\"timing\"] if \"timing\" in d else {})\n",
    "\n",
    "addresses[\"method\"]= addresses.json.apply(lambda d: d[\"match\"][0][\"method\"] if len(d)>0 and \"match\" in d else \"none\")\n",
    "addresses[\"street\"]= addresses.json.apply(lambda d: d[\"match\"][0][\"addr_out_street\"] if len(d)>0 and \"match\" in d else \"\")\n",
    "\n",
    "\n",
    "display(addresses.drop(\"json\", axis=1))"
   ]
  },
  {
   "cell_type": "code",
   "execution_count": 88,
   "metadata": {
    "ExecuteTime": {
     "end_time": "2020-05-04T11:58:25.395707Z",
     "start_time": "2020-05-04T11:58:24.944229Z"
    }
   },
   "outputs": [
    {
     "data": {
      "text/html": [
       "<div>\n",
       "<style scoped>\n",
       "    .dataframe tbody tr th:only-of-type {\n",
       "        vertical-align: middle;\n",
       "    }\n",
       "\n",
       "    .dataframe tbody tr th {\n",
       "        vertical-align: top;\n",
       "    }\n",
       "\n",
       "    .dataframe thead th {\n",
       "        text-align: right;\n",
       "    }\n",
       "</style>\n",
       "<table border=\"1\" class=\"dataframe\">\n",
       "  <thead>\n",
       "    <tr style=\"text-align: right;\">\n",
       "      <th></th>\n",
       "    </tr>\n",
       "  </thead>\n",
       "  <tbody>\n",
       "    <tr>\n",
       "      <th>256721</th>\n",
       "    </tr>\n",
       "    <tr>\n",
       "      <th>352638</th>\n",
       "    </tr>\n",
       "    <tr>\n",
       "      <th>2024228</th>\n",
       "    </tr>\n",
       "    <tr>\n",
       "      <th>870179</th>\n",
       "    </tr>\n",
       "    <tr>\n",
       "      <th>593123</th>\n",
       "    </tr>\n",
       "    <tr>\n",
       "      <th>...</th>\n",
       "    </tr>\n",
       "    <tr>\n",
       "      <th>2698743</th>\n",
       "    </tr>\n",
       "    <tr>\n",
       "      <th>1423989</th>\n",
       "    </tr>\n",
       "    <tr>\n",
       "      <th>1688435</th>\n",
       "    </tr>\n",
       "    <tr>\n",
       "      <th>3033044</th>\n",
       "    </tr>\n",
       "    <tr>\n",
       "      <th>2620114</th>\n",
       "    </tr>\n",
       "  </tbody>\n",
       "</table>\n",
       "<p>500 rows × 0 columns</p>\n",
       "</div>"
      ],
      "text/plain": [
       "Empty DataFrame\n",
       "Columns: []\n",
       "Index: [256721, 352638, 2024228, 870179, 593123, 2064042, 2152071, 2343657, 3020696, 612232, 2744705, 1618125, 612173, 2879186, 1141445, 2479199, 1381966, 1935595, 2018027, 962419, 1447660, 1254006, 1499710, 2588033, 2355721, 2947588, 2971894, 518067, 2949017, 298566, 2334117, 1215317, 2546991, 1236338, 2619349, 999979, 1514409, 42334, 765596, 706577, 2739375, 1465609, 993784, 2747918, 2003587, 656523, 219238, 2429432, 2043289, 2262403, 2925373, 2118978, 720878, 2703474, 277689, 2591240, 2426712, 371838, 1053895, 1803857, 3067089, 1455705, 2600263, 1910008, 1457902, 1160272, 232327, 939128, 1329362, 675177, 1019938, 63915, 2787882, 1812920, 2912993, 2519462, 108909, 2458436, 1362796, 2390383, 2335089, 512778, 2569526, 1491668, 1466807, 1902700, 2706532, 704782, 358541, 2970645, 9069, 908124, 1265875, 1145029, 1729460, 2778470, 62516, 1112086, 1673755, 924811, ...]\n",
       "\n",
       "[500 rows x 0 columns]"
      ]
     },
     "execution_count": 88,
     "metadata": {},
     "output_type": "execute_result"
    }
   ],
   "source": [
    "addresses[\"timing\"].apply(pd.Series)"
   ]
  },
  {
   "cell_type": "code",
   "execution_count": 89,
   "metadata": {
    "ExecuteTime": {
     "end_time": "2020-05-04T11:58:27.379297Z",
     "start_time": "2020-05-04T11:58:27.362208Z"
    }
   },
   "outputs": [
    {
     "data": {
      "text/plain": [
       "match       491\n",
       "rejected      9\n",
       "Name: status, dtype: int64"
      ]
     },
     "metadata": {},
     "output_type": "display_data"
    }
   ],
   "source": [
    "display(addresses.status.value_counts())"
   ]
  },
  {
   "cell_type": "code",
   "execution_count": 90,
   "metadata": {
    "ExecuteTime": {
     "end_time": "2020-05-04T11:58:29.659592Z",
     "start_time": "2020-05-04T11:58:29.631043Z"
    }
   },
   "outputs": [
    {
     "data": {
      "text/html": [
       "<div>\n",
       "<style scoped>\n",
       "    .dataframe tbody tr th:only-of-type {\n",
       "        vertical-align: middle;\n",
       "    }\n",
       "\n",
       "    .dataframe tbody tr th {\n",
       "        vertical-align: top;\n",
       "    }\n",
       "\n",
       "    .dataframe thead th {\n",
       "        text-align: right;\n",
       "    }\n",
       "</style>\n",
       "<table border=\"1\" class=\"dataframe\">\n",
       "  <thead>\n",
       "    <tr style=\"text-align: right;\">\n",
       "      <th></th>\n",
       "      <th>EntityNumber</th>\n",
       "      <th>CountryFR</th>\n",
       "      <th>Zipcode</th>\n",
       "      <th>MunicipalityFR</th>\n",
       "      <th>StreetFR</th>\n",
       "      <th>HouseNumber</th>\n",
       "      <th>json</th>\n",
       "      <th>status</th>\n",
       "      <th>time</th>\n",
       "      <th>timing</th>\n",
       "      <th>method</th>\n",
       "      <th>street</th>\n",
       "    </tr>\n",
       "  </thead>\n",
       "  <tbody>\n",
       "  </tbody>\n",
       "</table>\n",
       "</div>"
      ],
      "text/plain": [
       "Empty DataFrame\n",
       "Columns: [EntityNumber, CountryFR, Zipcode, MunicipalityFR, StreetFR, HouseNumber, json, status, time, timing, method, street]\n",
       "Index: []"
      ]
     },
     "execution_count": 90,
     "metadata": {},
     "output_type": "execute_result"
    }
   ],
   "source": [
    "addresses[addresses.status == \"error\"]"
   ]
  },
  {
   "cell_type": "code",
   "execution_count": 80,
   "metadata": {
    "ExecuteTime": {
     "end_time": "2020-05-04T11:45:52.183210Z",
     "start_time": "2020-05-04T11:45:36.452676Z"
    }
   },
   "outputs": [
    {
     "data": {
      "application/vnd.jupyter.widget-view+json": {
       "model_id": "9a6acc8341d6499d9889ccfb23d97f2b",
       "version_major": 2,
       "version_minor": 0
      },
      "text/plain": [
       "HBox(children=(IntProgress(value=0, max=3), HTML(value='')))"
      ]
     },
     "metadata": {},
     "output_type": "display_data"
    },
    {
     "name": "stdout",
     "output_type": "stream",
     "text": [
      "\n"
     ]
    },
    {
     "data": {
      "text/plain": [
       "2632339    {'match': [{'SIM_street': 1.0, 'SIM_street_whi...\n",
       "2866222    {'match': [{'SIM_street': 1.0, 'SIM_street_whi...\n",
       "50813      {'match': [{'SIM_street': 1.0, 'SIM_street_whi...\n",
       "dtype: object"
      ]
     },
     "execution_count": 80,
     "metadata": {},
     "output_type": "execute_result"
    }
   ],
   "source": [
    "# addresses[addresses.status == \"error\"].progress_apply(call_ws, axis=1)"
   ]
  },
  {
   "cell_type": "code",
   "execution_count": 91,
   "metadata": {
    "ExecuteTime": {
     "end_time": "2020-05-04T11:59:21.951374Z",
     "start_time": "2020-05-04T11:59:21.922950Z"
    }
   },
   "outputs": [
    {
     "data": {
      "text/plain": [
       "orig                                   377\n",
       "nonum                                   54\n",
       "regex[init]                             35\n",
       "nostreet                                15\n",
       "none                                     9\n",
       "libpostal+regex[lpost]+photon            7\n",
       "photon                                   2\n",
       "libpostal+regex[lpost]+photon+nonum      1\n",
       "Name: method, dtype: int64"
      ]
     },
     "metadata": {},
     "output_type": "display_data"
    }
   ],
   "source": [
    "display(addresses.method.value_counts())"
   ]
  },
  {
   "cell_type": "code",
   "execution_count": 63,
   "metadata": {
    "ExecuteTime": {
     "end_time": "2020-05-04T11:16:52.825725Z",
     "start_time": "2020-05-04T11:16:52.814322Z"
    }
   },
   "outputs": [],
   "source": [
    "addresses[\"_time\"] = addresses.time.apply(lambda t: t.total_seconds())\n",
    "\n"
   ]
  },
  {
   "cell_type": "code",
   "execution_count": 30,
   "metadata": {
    "ExecuteTime": {
     "end_time": "2020-05-04T09:50:07.988823Z",
     "start_time": "2020-05-04T09:50:07.980107Z"
    }
   },
   "outputs": [
    {
     "name": "stdout",
     "output_type": "stream",
     "text": [
      "Method : mean\n"
     ]
    }
   ],
   "source": [
    "print(\"Method : mean\")"
   ]
  },
  {
   "cell_type": "code",
   "execution_count": 31,
   "metadata": {
    "ExecuteTime": {
     "end_time": "2020-05-04T09:50:08.829172Z",
     "start_time": "2020-05-04T09:50:08.810416Z"
    }
   },
   "outputs": [
    {
     "data": {
      "text/plain": [
       "method\n",
       "libpostal+regex[lpost]           2.677368\n",
       "libpostal+regex[lpost]+nonum     4.674206\n",
       "libpostal+regex[lpost]+photon    5.003166\n",
       "none                             5.497937\n",
       "nonum                            1.895245\n",
       "nostreet                         7.814610\n",
       "orig                             1.278190\n",
       "photon                           6.040788\n",
       "regex[init]                      1.415722\n",
       "Name: _time, dtype: float64"
      ]
     },
     "metadata": {},
     "output_type": "display_data"
    }
   ],
   "source": [
    "display(addresses.groupby(\"method\")._time.mean())"
   ]
  },
  {
   "cell_type": "code",
   "execution_count": 32,
   "metadata": {
    "ExecuteTime": {
     "end_time": "2020-05-04T09:50:12.265868Z",
     "start_time": "2020-05-04T09:50:12.256965Z"
    }
   },
   "outputs": [
    {
     "name": "stdout",
     "output_type": "stream",
     "text": [
      "Method : std\n"
     ]
    }
   ],
   "source": [
    "print(\"Method : std\")"
   ]
  },
  {
   "cell_type": "code",
   "execution_count": 33,
   "metadata": {
    "ExecuteTime": {
     "end_time": "2020-05-04T09:50:12.742068Z",
     "start_time": "2020-05-04T09:50:12.717967Z"
    },
    "scrolled": true
   },
   "outputs": [
    {
     "data": {
      "text/plain": [
       "method\n",
       "libpostal+regex[lpost]           0.673513\n",
       "libpostal+regex[lpost]+nonum          NaN\n",
       "libpostal+regex[lpost]+photon    1.396333\n",
       "none                             0.947713\n",
       "nonum                            0.352042\n",
       "nostreet                         2.791604\n",
       "orig                             0.433419\n",
       "photon                           1.985507\n",
       "regex[init]                      0.227433\n",
       "Name: _time, dtype: float64"
      ]
     },
     "metadata": {},
     "output_type": "display_data"
    }
   ],
   "source": [
    "display(addresses.groupby(\"method\")._time.std())"
   ]
  },
  {
   "cell_type": "code",
   "execution_count": null,
   "metadata": {
    "ExecuteTime": {
     "end_time": "2020-01-13T10:42:40.181425Z",
     "start_time": "2020-01-13T10:42:40.173404Z"
    }
   },
   "outputs": [],
   "source": []
  },
  {
   "cell_type": "code",
   "execution_count": 34,
   "metadata": {
    "ExecuteTime": {
     "end_time": "2020-05-04T09:50:13.614051Z",
     "start_time": "2020-05-04T09:50:13.606862Z"
    }
   },
   "outputs": [
    {
     "name": "stdout",
     "output_type": "stream",
     "text": [
      "Status : mean\n"
     ]
    }
   ],
   "source": [
    "print(\"Status : mean\")"
   ]
  },
  {
   "cell_type": "code",
   "execution_count": 35,
   "metadata": {
    "ExecuteTime": {
     "end_time": "2020-05-04T09:50:14.063282Z",
     "start_time": "2020-05-04T09:50:14.047592Z"
    }
   },
   "outputs": [
    {
     "data": {
      "text/plain": [
       "status\n",
       "error       5.304372\n",
       "match       2.365954\n",
       "rejected    5.525589\n",
       "Name: _time, dtype: float64"
      ]
     },
     "metadata": {},
     "output_type": "display_data"
    }
   ],
   "source": [
    "display(addresses.groupby(\"status\")._time.mean())"
   ]
  },
  {
   "cell_type": "code",
   "execution_count": 36,
   "metadata": {
    "ExecuteTime": {
     "end_time": "2020-05-04T09:50:14.587600Z",
     "start_time": "2020-05-04T09:50:14.580221Z"
    }
   },
   "outputs": [
    {
     "name": "stdout",
     "output_type": "stream",
     "text": [
      "Status : std\n"
     ]
    }
   ],
   "source": [
    "print(\"Status : std\")"
   ]
  },
  {
   "cell_type": "code",
   "execution_count": 37,
   "metadata": {
    "ExecuteTime": {
     "end_time": "2020-05-04T09:50:15.364838Z",
     "start_time": "2020-05-04T09:50:15.350400Z"
    },
    "scrolled": true
   },
   "outputs": [
    {
     "data": {
      "text/plain": [
       "status\n",
       "error            NaN\n",
       "match       2.257369\n",
       "rejected    1.020155\n",
       "Name: _time, dtype: float64"
      ]
     },
     "metadata": {},
     "output_type": "display_data"
    }
   ],
   "source": [
    "display(addresses.groupby(\"status\")._time.std())"
   ]
  },
  {
   "cell_type": "code",
   "execution_count": 38,
   "metadata": {
    "ExecuteTime": {
     "end_time": "2020-05-04T09:50:17.242998Z",
     "start_time": "2020-05-04T09:50:15.984616Z"
    }
   },
   "outputs": [
    {
     "data": {
      "image/png": "[encoded data removed]",
      "text/plain": [
       "<Figure size 432x648 with 3 Axes>"
      ]
     },
     "metadata": {
      "needs_background": "light"
     },
     "output_type": "display_data"
    }
   ],
   "source": [
    "fig = get_plots(addresses, \"status\")"
   ]
  },
  {
   "cell_type": "code",
   "execution_count": 39,
   "metadata": {
    "ExecuteTime": {
     "end_time": "2020-05-04T09:50:18.511800Z",
     "start_time": "2020-05-04T09:50:18.261267Z"
    }
   },
   "outputs": [],
   "source": [
    "fig.savefig(\"time_per_status.png\")"
   ]
  },
  {
   "cell_type": "code",
   "execution_count": 40,
   "metadata": {
    "ExecuteTime": {
     "end_time": "2020-05-04T09:50:24.054321Z",
     "start_time": "2020-05-04T09:50:19.647230Z"
    }
   },
   "outputs": [
    {
     "data": {
      "image/png": "[encoded data removed]",
      "text/plain": [
       "<Figure size 432x1944 with 9 Axes>"
      ]
     },
     "metadata": {
      "needs_background": "light"
     },
     "output_type": "display_data"
    }
   ],
   "source": [
    "fig = get_plots(addresses, \"method\")"
   ]
  },
  {
   "cell_type": "code",
   "execution_count": 41,
   "metadata": {
    "ExecuteTime": {
     "end_time": "2020-05-04T09:50:25.014737Z",
     "start_time": "2020-05-04T09:50:24.212529Z"
    }
   },
   "outputs": [],
   "source": [
    "fig.savefig(\"time_per_method.png\")"
   ]
  },
  {
   "cell_type": "markdown",
   "metadata": {},
   "source": [
    "# Batch"
   ]
  },
  {
   "cell_type": "code",
   "execution_count": null,
   "metadata": {
    "ExecuteTime": {
     "end_time": "2020-05-06T13:49:51.773957Z",
     "start_time": "2020-05-06T13:49:51.704797Z"
    }
   },
   "outputs": [],
   "source": [
    "import urllib3"
   ]
  },
  {
   "cell_type": "code",
   "execution_count": 2,
   "metadata": {
    "ExecuteTime": {
     "end_time": "2020-05-06T13:50:19.052300Z",
     "start_time": "2020-05-06T13:50:19.048191Z"
    }
   },
   "outputs": [],
   "source": [
    "http = urllib3.PoolManager()"
   ]
  },
  {
   "cell_type": "code",
   "execution_count": 38,
   "metadata": {
    "ExecuteTime": {
     "end_time": "2020-05-06T13:58:53.980753Z",
     "start_time": "2020-05-06T13:58:53.280581Z"
    }
   },
   "outputs": [],
   "source": []
  },
  {
   "cell_type": "code",
   "execution_count": 40,
   "metadata": {
    "ExecuteTime": {
     "end_time": "2020-05-06T13:59:00.048495Z",
     "start_time": "2020-05-06T13:59:00.043690Z"
    }
   },
   "outputs": [],
   "source": [
    "# file_data"
   ]
  },
  {
   "cell_type": "code",
   "execution_count": 41,
   "metadata": {
    "ExecuteTime": {
     "end_time": "2020-05-06T13:59:12.213816Z",
     "start_time": "2020-05-06T13:59:03.795233Z"
    }
   },
   "outputs": [],
   "source": []
  },
  {
   "cell_type": "code",
   "execution_count": 35,
   "metadata": {
    "ExecuteTime": {
     "end_time": "2020-05-06T13:58:27.968695Z",
     "start_time": "2020-05-06T13:58:27.964534Z"
    },
    "scrolled": true
   },
   "outputs": [],
   "source": [
    "# r.data"
   ]
  },
  {
   "cell_type": "code",
   "execution_count": 42,
   "metadata": {
    "ExecuteTime": {
     "end_time": "2020-05-06T13:59:13.434804Z",
     "start_time": "2020-05-06T13:59:13.360191Z"
    },
    "scrolled": true
   },
   "outputs": [
    {
     "data": {
      "text/html": [
       "<div>\n",
       "<style scoped>\n",
       "    .dataframe tbody tr th:only-of-type {\n",
       "        vertical-align: middle;\n",
       "    }\n",
       "\n",
       "    .dataframe tbody tr th {\n",
       "        vertical-align: top;\n",
       "    }\n",
       "\n",
       "    .dataframe thead th {\n",
       "        text-align: right;\n",
       "    }\n",
       "</style>\n",
       "<table border=\"1\" class=\"dataframe\">\n",
       "  <thead>\n",
       "    <tr style=\"text-align: right;\">\n",
       "      <th></th>\n",
       "      <th>addr_key</th>\n",
       "      <th>country</th>\n",
       "      <th>postcode</th>\n",
       "      <th>city</th>\n",
       "      <th>street</th>\n",
       "      <th>housenumber</th>\n",
       "      <th>osm_addr_in</th>\n",
       "      <th>place_id</th>\n",
       "      <th>lat</th>\n",
       "      <th>lon</th>\n",
       "      <th>...</th>\n",
       "      <th>SIM_street</th>\n",
       "      <th>addr_out_street</th>\n",
       "      <th>addr_out_city</th>\n",
       "      <th>addr_out_number</th>\n",
       "      <th>addr_out_country</th>\n",
       "      <th>addr_out_postcode</th>\n",
       "      <th>addr_out_other</th>\n",
       "      <th>retry_on_26</th>\n",
       "      <th>method</th>\n",
       "      <th>extra_house_nbr</th>\n",
       "    </tr>\n",
       "  </thead>\n",
       "  <tbody>\n",
       "    <tr>\n",
       "      <th>0</th>\n",
       "      <td>0200.065.765</td>\n",
       "      <td>Belgique</td>\n",
       "      <td>9070</td>\n",
       "      <td>Destelbergen</td>\n",
       "      <td>Panhuisstraat</td>\n",
       "      <td>1</td>\n",
       "      <td>Panhuisstraat, 1, 9070 Destelbergen, Belgique</td>\n",
       "      <td>2735074</td>\n",
       "      <td>51.053778</td>\n",
       "      <td>3.77391885009914</td>\n",
       "      <td>...</td>\n",
       "      <td>1.0</td>\n",
       "      <td>Panhuisstraat</td>\n",
       "      <td>Destelbergen</td>\n",
       "      <td>1</td>\n",
       "      <td>België / Belgique / Belgien</td>\n",
       "      <td>9070</td>\n",
       "      <td>Eenbeekeinde</td>\n",
       "      <td>None</td>\n",
       "      <td>orig</td>\n",
       "      <td>1</td>\n",
       "    </tr>\n",
       "    <tr>\n",
       "      <th>1</th>\n",
       "      <td>0200.068.636</td>\n",
       "      <td>Belgique</td>\n",
       "      <td>9000</td>\n",
       "      <td>Gent</td>\n",
       "      <td>Stropstraat</td>\n",
       "      <td>1</td>\n",
       "      <td>Stropstraat, 1, 9000 Gent, Belgique</td>\n",
       "      <td>484031</td>\n",
       "      <td>51.0357569</td>\n",
       "      <td>3.7283446</td>\n",
       "      <td>...</td>\n",
       "      <td>1.0</td>\n",
       "      <td>Stropstraat</td>\n",
       "      <td>Gent</td>\n",
       "      <td>None</td>\n",
       "      <td>België / Belgique / Belgien</td>\n",
       "      <td>9000</td>\n",
       "      <td>Strop</td>\n",
       "      <td>None</td>\n",
       "      <td>orig</td>\n",
       "      <td>1</td>\n",
       "    </tr>\n",
       "    <tr>\n",
       "      <th>2</th>\n",
       "      <td>0200.171.970</td>\n",
       "      <td>Belgique</td>\n",
       "      <td>9000</td>\n",
       "      <td>Gent</td>\n",
       "      <td>Brabantdam</td>\n",
       "      <td>101</td>\n",
       "      <td>Brabantdam, 101, 9000 Gent, Belgique</td>\n",
       "      <td>2320208</td>\n",
       "      <td>51.05002415</td>\n",
       "      <td>3.7312340901057</td>\n",
       "      <td>...</td>\n",
       "      <td>1.0</td>\n",
       "      <td>Brabantdam</td>\n",
       "      <td>Gent</td>\n",
       "      <td>101</td>\n",
       "      <td>België / Belgique / Belgien</td>\n",
       "      <td>9000</td>\n",
       "      <td>Zuid</td>\n",
       "      <td>None</td>\n",
       "      <td>orig</td>\n",
       "      <td>101</td>\n",
       "    </tr>\n",
       "    <tr>\n",
       "      <th>3</th>\n",
       "      <td>0200.245.711</td>\n",
       "      <td>Belgique</td>\n",
       "      <td>9500</td>\n",
       "      <td>Geraardsbergen</td>\n",
       "      <td>Hoge Buizemont</td>\n",
       "      <td>247</td>\n",
       "      <td>Hoge Buizemont, 247, 9500 Geraardsbergen, Belg...</td>\n",
       "      <td>2313893</td>\n",
       "      <td>50.7544352</td>\n",
       "      <td>3.8765523</td>\n",
       "      <td>...</td>\n",
       "      <td>1.0</td>\n",
       "      <td>Hoge Buizemont</td>\n",
       "      <td>Geraardsbergen</td>\n",
       "      <td>None</td>\n",
       "      <td>België / Belgique / Belgien</td>\n",
       "      <td>9500</td>\n",
       "      <td>Grooten Buizemont</td>\n",
       "      <td>None</td>\n",
       "      <td>orig</td>\n",
       "      <td>247</td>\n",
       "    </tr>\n",
       "    <tr>\n",
       "      <th>4</th>\n",
       "      <td>0200.305.493</td>\n",
       "      <td>Belgique</td>\n",
       "      <td>9320</td>\n",
       "      <td>Aalst</td>\n",
       "      <td>Industrielaan</td>\n",
       "      <td>25</td>\n",
       "      <td>Industrielaan, 25, 9320 Aalst, Belgique</td>\n",
       "      <td>1376249</td>\n",
       "      <td>50.9123652</td>\n",
       "      <td>4.0367197</td>\n",
       "      <td>...</td>\n",
       "      <td>1.0</td>\n",
       "      <td>Industrielaan</td>\n",
       "      <td>Aalst</td>\n",
       "      <td>None</td>\n",
       "      <td>België / Belgique / Belgien</td>\n",
       "      <td>9320</td>\n",
       "      <td></td>\n",
       "      <td>None</td>\n",
       "      <td>orig</td>\n",
       "      <td>25</td>\n",
       "    </tr>\n",
       "    <tr>\n",
       "      <th>...</th>\n",
       "      <td>...</td>\n",
       "      <td>...</td>\n",
       "      <td>...</td>\n",
       "      <td>...</td>\n",
       "      <td>...</td>\n",
       "      <td>...</td>\n",
       "      <td>...</td>\n",
       "      <td>...</td>\n",
       "      <td>...</td>\n",
       "      <td>...</td>\n",
       "      <td>...</td>\n",
       "      <td>...</td>\n",
       "      <td>...</td>\n",
       "      <td>...</td>\n",
       "      <td>...</td>\n",
       "      <td>...</td>\n",
       "      <td>...</td>\n",
       "      <td>...</td>\n",
       "      <td>...</td>\n",
       "      <td>...</td>\n",
       "      <td>...</td>\n",
       "    </tr>\n",
       "    <tr>\n",
       "      <th>76</th>\n",
       "      <td>0205.764.318</td>\n",
       "      <td>Belgique</td>\n",
       "      <td>1070</td>\n",
       "      <td>Anderlecht</td>\n",
       "      <td>Boulevard Sylvain Dupuis</td>\n",
       "      <td>251</td>\n",
       "      <td>Boulevard Sylvain Dupuis, 251, 1070 Anderlecht...</td>\n",
       "      <td>1301074</td>\n",
       "      <td>50.83879245</td>\n",
       "      <td>4.28991437679886</td>\n",
       "      <td>...</td>\n",
       "      <td>1.0</td>\n",
       "      <td>Boulevard Sylvain Dupuis - Sylvain Dupuislaan</td>\n",
       "      <td>Anderlecht</td>\n",
       "      <td>251</td>\n",
       "      <td>België / Belgique / Belgien</td>\n",
       "      <td>1070</td>\n",
       "      <td></td>\n",
       "      <td>None</td>\n",
       "      <td>orig</td>\n",
       "      <td>251</td>\n",
       "    </tr>\n",
       "    <tr>\n",
       "      <th>77</th>\n",
       "      <td>0205.774.810</td>\n",
       "      <td>Belgique</td>\n",
       "      <td>3000</td>\n",
       "      <td>Leuven</td>\n",
       "      <td>Brouwersstraat</td>\n",
       "      <td>6</td>\n",
       "      <td>Brouwersstraat, 6, 3000 Leuven, Belgique</td>\n",
       "      <td>1458861</td>\n",
       "      <td>50.88288685</td>\n",
       "      <td>4.69610310174973</td>\n",
       "      <td>...</td>\n",
       "      <td>1.0</td>\n",
       "      <td>Brouwersstraat</td>\n",
       "      <td>Leuven</td>\n",
       "      <td>6</td>\n",
       "      <td>België / Belgique / Belgien</td>\n",
       "      <td>3000</td>\n",
       "      <td>Interleuven - Ridderbuurt</td>\n",
       "      <td>None</td>\n",
       "      <td>orig</td>\n",
       "      <td>6</td>\n",
       "    </tr>\n",
       "    <tr>\n",
       "      <th>78</th>\n",
       "      <td>0205.954.655</td>\n",
       "      <td>Belgique</td>\n",
       "      <td>1050</td>\n",
       "      <td>Ixelles</td>\n",
       "      <td>Rue de Naples</td>\n",
       "      <td>29</td>\n",
       "      <td>Rue de Naples, 29, 1050 Ixelles, Belgique</td>\n",
       "      <td>892558</td>\n",
       "      <td>50.8377053</td>\n",
       "      <td>4.36576246959459</td>\n",
       "      <td>...</td>\n",
       "      <td>1.0</td>\n",
       "      <td>Rue de Naples - Napelsstraat</td>\n",
       "      <td>Ixelles - Elsene</td>\n",
       "      <td>29</td>\n",
       "      <td>België / Belgique / Belgien</td>\n",
       "      <td>1050</td>\n",
       "      <td>Matongé</td>\n",
       "      <td>None</td>\n",
       "      <td>orig</td>\n",
       "      <td>29</td>\n",
       "    </tr>\n",
       "    <tr>\n",
       "      <th>79</th>\n",
       "      <td>0205.970.788</td>\n",
       "      <td>Belgique</td>\n",
       "      <td>1800</td>\n",
       "      <td>Vilvoorde</td>\n",
       "      <td>Medialaan</td>\n",
       "      <td>28</td>\n",
       "      <td>Medialaan, 28, 1800 Vilvoorde, Belgique</td>\n",
       "      <td>556431</td>\n",
       "      <td>50.91461645</td>\n",
       "      <td>4.40000205532192</td>\n",
       "      <td>...</td>\n",
       "      <td>1.0</td>\n",
       "      <td>Medialaan</td>\n",
       "      <td>Vilvoorde</td>\n",
       "      <td>26-28</td>\n",
       "      <td>België / Belgique / Belgien</td>\n",
       "      <td>1800</td>\n",
       "      <td>Business &amp; Mediapark</td>\n",
       "      <td>None</td>\n",
       "      <td>orig</td>\n",
       "      <td>28</td>\n",
       "    </tr>\n",
       "    <tr>\n",
       "      <th>80</th>\n",
       "      <td>0206.041.757</td>\n",
       "      <td>Belgique</td>\n",
       "      <td>1348</td>\n",
       "      <td>Ottignies-Louvain-la-Neuve</td>\n",
       "      <td>Avenue Jean Monnet</td>\n",
       "      <td>2</td>\n",
       "      <td>Avenue Jean Monnet, 2, 1348 Ottignies-Louvain-...</td>\n",
       "      <td>601161</td>\n",
       "      <td>50.67803835</td>\n",
       "      <td>4.6217816549278</td>\n",
       "      <td>...</td>\n",
       "      <td>1.0</td>\n",
       "      <td>Avenue Jean Monnet</td>\n",
       "      <td>Ottignies-Louvain-la-Neuve</td>\n",
       "      <td>2</td>\n",
       "      <td>België / Belgique / Belgien</td>\n",
       "      <td>1348</td>\n",
       "      <td>Parc Monnet</td>\n",
       "      <td>None</td>\n",
       "      <td>orig</td>\n",
       "      <td>2</td>\n",
       "    </tr>\n",
       "  </tbody>\n",
       "</table>\n",
       "<p>81 rows × 26 columns</p>\n",
       "</div>"
      ],
      "text/plain": [
       "        addr_key   country postcode                        city  \\\n",
       "0   0200.065.765  Belgique     9070                Destelbergen   \n",
       "1   0200.068.636  Belgique     9000                        Gent   \n",
       "2   0200.171.970  Belgique     9000                        Gent   \n",
       "3   0200.245.711  Belgique     9500              Geraardsbergen   \n",
       "4   0200.305.493  Belgique     9320                       Aalst   \n",
       "..           ...       ...      ...                         ...   \n",
       "76  0205.764.318  Belgique     1070                  Anderlecht   \n",
       "77  0205.774.810  Belgique     3000                      Leuven   \n",
       "78  0205.954.655  Belgique     1050                     Ixelles   \n",
       "79  0205.970.788  Belgique     1800                   Vilvoorde   \n",
       "80  0206.041.757  Belgique     1348  Ottignies-Louvain-la-Neuve   \n",
       "\n",
       "                      street housenumber  \\\n",
       "0              Panhuisstraat           1   \n",
       "1                Stropstraat           1   \n",
       "2                 Brabantdam         101   \n",
       "3             Hoge Buizemont         247   \n",
       "4              Industrielaan          25   \n",
       "..                       ...         ...   \n",
       "76  Boulevard Sylvain Dupuis         251   \n",
       "77            Brouwersstraat           6   \n",
       "78             Rue de Naples          29   \n",
       "79                 Medialaan          28   \n",
       "80        Avenue Jean Monnet           2   \n",
       "\n",
       "                                          osm_addr_in  place_id          lat  \\\n",
       "0       Panhuisstraat, 1, 9070 Destelbergen, Belgique   2735074    51.053778   \n",
       "1                 Stropstraat, 1, 9000 Gent, Belgique    484031   51.0357569   \n",
       "2                Brabantdam, 101, 9000 Gent, Belgique   2320208  51.05002415   \n",
       "3   Hoge Buizemont, 247, 9500 Geraardsbergen, Belg...   2313893   50.7544352   \n",
       "4             Industrielaan, 25, 9320 Aalst, Belgique   1376249   50.9123652   \n",
       "..                                                ...       ...          ...   \n",
       "76  Boulevard Sylvain Dupuis, 251, 1070 Anderlecht...   1301074  50.83879245   \n",
       "77           Brouwersstraat, 6, 3000 Leuven, Belgique   1458861  50.88288685   \n",
       "78          Rue de Naples, 29, 1050 Ixelles, Belgique    892558   50.8377053   \n",
       "79            Medialaan, 28, 1800 Vilvoorde, Belgique    556431  50.91461645   \n",
       "80  Avenue Jean Monnet, 2, 1348 Ottignies-Louvain-...    601161  50.67803835   \n",
       "\n",
       "                 lon  ... SIM_street  \\\n",
       "0   3.77391885009914  ...        1.0   \n",
       "1          3.7283446  ...        1.0   \n",
       "2    3.7312340901057  ...        1.0   \n",
       "3          3.8765523  ...        1.0   \n",
       "4          4.0367197  ...        1.0   \n",
       "..               ...  ...        ...   \n",
       "76  4.28991437679886  ...        1.0   \n",
       "77  4.69610310174973  ...        1.0   \n",
       "78  4.36576246959459  ...        1.0   \n",
       "79  4.40000205532192  ...        1.0   \n",
       "80   4.6217816549278  ...        1.0   \n",
       "\n",
       "                                  addr_out_street               addr_out_city  \\\n",
       "0                                   Panhuisstraat                Destelbergen   \n",
       "1                                     Stropstraat                        Gent   \n",
       "2                                      Brabantdam                        Gent   \n",
       "3                                  Hoge Buizemont              Geraardsbergen   \n",
       "4                                   Industrielaan                       Aalst   \n",
       "..                                            ...                         ...   \n",
       "76  Boulevard Sylvain Dupuis - Sylvain Dupuislaan                  Anderlecht   \n",
       "77                                 Brouwersstraat                      Leuven   \n",
       "78                   Rue de Naples - Napelsstraat            Ixelles - Elsene   \n",
       "79                                      Medialaan                   Vilvoorde   \n",
       "80                             Avenue Jean Monnet  Ottignies-Louvain-la-Neuve   \n",
       "\n",
       "   addr_out_number             addr_out_country addr_out_postcode  \\\n",
       "0                1  België / Belgique / Belgien              9070   \n",
       "1             None  België / Belgique / Belgien              9000   \n",
       "2              101  België / Belgique / Belgien              9000   \n",
       "3             None  België / Belgique / Belgien              9500   \n",
       "4             None  België / Belgique / Belgien              9320   \n",
       "..             ...                          ...               ...   \n",
       "76             251  België / Belgique / Belgien              1070   \n",
       "77               6  België / Belgique / Belgien              3000   \n",
       "78              29  België / Belgique / Belgien              1050   \n",
       "79           26-28  België / Belgique / Belgien              1800   \n",
       "80               2  België / Belgique / Belgien              1348   \n",
       "\n",
       "               addr_out_other retry_on_26 method extra_house_nbr  \n",
       "0                Eenbeekeinde        None   orig               1  \n",
       "1                       Strop        None   orig               1  \n",
       "2                        Zuid        None   orig             101  \n",
       "3           Grooten Buizemont        None   orig             247  \n",
       "4                                    None   orig              25  \n",
       "..                        ...         ...    ...             ...  \n",
       "76                                   None   orig             251  \n",
       "77  Interleuven - Ridderbuurt        None   orig               6  \n",
       "78                    Matongé        None   orig              29  \n",
       "79       Business & Mediapark        None   orig              28  \n",
       "80                Parc Monnet        None   orig               2  \n",
       "\n",
       "[81 rows x 26 columns]"
      ]
     },
     "execution_count": 42,
     "metadata": {},
     "output_type": "execute_result"
    }
   ],
   "source": []
  },
  {
   "cell_type": "code",
   "execution_count": null,
   "metadata": {},
   "outputs": [],
   "source": []
  },
  {
   "cell_type": "code",
   "execution_count": 43,
   "metadata": {
    "ExecuteTime": {
     "end_time": "2020-05-06T14:05:55.135930Z",
     "start_time": "2020-05-06T14:05:55.120878Z"
    }
   },
   "outputs": [],
   "source": [
    "def call_ws_batch(addr_data, mode=\"geo\"): #lg = \"en,fr,nl\"\n",
    "    file_data = addr_data.rename(columns = {\n",
    "        street_field : \"street\",\n",
    "        housenbr_field: \"housenumber\",\n",
    "        postcode_field: \"postcode\",\n",
    "        city_field: \"city\",\n",
    "        country_field: \"country\",\n",
    "        addr_key_field : \"addr_key\"}).to_csv(index=False)\n",
    "    \n",
    "    r = http.request(\n",
    "    'POST',\n",
    "    'http://127.0.0.1:5000/batch',\n",
    "    fields= { \n",
    "        'media': ('addresses.csv', file_data),\n",
    "        'mode': mode\n",
    "    })\n",
    "    \n",
    "    return pd.DataFrame(json.loads(r.data.decode('utf-8')))\n",
    "    "
   ]
  },
  {
   "cell_type": "code",
   "execution_count": 55,
   "metadata": {
    "ExecuteTime": {
     "end_time": "2020-05-06T14:17:21.965073Z",
     "start_time": "2020-05-06T14:17:08.705454Z"
    }
   },
   "outputs": [],
   "source": [
    "res = call_ws_batch(addresses.iloc[0:50])"
   ]
  },
  {
   "cell_type": "code",
   "execution_count": 57,
   "metadata": {
    "ExecuteTime": {
     "end_time": "2020-05-06T14:17:35.378533Z",
     "start_time": "2020-05-06T14:17:35.369030Z"
    }
   },
   "outputs": [
    {
     "data": {
      "text/plain": [
       "4.556351480945"
      ]
     },
     "execution_count": 57,
     "metadata": {},
     "output_type": "execute_result"
    }
   ],
   "source": [
    "res.lon.mean()"
   ]
  },
  {
   "cell_type": "code",
   "execution_count": 1,
   "metadata": {
    "ExecuteTime": {
     "end_time": "2020-05-08T12:48:08.792492Z",
     "start_time": "2020-05-08T12:48:08.607595Z"
    }
   },
   "outputs": [
    {
     "ename": "NameError",
     "evalue": "name 'pd' is not defined",
     "output_type": "error",
     "traceback": [
      "\u001b[0;31m---------------------------------------------------------------------------\u001b[0m",
      "\u001b[0;31mNameError\u001b[0m                                 Traceback (most recent call last)",
      "\u001b[0;32m<ipython-input-1-941083dfffdb>\u001b[0m in \u001b[0;36m<module>\u001b[0;34m\u001b[0m\n\u001b[0;32m----> 1\u001b[0;31m \u001b[0mpd\u001b[0m\u001b[0;34m.\u001b[0m\u001b[0mDataFrame\u001b[0m\u001b[0;34m(\u001b[0m\u001b[0mjson\u001b[0m\u001b[0;34m.\u001b[0m\u001b[0mloads\u001b[0m\u001b[0;34m(\u001b[0m\u001b[0;34m'[]'\u001b[0m\u001b[0;34m)\u001b[0m\u001b[0;34m)\u001b[0m\u001b[0;34m\u001b[0m\u001b[0;34m\u001b[0m\u001b[0m\n\u001b[0m",
      "\u001b[0;31mNameError\u001b[0m: name 'pd' is not defined"
     ]
    }
   ],
   "source": []
  },
  {
   "cell_type": "code",
   "execution_count": null,
   "metadata": {},
   "outputs": [],
   "source": []
  }
 ],
 "metadata": {
  "kernelspec": {
   "display_name": "Python 3",
   "language": "python",
   "name": "python3"
  },
  "language_info": {
   "codemirror_mode": {
    "name": "ipython",
    "version": 3
   },
   "file_extension": ".py",
   "mimetype": "text/x-python",
   "name": "python",
   "nbconvert_exporter": "python",
   "pygments_lexer": "ipython3",
   "version": "3.6.9"
  },
  "toc": {
   "base_numbering": 1,
   "nav_menu": {},
   "number_sections": true,
   "sideBar": true,
   "skip_h1_title": false,
   "title_cell": "Table of Contents",
   "title_sidebar": "Contents",
   "toc_cell": false,
   "toc_position": {},
   "toc_section_display": true,
   "toc_window_display": false
  },
  "varInspector": {
   "cols": {
    "lenName": 16,
    "lenType": 16,
    "lenVar": 40
   },
   "kernels_config": {
    "python": {
     "delete_cmd_postfix": "",
     "delete_cmd_prefix": "del ",
     "library": "var_list.py",
     "varRefreshCmd": "print(var_dic_list())"
    },
    "r": {
     "delete_cmd_postfix": ") ",
     "delete_cmd_prefix": "rm(",
     "library": "var_list.r",
     "varRefreshCmd": "cat(var_dic_list()) "
    }
   },
   "types_to_exclude": [
    "module",
    "function",
    "builtin_function_or_method",
    "instance",
    "_Feature"
   ],
   "window_display": false
  }
 },
 "nbformat": 4,
 "nbformat_minor": 2
}
