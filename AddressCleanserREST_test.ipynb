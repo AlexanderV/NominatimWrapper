{
 "cells": [
  {
   "cell_type": "code",
   "execution_count": 49,
   "metadata": {
    "ExecuteTime": {
     "end_time": "2020-01-13T09:06:02.610151Z",
     "start_time": "2020-01-13T09:06:02.595573Z"
    }
   },
   "outputs": [],
   "source": [
    "import pandas as pd\n",
    "import urllib\n",
    "\n",
    "import numpy as np\n",
    "\n",
    "import json\n",
    "\n",
    "from tqdm.autonotebook import  tqdm\n",
    "\n",
    "#%matplotlib inline\n",
    "\n",
    "tqdm.pandas(tqdm)\n",
    "\n",
    "import dask.dataframe as dd\n",
    "\n",
    "from dask.multiprocessing import get\n",
    "from dask.diagnostics import ProgressBar\n",
    "\n",
    "from datetime import datetime\n",
    "import matplotlib.pyplot as plt\n",
    "\n",
    "from IPython.display import display\n"
   ]
  },
  {
   "cell_type": "code",
   "execution_count": 50,
   "metadata": {
    "ExecuteTime": {
     "end_time": "2020-01-13T09:06:02.618486Z",
     "start_time": "2020-01-13T09:06:02.614606Z"
    }
   },
   "outputs": [],
   "source": [
    "from config_KBO import * "
   ]
  },
  {
   "cell_type": "code",
   "execution_count": 58,
   "metadata": {
    "ExecuteTime": {
     "end_time": "2020-01-13T09:09:49.178754Z",
     "start_time": "2020-01-13T09:09:49.164841Z"
    }
   },
   "outputs": [],
   "source": [
    "def call_ws(addr_data): #lg = \"en,fr,nl\"\n",
    "    t = datetime.now()\n",
    "    \n",
    "    params = urllib.parse.urlencode({\"street\": addr_data[street_field],\n",
    "                                     \"housenumber\": addr_data[housenbr_field],\n",
    "                                     \"city\": addr_data[city_field],\n",
    "                                     \"postcode\": addr_data[postcode_field]\n",
    "                                    })\n",
    "    url = \"http://172.17.0.3:5000/search/?%s\"%params\n",
    "    \n",
    "    \n",
    "    try:\n",
    "        with urllib.request.urlopen(url) as response:\n",
    "            res = response.read()\n",
    "            res = json.loads(res)\n",
    "#             print(res)\n",
    "            res[\"time\"] = datetime.now() - t\n",
    "            return res\n",
    "    except Exception as e:\n",
    "        return str(e)\n",
    "    "
   ]
  },
  {
   "cell_type": "code",
   "execution_count": 158,
   "metadata": {
    "ExecuteTime": {
     "end_time": "2020-01-13T10:39:26.855110Z",
     "start_time": "2020-01-13T10:39:26.847057Z"
    }
   },
   "outputs": [],
   "source": [
    "def get_plots(addresses, column):\n",
    "    fig, axes = plt.subplots(ncols=1, nrows = addresses[column].nunique(),  sharex=True, figsize=[6, 3*addresses[column].nunique()])\n",
    "\n",
    "    addresses.hist(column=\"_time\", by=column,ax=axes)\n",
    "\n",
    "    return fig"
   ]
  },
  {
   "cell_type": "code",
   "execution_count": 51,
   "metadata": {
    "ExecuteTime": {
     "end_time": "2020-01-13T09:06:18.604045Z",
     "start_time": "2020-01-13T09:06:02.623753Z"
    }
   },
   "outputs": [
    {
     "name": "stderr",
     "output_type": "stream",
     "text": [
      "/home/vandy/.local/lib/python3.6/site-packages/IPython/core/interactiveshell.py:3249: DtypeWarning: Columns (3,4) have mixed types. Specify dtype option on import or set low_memory=False.\n",
      "  if (await self.run_code(code, result,  async_=asy)):\n"
     ]
    }
   ],
   "source": [
    "addresses = get_addresses()"
   ]
  },
  {
   "cell_type": "code",
   "execution_count": 98,
   "metadata": {
    "ExecuteTime": {
     "end_time": "2020-01-13T09:40:25.623268Z",
     "start_time": "2020-01-13T09:40:25.552813Z"
    }
   },
   "outputs": [
    {
     "data": {
      "text/html": [
       "<div>\n",
       "<style scoped>\n",
       "    .dataframe tbody tr th:only-of-type {\n",
       "        vertical-align: middle;\n",
       "    }\n",
       "\n",
       "    .dataframe tbody tr th {\n",
       "        vertical-align: top;\n",
       "    }\n",
       "\n",
       "    .dataframe thead th {\n",
       "        text-align: right;\n",
       "    }\n",
       "</style>\n",
       "<table border=\"1\" class=\"dataframe\">\n",
       "  <thead>\n",
       "    <tr style=\"text-align: right;\">\n",
       "      <th></th>\n",
       "      <th>addr_index</th>\n",
       "      <th>Zipcode</th>\n",
       "      <th>MunicipalityFR</th>\n",
       "      <th>StreetFR</th>\n",
       "      <th>HouseNumber</th>\n",
       "      <th>json</th>\n",
       "      <th>status</th>\n",
       "      <th>method</th>\n",
       "      <th>street</th>\n",
       "      <th>time</th>\n",
       "      <th>_time</th>\n",
       "    </tr>\n",
       "  </thead>\n",
       "  <tbody>\n",
       "    <tr>\n",
       "      <td>1278223</td>\n",
       "      <td>1278223</td>\n",
       "      <td>7812</td>\n",
       "      <td>Ath</td>\n",
       "      <td>Rue du Mont(Mai)</td>\n",
       "      <td>74</td>\n",
       "      <td>{'error': 'HTTPConnectionPool(host='localhost'...</td>\n",
       "      <td>error</td>\n",
       "      <td>none</td>\n",
       "      <td></td>\n",
       "      <td>00:00:00.364517</td>\n",
       "      <td>0.364517</td>\n",
       "    </tr>\n",
       "    <tr>\n",
       "      <td>669747</td>\n",
       "      <td>669747</td>\n",
       "      <td>8550</td>\n",
       "      <td>Zwevegem</td>\n",
       "      <td>Blokkestraat(Z)</td>\n",
       "      <td>57</td>\n",
       "      <td>{'match': [{'SIM_street_which': 'addr_out_stre...</td>\n",
       "      <td>match</td>\n",
       "      <td>orig</td>\n",
       "      <td>Blokkestraat</td>\n",
       "      <td>00:00:00.786517</td>\n",
       "      <td>0.786517</td>\n",
       "    </tr>\n",
       "    <tr>\n",
       "      <td>2034094</td>\n",
       "      <td>2034094</td>\n",
       "      <td>8980</td>\n",
       "      <td>Zonnebeke</td>\n",
       "      <td>Oude Hondstraat</td>\n",
       "      <td>8</td>\n",
       "      <td>{'match': [{'SIM_street_which': 'addr_out_stre...</td>\n",
       "      <td>match</td>\n",
       "      <td>orig</td>\n",
       "      <td>Oude Hondstraat</td>\n",
       "      <td>00:00:00.718302</td>\n",
       "      <td>0.718302</td>\n",
       "    </tr>\n",
       "    <tr>\n",
       "      <td>2384205</td>\n",
       "      <td>2384205</td>\n",
       "      <td>9990</td>\n",
       "      <td>Maldegem</td>\n",
       "      <td>Oude Aardenburgse Weg</td>\n",
       "      <td>10</td>\n",
       "      <td>{'match': [{'SIM_street_which': 'addr_out_stre...</td>\n",
       "      <td>match</td>\n",
       "      <td>orig</td>\n",
       "      <td>Oude Aardenburgse Weg</td>\n",
       "      <td>00:00:00.749213</td>\n",
       "      <td>0.749213</td>\n",
       "    </tr>\n",
       "    <tr>\n",
       "      <td>142261</td>\n",
       "      <td>142261</td>\n",
       "      <td>8510</td>\n",
       "      <td>Kortrijk</td>\n",
       "      <td>Kwabrugstraat(Bel)</td>\n",
       "      <td>5</td>\n",
       "      <td>{'error': 'HTTPConnectionPool(host='localhost'...</td>\n",
       "      <td>error</td>\n",
       "      <td>none</td>\n",
       "      <td></td>\n",
       "      <td>00:00:00.324329</td>\n",
       "      <td>0.324329</td>\n",
       "    </tr>\n",
       "    <tr>\n",
       "      <td>...</td>\n",
       "      <td>...</td>\n",
       "      <td>...</td>\n",
       "      <td>...</td>\n",
       "      <td>...</td>\n",
       "      <td>...</td>\n",
       "      <td>...</td>\n",
       "      <td>...</td>\n",
       "      <td>...</td>\n",
       "      <td>...</td>\n",
       "      <td>...</td>\n",
       "      <td>...</td>\n",
       "    </tr>\n",
       "    <tr>\n",
       "      <td>2765205</td>\n",
       "      <td>2765205</td>\n",
       "      <td>1800.0</td>\n",
       "      <td>Vilvoorde</td>\n",
       "      <td>Stationlei</td>\n",
       "      <td>1</td>\n",
       "      <td>{'match': [{'SIM_street_which': 'addr_out_stre...</td>\n",
       "      <td>match</td>\n",
       "      <td>nonum</td>\n",
       "      <td>Stationlei</td>\n",
       "      <td>00:00:01.012582</td>\n",
       "      <td>1.012582</td>\n",
       "    </tr>\n",
       "    <tr>\n",
       "      <td>348263</td>\n",
       "      <td>348263</td>\n",
       "      <td>1000</td>\n",
       "      <td>Bruxelles</td>\n",
       "      <td>Rue de la Presse</td>\n",
       "      <td>4</td>\n",
       "      <td>{'match': [{'SIM_street_which': 'addr_out_stre...</td>\n",
       "      <td>match</td>\n",
       "      <td>orig</td>\n",
       "      <td>Rue de la Presse - Drukpersstraat</td>\n",
       "      <td>00:00:00.903524</td>\n",
       "      <td>0.903524</td>\n",
       "    </tr>\n",
       "    <tr>\n",
       "      <td>2989443</td>\n",
       "      <td>2989443</td>\n",
       "      <td>2960</td>\n",
       "      <td>Brecht</td>\n",
       "      <td>Kraaienhorst</td>\n",
       "      <td>6</td>\n",
       "      <td>{'match': [{'SIM_street_which': 'addr_out_stre...</td>\n",
       "      <td>match</td>\n",
       "      <td>orig</td>\n",
       "      <td>Kraaienhorst</td>\n",
       "      <td>00:00:00.753739</td>\n",
       "      <td>0.753739</td>\n",
       "    </tr>\n",
       "    <tr>\n",
       "      <td>3071134</td>\n",
       "      <td>3071134</td>\n",
       "      <td>9860</td>\n",
       "      <td>Oosterzele</td>\n",
       "      <td>Bakkerstraat</td>\n",
       "      <td>20</td>\n",
       "      <td>{'match': [{'SIM_street_which': 'addr_out_stre...</td>\n",
       "      <td>match</td>\n",
       "      <td>orig</td>\n",
       "      <td>Bakkerstraat</td>\n",
       "      <td>00:00:00.790406</td>\n",
       "      <td>0.790406</td>\n",
       "    </tr>\n",
       "    <tr>\n",
       "      <td>2957097</td>\n",
       "      <td>2957097</td>\n",
       "      <td>9000</td>\n",
       "      <td>Gent</td>\n",
       "      <td>Koepoortkaai</td>\n",
       "      <td>64</td>\n",
       "      <td>{'match': [{'SIM_street_which': 'addr_out_stre...</td>\n",
       "      <td>match</td>\n",
       "      <td>orig</td>\n",
       "      <td>Koepoortkaai</td>\n",
       "      <td>00:00:00.834948</td>\n",
       "      <td>0.834948</td>\n",
       "    </tr>\n",
       "  </tbody>\n",
       "</table>\n",
       "<p>100 rows × 11 columns</p>\n",
       "</div>"
      ],
      "text/plain": [
       "         addr_index Zipcode MunicipalityFR               StreetFR HouseNumber  \\\n",
       "1278223     1278223    7812            Ath       Rue du Mont(Mai)          74   \n",
       "669747       669747    8550       Zwevegem        Blokkestraat(Z)          57   \n",
       "2034094     2034094    8980      Zonnebeke        Oude Hondstraat           8   \n",
       "2384205     2384205    9990       Maldegem  Oude Aardenburgse Weg          10   \n",
       "142261       142261    8510       Kortrijk     Kwabrugstraat(Bel)           5   \n",
       "...             ...     ...            ...                    ...         ...   \n",
       "2765205     2765205  1800.0      Vilvoorde             Stationlei           1   \n",
       "348263       348263    1000      Bruxelles       Rue de la Presse           4   \n",
       "2989443     2989443    2960         Brecht           Kraaienhorst           6   \n",
       "3071134     3071134    9860     Oosterzele           Bakkerstraat          20   \n",
       "2957097     2957097    9000           Gent           Koepoortkaai          64   \n",
       "\n",
       "                                                      json status method  \\\n",
       "1278223  {'error': 'HTTPConnectionPool(host='localhost'...  error   none   \n",
       "669747   {'match': [{'SIM_street_which': 'addr_out_stre...  match   orig   \n",
       "2034094  {'match': [{'SIM_street_which': 'addr_out_stre...  match   orig   \n",
       "2384205  {'match': [{'SIM_street_which': 'addr_out_stre...  match   orig   \n",
       "142261   {'error': 'HTTPConnectionPool(host='localhost'...  error   none   \n",
       "...                                                    ...    ...    ...   \n",
       "2765205  {'match': [{'SIM_street_which': 'addr_out_stre...  match  nonum   \n",
       "348263   {'match': [{'SIM_street_which': 'addr_out_stre...  match   orig   \n",
       "2989443  {'match': [{'SIM_street_which': 'addr_out_stre...  match   orig   \n",
       "3071134  {'match': [{'SIM_street_which': 'addr_out_stre...  match   orig   \n",
       "2957097  {'match': [{'SIM_street_which': 'addr_out_stre...  match   orig   \n",
       "\n",
       "                                    street            time     _time  \n",
       "1278223                                    00:00:00.364517  0.364517  \n",
       "669747                        Blokkestraat 00:00:00.786517  0.786517  \n",
       "2034094                    Oude Hondstraat 00:00:00.718302  0.718302  \n",
       "2384205              Oude Aardenburgse Weg 00:00:00.749213  0.749213  \n",
       "142261                                     00:00:00.324329  0.324329  \n",
       "...                                    ...             ...       ...  \n",
       "2765205                         Stationlei 00:00:01.012582  1.012582  \n",
       "348263   Rue de la Presse - Drukpersstraat 00:00:00.903524  0.903524  \n",
       "2989443                       Kraaienhorst 00:00:00.753739  0.753739  \n",
       "3071134                       Bakkerstraat 00:00:00.790406  0.790406  \n",
       "2957097                       Koepoortkaai 00:00:00.834948  0.834948  \n",
       "\n",
       "[100 rows x 11 columns]"
      ]
     },
     "metadata": {},
     "output_type": "display_data"
    }
   ],
   "source": [
    "display(addresses)\n"
   ]
  },
  {
   "cell_type": "code",
   "execution_count": 100,
   "metadata": {
    "ExecuteTime": {
     "end_time": "2020-01-13T09:46:30.271901Z",
     "start_time": "2020-01-13T09:45:13.188997Z"
    },
    "scrolled": true
   },
   "outputs": [
    {
     "data": {
      "application/vnd.jupyter.widget-view+json": {
       "model_id": "5c0038916dda496888d83e468784ec7c",
       "version_major": 2,
       "version_minor": 0
      },
      "text/plain": [
       "HBox(children=(IntProgress(value=0), HTML(value='')))"
      ]
     },
     "metadata": {},
     "output_type": "display_data"
    },
    {
     "name": "stdout",
     "output_type": "stream",
     "text": [
      "\n"
     ]
    }
   ],
   "source": [
    "with_dask = False\n",
    "if with_dask : \n",
    "    dd_addresses = dd.from_pandas(addresses, npartitions=4)\n",
    "\n",
    "    dask_task = dd_addresses.apply(call_ws, meta=('x', 'str'), axis=1)\n",
    "\n",
    "    with ProgressBar(): \n",
    "        addresses[\"json\"] = dask_task.compute()\n",
    "else: \n",
    "    \n",
    "    addresses[\"json\"] = addresses.progress_apply(call_ws, axis=1)"
   ]
  },
  {
   "cell_type": "code",
   "execution_count": 101,
   "metadata": {
    "ExecuteTime": {
     "end_time": "2020-01-13T09:46:44.345437Z",
     "start_time": "2020-01-13T09:46:44.260866Z"
    },
    "scrolled": true
   },
   "outputs": [
    {
     "data": {
      "text/html": [
       "<div>\n",
       "<style scoped>\n",
       "    .dataframe tbody tr th:only-of-type {\n",
       "        vertical-align: middle;\n",
       "    }\n",
       "\n",
       "    .dataframe tbody tr th {\n",
       "        vertical-align: top;\n",
       "    }\n",
       "\n",
       "    .dataframe thead th {\n",
       "        text-align: right;\n",
       "    }\n",
       "</style>\n",
       "<table border=\"1\" class=\"dataframe\">\n",
       "  <thead>\n",
       "    <tr style=\"text-align: right;\">\n",
       "      <th></th>\n",
       "      <th>addr_index</th>\n",
       "      <th>Zipcode</th>\n",
       "      <th>MunicipalityFR</th>\n",
       "      <th>StreetFR</th>\n",
       "      <th>HouseNumber</th>\n",
       "      <th>json</th>\n",
       "      <th>status</th>\n",
       "      <th>method</th>\n",
       "      <th>street</th>\n",
       "      <th>time</th>\n",
       "      <th>_time</th>\n",
       "    </tr>\n",
       "  </thead>\n",
       "  <tbody>\n",
       "    <tr>\n",
       "      <td>1278223</td>\n",
       "      <td>1278223</td>\n",
       "      <td>7812</td>\n",
       "      <td>Ath</td>\n",
       "      <td>Rue du Mont(Mai)</td>\n",
       "      <td>74</td>\n",
       "      <td>{'error': 'HTTPConnectionPool(host='localhost'...</td>\n",
       "      <td>error</td>\n",
       "      <td>none</td>\n",
       "      <td></td>\n",
       "      <td>00:00:00.364517</td>\n",
       "      <td>0.364517</td>\n",
       "    </tr>\n",
       "    <tr>\n",
       "      <td>669747</td>\n",
       "      <td>669747</td>\n",
       "      <td>8550</td>\n",
       "      <td>Zwevegem</td>\n",
       "      <td>Blokkestraat(Z)</td>\n",
       "      <td>57</td>\n",
       "      <td>{'match': [{'SIM_street_which': 'addr_out_stre...</td>\n",
       "      <td>match</td>\n",
       "      <td>orig</td>\n",
       "      <td>Blokkestraat</td>\n",
       "      <td>00:00:00.786517</td>\n",
       "      <td>0.786517</td>\n",
       "    </tr>\n",
       "    <tr>\n",
       "      <td>2034094</td>\n",
       "      <td>2034094</td>\n",
       "      <td>8980</td>\n",
       "      <td>Zonnebeke</td>\n",
       "      <td>Oude Hondstraat</td>\n",
       "      <td>8</td>\n",
       "      <td>{'match': [{'SIM_street_which': 'addr_out_stre...</td>\n",
       "      <td>match</td>\n",
       "      <td>orig</td>\n",
       "      <td>Oude Hondstraat</td>\n",
       "      <td>00:00:00.718302</td>\n",
       "      <td>0.718302</td>\n",
       "    </tr>\n",
       "    <tr>\n",
       "      <td>2384205</td>\n",
       "      <td>2384205</td>\n",
       "      <td>9990</td>\n",
       "      <td>Maldegem</td>\n",
       "      <td>Oude Aardenburgse Weg</td>\n",
       "      <td>10</td>\n",
       "      <td>{'match': [{'SIM_street_which': 'addr_out_stre...</td>\n",
       "      <td>match</td>\n",
       "      <td>orig</td>\n",
       "      <td>Oude Aardenburgse Weg</td>\n",
       "      <td>00:00:00.749213</td>\n",
       "      <td>0.749213</td>\n",
       "    </tr>\n",
       "    <tr>\n",
       "      <td>142261</td>\n",
       "      <td>142261</td>\n",
       "      <td>8510</td>\n",
       "      <td>Kortrijk</td>\n",
       "      <td>Kwabrugstraat(Bel)</td>\n",
       "      <td>5</td>\n",
       "      <td>{'error': 'HTTPConnectionPool(host='localhost'...</td>\n",
       "      <td>error</td>\n",
       "      <td>none</td>\n",
       "      <td></td>\n",
       "      <td>00:00:00.324329</td>\n",
       "      <td>0.324329</td>\n",
       "    </tr>\n",
       "    <tr>\n",
       "      <td>...</td>\n",
       "      <td>...</td>\n",
       "      <td>...</td>\n",
       "      <td>...</td>\n",
       "      <td>...</td>\n",
       "      <td>...</td>\n",
       "      <td>...</td>\n",
       "      <td>...</td>\n",
       "      <td>...</td>\n",
       "      <td>...</td>\n",
       "      <td>...</td>\n",
       "      <td>...</td>\n",
       "    </tr>\n",
       "    <tr>\n",
       "      <td>2765205</td>\n",
       "      <td>2765205</td>\n",
       "      <td>1800.0</td>\n",
       "      <td>Vilvoorde</td>\n",
       "      <td>Stationlei</td>\n",
       "      <td>1</td>\n",
       "      <td>{'match': [{'SIM_street_which': 'addr_out_stre...</td>\n",
       "      <td>match</td>\n",
       "      <td>nonum</td>\n",
       "      <td>Stationlei</td>\n",
       "      <td>00:00:01.012582</td>\n",
       "      <td>1.012582</td>\n",
       "    </tr>\n",
       "    <tr>\n",
       "      <td>348263</td>\n",
       "      <td>348263</td>\n",
       "      <td>1000</td>\n",
       "      <td>Bruxelles</td>\n",
       "      <td>Rue de la Presse</td>\n",
       "      <td>4</td>\n",
       "      <td>{'match': [{'SIM_street_which': 'addr_out_stre...</td>\n",
       "      <td>match</td>\n",
       "      <td>orig</td>\n",
       "      <td>Rue de la Presse - Drukpersstraat</td>\n",
       "      <td>00:00:00.903524</td>\n",
       "      <td>0.903524</td>\n",
       "    </tr>\n",
       "    <tr>\n",
       "      <td>2989443</td>\n",
       "      <td>2989443</td>\n",
       "      <td>2960</td>\n",
       "      <td>Brecht</td>\n",
       "      <td>Kraaienhorst</td>\n",
       "      <td>6</td>\n",
       "      <td>{'match': [{'SIM_street_which': 'addr_out_stre...</td>\n",
       "      <td>match</td>\n",
       "      <td>orig</td>\n",
       "      <td>Kraaienhorst</td>\n",
       "      <td>00:00:00.753739</td>\n",
       "      <td>0.753739</td>\n",
       "    </tr>\n",
       "    <tr>\n",
       "      <td>3071134</td>\n",
       "      <td>3071134</td>\n",
       "      <td>9860</td>\n",
       "      <td>Oosterzele</td>\n",
       "      <td>Bakkerstraat</td>\n",
       "      <td>20</td>\n",
       "      <td>{'match': [{'SIM_street_which': 'addr_out_stre...</td>\n",
       "      <td>match</td>\n",
       "      <td>orig</td>\n",
       "      <td>Bakkerstraat</td>\n",
       "      <td>00:00:00.790406</td>\n",
       "      <td>0.790406</td>\n",
       "    </tr>\n",
       "    <tr>\n",
       "      <td>2957097</td>\n",
       "      <td>2957097</td>\n",
       "      <td>9000</td>\n",
       "      <td>Gent</td>\n",
       "      <td>Koepoortkaai</td>\n",
       "      <td>64</td>\n",
       "      <td>{'match': [{'SIM_street_which': 'addr_out_stre...</td>\n",
       "      <td>match</td>\n",
       "      <td>orig</td>\n",
       "      <td>Koepoortkaai</td>\n",
       "      <td>00:00:00.834948</td>\n",
       "      <td>0.834948</td>\n",
       "    </tr>\n",
       "  </tbody>\n",
       "</table>\n",
       "<p>100 rows × 11 columns</p>\n",
       "</div>"
      ],
      "text/plain": [
       "         addr_index Zipcode MunicipalityFR               StreetFR HouseNumber  \\\n",
       "1278223     1278223    7812            Ath       Rue du Mont(Mai)          74   \n",
       "669747       669747    8550       Zwevegem        Blokkestraat(Z)          57   \n",
       "2034094     2034094    8980      Zonnebeke        Oude Hondstraat           8   \n",
       "2384205     2384205    9990       Maldegem  Oude Aardenburgse Weg          10   \n",
       "142261       142261    8510       Kortrijk     Kwabrugstraat(Bel)           5   \n",
       "...             ...     ...            ...                    ...         ...   \n",
       "2765205     2765205  1800.0      Vilvoorde             Stationlei           1   \n",
       "348263       348263    1000      Bruxelles       Rue de la Presse           4   \n",
       "2989443     2989443    2960         Brecht           Kraaienhorst           6   \n",
       "3071134     3071134    9860     Oosterzele           Bakkerstraat          20   \n",
       "2957097     2957097    9000           Gent           Koepoortkaai          64   \n",
       "\n",
       "                                                      json status method  \\\n",
       "1278223  {'error': 'HTTPConnectionPool(host='localhost'...  error   none   \n",
       "669747   {'match': [{'SIM_street_which': 'addr_out_stre...  match   orig   \n",
       "2034094  {'match': [{'SIM_street_which': 'addr_out_stre...  match   orig   \n",
       "2384205  {'match': [{'SIM_street_which': 'addr_out_stre...  match   orig   \n",
       "142261   {'error': 'HTTPConnectionPool(host='localhost'...  error   none   \n",
       "...                                                    ...    ...    ...   \n",
       "2765205  {'match': [{'SIM_street_which': 'addr_out_stre...  match  nonum   \n",
       "348263   {'match': [{'SIM_street_which': 'addr_out_stre...  match   orig   \n",
       "2989443  {'match': [{'SIM_street_which': 'addr_out_stre...  match   orig   \n",
       "3071134  {'match': [{'SIM_street_which': 'addr_out_stre...  match   orig   \n",
       "2957097  {'match': [{'SIM_street_which': 'addr_out_stre...  match   orig   \n",
       "\n",
       "                                    street            time     _time  \n",
       "1278223                                    00:00:00.364517  0.364517  \n",
       "669747                        Blokkestraat 00:00:00.786517  0.786517  \n",
       "2034094                    Oude Hondstraat 00:00:00.718302  0.718302  \n",
       "2384205              Oude Aardenburgse Weg 00:00:00.749213  0.749213  \n",
       "142261                                     00:00:00.324329  0.324329  \n",
       "...                                    ...             ...       ...  \n",
       "2765205                         Stationlei 00:00:01.012582  1.012582  \n",
       "348263   Rue de la Presse - Drukpersstraat 00:00:00.903524  0.903524  \n",
       "2989443                       Kraaienhorst 00:00:00.753739  0.753739  \n",
       "3071134                       Bakkerstraat 00:00:00.790406  0.790406  \n",
       "2957097                       Koepoortkaai 00:00:00.834948  0.834948  \n",
       "\n",
       "[100 rows x 11 columns]"
      ]
     },
     "execution_count": 101,
     "metadata": {},
     "output_type": "execute_result"
    }
   ],
   "source": [
    "# Flask : 1:03\n",
    "# gunicorn -w 1: 0:55\n",
    "# gunicorn -w 2, npartition=2: 0:30\n",
    "# gunicorn -w 2, npartition=4: 0:30\n",
    "# gunicorn -w 4, npartition=4: 0:33\n",
    "\n",
    "addresses"
   ]
  },
  {
   "cell_type": "code",
   "execution_count": 102,
   "metadata": {
    "ExecuteTime": {
     "end_time": "2020-01-13T09:46:49.726736Z",
     "start_time": "2020-01-13T09:46:49.640345Z"
    },
    "scrolled": true
   },
   "outputs": [
    {
     "data": {
      "text/html": [
       "<div>\n",
       "<style scoped>\n",
       "    .dataframe tbody tr th:only-of-type {\n",
       "        vertical-align: middle;\n",
       "    }\n",
       "\n",
       "    .dataframe tbody tr th {\n",
       "        vertical-align: top;\n",
       "    }\n",
       "\n",
       "    .dataframe thead th {\n",
       "        text-align: right;\n",
       "    }\n",
       "</style>\n",
       "<table border=\"1\" class=\"dataframe\">\n",
       "  <thead>\n",
       "    <tr style=\"text-align: right;\">\n",
       "      <th></th>\n",
       "      <th>addr_index</th>\n",
       "      <th>Zipcode</th>\n",
       "      <th>MunicipalityFR</th>\n",
       "      <th>StreetFR</th>\n",
       "      <th>HouseNumber</th>\n",
       "      <th>status</th>\n",
       "      <th>method</th>\n",
       "      <th>street</th>\n",
       "      <th>time</th>\n",
       "      <th>_time</th>\n",
       "    </tr>\n",
       "  </thead>\n",
       "  <tbody>\n",
       "    <tr>\n",
       "      <td>1278223</td>\n",
       "      <td>1278223</td>\n",
       "      <td>7812</td>\n",
       "      <td>Ath</td>\n",
       "      <td>Rue du Mont(Mai)</td>\n",
       "      <td>74</td>\n",
       "      <td>error</td>\n",
       "      <td>none</td>\n",
       "      <td></td>\n",
       "      <td>00:00:00.380352</td>\n",
       "      <td>0.364517</td>\n",
       "    </tr>\n",
       "    <tr>\n",
       "      <td>669747</td>\n",
       "      <td>669747</td>\n",
       "      <td>8550</td>\n",
       "      <td>Zwevegem</td>\n",
       "      <td>Blokkestraat(Z)</td>\n",
       "      <td>57</td>\n",
       "      <td>match</td>\n",
       "      <td>orig</td>\n",
       "      <td>Blokkestraat</td>\n",
       "      <td>00:00:00.800699</td>\n",
       "      <td>0.786517</td>\n",
       "    </tr>\n",
       "    <tr>\n",
       "      <td>2034094</td>\n",
       "      <td>2034094</td>\n",
       "      <td>8980</td>\n",
       "      <td>Zonnebeke</td>\n",
       "      <td>Oude Hondstraat</td>\n",
       "      <td>8</td>\n",
       "      <td>match</td>\n",
       "      <td>orig</td>\n",
       "      <td>Oude Hondstraat</td>\n",
       "      <td>00:00:00.681642</td>\n",
       "      <td>0.718302</td>\n",
       "    </tr>\n",
       "    <tr>\n",
       "      <td>2384205</td>\n",
       "      <td>2384205</td>\n",
       "      <td>9990</td>\n",
       "      <td>Maldegem</td>\n",
       "      <td>Oude Aardenburgse Weg</td>\n",
       "      <td>10</td>\n",
       "      <td>match</td>\n",
       "      <td>orig</td>\n",
       "      <td>Oude Aardenburgse Weg</td>\n",
       "      <td>00:00:00.732109</td>\n",
       "      <td>0.749213</td>\n",
       "    </tr>\n",
       "    <tr>\n",
       "      <td>142261</td>\n",
       "      <td>142261</td>\n",
       "      <td>8510</td>\n",
       "      <td>Kortrijk</td>\n",
       "      <td>Kwabrugstraat(Bel)</td>\n",
       "      <td>5</td>\n",
       "      <td>error</td>\n",
       "      <td>none</td>\n",
       "      <td></td>\n",
       "      <td>00:00:00.334254</td>\n",
       "      <td>0.324329</td>\n",
       "    </tr>\n",
       "    <tr>\n",
       "      <td>...</td>\n",
       "      <td>...</td>\n",
       "      <td>...</td>\n",
       "      <td>...</td>\n",
       "      <td>...</td>\n",
       "      <td>...</td>\n",
       "      <td>...</td>\n",
       "      <td>...</td>\n",
       "      <td>...</td>\n",
       "      <td>...</td>\n",
       "      <td>...</td>\n",
       "    </tr>\n",
       "    <tr>\n",
       "      <td>2765205</td>\n",
       "      <td>2765205</td>\n",
       "      <td>1800.0</td>\n",
       "      <td>Vilvoorde</td>\n",
       "      <td>Stationlei</td>\n",
       "      <td>1</td>\n",
       "      <td>match</td>\n",
       "      <td>nonum</td>\n",
       "      <td>Stationlei</td>\n",
       "      <td>00:00:00.853862</td>\n",
       "      <td>1.012582</td>\n",
       "    </tr>\n",
       "    <tr>\n",
       "      <td>348263</td>\n",
       "      <td>348263</td>\n",
       "      <td>1000</td>\n",
       "      <td>Bruxelles</td>\n",
       "      <td>Rue de la Presse</td>\n",
       "      <td>4</td>\n",
       "      <td>match</td>\n",
       "      <td>orig</td>\n",
       "      <td>Rue de la Presse - Drukpersstraat</td>\n",
       "      <td>00:00:00.830837</td>\n",
       "      <td>0.903524</td>\n",
       "    </tr>\n",
       "    <tr>\n",
       "      <td>2989443</td>\n",
       "      <td>2989443</td>\n",
       "      <td>2960</td>\n",
       "      <td>Brecht</td>\n",
       "      <td>Kraaienhorst</td>\n",
       "      <td>6</td>\n",
       "      <td>match</td>\n",
       "      <td>orig</td>\n",
       "      <td>Kraaienhorst</td>\n",
       "      <td>00:00:00.650633</td>\n",
       "      <td>0.753739</td>\n",
       "    </tr>\n",
       "    <tr>\n",
       "      <td>3071134</td>\n",
       "      <td>3071134</td>\n",
       "      <td>9860</td>\n",
       "      <td>Oosterzele</td>\n",
       "      <td>Bakkerstraat</td>\n",
       "      <td>20</td>\n",
       "      <td>match</td>\n",
       "      <td>orig</td>\n",
       "      <td>Bakkerstraat</td>\n",
       "      <td>00:00:00.773442</td>\n",
       "      <td>0.790406</td>\n",
       "    </tr>\n",
       "    <tr>\n",
       "      <td>2957097</td>\n",
       "      <td>2957097</td>\n",
       "      <td>9000</td>\n",
       "      <td>Gent</td>\n",
       "      <td>Koepoortkaai</td>\n",
       "      <td>64</td>\n",
       "      <td>match</td>\n",
       "      <td>orig</td>\n",
       "      <td>Koepoortkaai</td>\n",
       "      <td>00:00:00.752771</td>\n",
       "      <td>0.834948</td>\n",
       "    </tr>\n",
       "  </tbody>\n",
       "</table>\n",
       "<p>100 rows × 10 columns</p>\n",
       "</div>"
      ],
      "text/plain": [
       "         addr_index Zipcode MunicipalityFR               StreetFR HouseNumber  \\\n",
       "1278223     1278223    7812            Ath       Rue du Mont(Mai)          74   \n",
       "669747       669747    8550       Zwevegem        Blokkestraat(Z)          57   \n",
       "2034094     2034094    8980      Zonnebeke        Oude Hondstraat           8   \n",
       "2384205     2384205    9990       Maldegem  Oude Aardenburgse Weg          10   \n",
       "142261       142261    8510       Kortrijk     Kwabrugstraat(Bel)           5   \n",
       "...             ...     ...            ...                    ...         ...   \n",
       "2765205     2765205  1800.0      Vilvoorde             Stationlei           1   \n",
       "348263       348263    1000      Bruxelles       Rue de la Presse           4   \n",
       "2989443     2989443    2960         Brecht           Kraaienhorst           6   \n",
       "3071134     3071134    9860     Oosterzele           Bakkerstraat          20   \n",
       "2957097     2957097    9000           Gent           Koepoortkaai          64   \n",
       "\n",
       "        status method                             street            time  \\\n",
       "1278223  error   none                                    00:00:00.380352   \n",
       "669747   match   orig                       Blokkestraat 00:00:00.800699   \n",
       "2034094  match   orig                    Oude Hondstraat 00:00:00.681642   \n",
       "2384205  match   orig              Oude Aardenburgse Weg 00:00:00.732109   \n",
       "142261   error   none                                    00:00:00.334254   \n",
       "...        ...    ...                                ...             ...   \n",
       "2765205  match  nonum                         Stationlei 00:00:00.853862   \n",
       "348263   match   orig  Rue de la Presse - Drukpersstraat 00:00:00.830837   \n",
       "2989443  match   orig                       Kraaienhorst 00:00:00.650633   \n",
       "3071134  match   orig                       Bakkerstraat 00:00:00.773442   \n",
       "2957097  match   orig                       Koepoortkaai 00:00:00.752771   \n",
       "\n",
       "            _time  \n",
       "1278223  0.364517  \n",
       "669747   0.786517  \n",
       "2034094  0.718302  \n",
       "2384205  0.749213  \n",
       "142261   0.324329  \n",
       "...           ...  \n",
       "2765205  1.012582  \n",
       "348263   0.903524  \n",
       "2989443  0.753739  \n",
       "3071134  0.790406  \n",
       "2957097  0.834948  \n",
       "\n",
       "[100 rows x 10 columns]"
      ]
     },
     "metadata": {},
     "output_type": "display_data"
    }
   ],
   "source": [
    "addresses[\"status\"]= addresses.json.apply(lambda d: \"error\" if \"error\" in d else \"match\" if \"match\" in d else \"rejected\")\n",
    "addresses[\"time\"]  = addresses.json.apply(lambda d: d[\"time\"])\n",
    "\n",
    "addresses[\"timing\"]  = addresses.json.apply(lambda d: d[\"timing\" if \"timing\" in d else {}])\n",
    "\n",
    "addresses[\"method\"]= addresses.json.apply(lambda d: d[\"match\"][0][\"method\"] if len(d)>0 and \"match\" in d else \"none\")\n",
    "addresses[\"street\"]= addresses.json.apply(lambda d: d[\"match\"][0][\"addr_out_street\"] if len(d)>0 and \"match\" in d else \"\")\n",
    "\n",
    "\n",
    "display(addresses.drop(\"json\", axis=1))"
   ]
  },
  {
   "cell_type": "code",
   "execution_count": null,
   "metadata": {},
   "outputs": [],
   "source": [
    "addresses[\"timing\"].apply(pd.Series)"
   ]
  },
  {
   "cell_type": "code",
   "execution_count": 103,
   "metadata": {
    "ExecuteTime": {
     "end_time": "2020-01-13T09:46:50.298102Z",
     "start_time": "2020-01-13T09:46:50.283881Z"
    }
   },
   "outputs": [
    {
     "data": {
      "text/plain": [
       "match    81\n",
       "error    19\n",
       "Name: status, dtype: int64"
      ]
     },
     "metadata": {},
     "output_type": "display_data"
    }
   ],
   "source": [
    "display(addresses.status.value_counts())"
   ]
  },
  {
   "cell_type": "code",
   "execution_count": 104,
   "metadata": {
    "ExecuteTime": {
     "end_time": "2020-01-13T09:46:50.610461Z",
     "start_time": "2020-01-13T09:46:50.597086Z"
    }
   },
   "outputs": [
    {
     "data": {
      "text/plain": [
       "orig     73\n",
       "none     19\n",
       "nonum     8\n",
       "Name: method, dtype: int64"
      ]
     },
     "metadata": {},
     "output_type": "display_data"
    }
   ],
   "source": [
    "display(addresses.method.value_counts())"
   ]
  },
  {
   "cell_type": "code",
   "execution_count": 163,
   "metadata": {
    "ExecuteTime": {
     "end_time": "2020-01-13T10:39:55.317910Z",
     "start_time": "2020-01-13T10:39:55.308676Z"
    }
   },
   "outputs": [],
   "source": [
    "addresses[\"_time\"] = addresses.time.apply(lambda t: t.total_seconds())\n",
    "\n"
   ]
  },
  {
   "cell_type": "code",
   "execution_count": null,
   "metadata": {},
   "outputs": [],
   "source": [
    "print(\"Method : mean\")"
   ]
  },
  {
   "cell_type": "code",
   "execution_count": 166,
   "metadata": {
    "ExecuteTime": {
     "end_time": "2020-01-13T10:41:12.859951Z",
     "start_time": "2020-01-13T10:41:12.844567Z"
    }
   },
   "outputs": [
    {
     "data": {
      "text/plain": [
       "method\n",
       "none     0.351192\n",
       "nonum    1.022264\n",
       "orig     0.847274\n",
       "Name: _time, dtype: float64"
      ]
     },
     "execution_count": 166,
     "metadata": {},
     "output_type": "execute_result"
    }
   ],
   "source": [
    "display(addresses.groupby(\"method\")._time.mean())"
   ]
  },
  {
   "cell_type": "code",
   "execution_count": null,
   "metadata": {},
   "outputs": [],
   "source": [
    "print(\"Method : std\")"
   ]
  },
  {
   "cell_type": "code",
   "execution_count": 171,
   "metadata": {
    "ExecuteTime": {
     "end_time": "2020-01-13T10:42:43.414778Z",
     "start_time": "2020-01-13T10:42:43.399963Z"
    },
    "scrolled": true
   },
   "outputs": [
    {
     "data": {
      "text/plain": [
       "method\n",
       "none     0.043000\n",
       "nonum    0.165834\n",
       "orig     0.186315\n",
       "Name: _time, dtype: float64"
      ]
     },
     "metadata": {},
     "output_type": "display_data"
    }
   ],
   "source": [
    "display(addresses.groupby(\"method\")._time.std())"
   ]
  },
  {
   "cell_type": "code",
   "execution_count": 170,
   "metadata": {
    "ExecuteTime": {
     "end_time": "2020-01-13T10:42:40.181425Z",
     "start_time": "2020-01-13T10:42:40.173404Z"
    }
   },
   "outputs": [
    {
     "data": {
      "text/plain": [
       "0.26594356101266936"
      ]
     },
     "execution_count": 170,
     "metadata": {},
     "output_type": "execute_result"
    }
   ],
   "source": []
  },
  {
   "cell_type": "code",
   "execution_count": 172,
   "metadata": {
    "ExecuteTime": {
     "end_time": "2020-01-13T10:43:46.245955Z",
     "start_time": "2020-01-13T10:43:46.240549Z"
    }
   },
   "outputs": [
    {
     "name": "stdout",
     "output_type": "stream",
     "text": [
      "Status : mean\n"
     ]
    }
   ],
   "source": [
    "print(\"Status : mean\")"
   ]
  },
  {
   "cell_type": "code",
   "execution_count": 173,
   "metadata": {
    "ExecuteTime": {
     "end_time": "2020-01-13T10:43:46.673816Z",
     "start_time": "2020-01-13T10:43:46.657833Z"
    }
   },
   "outputs": [
    {
     "data": {
      "text/plain": [
       "status\n",
       "error    0.351192\n",
       "match    0.864557\n",
       "Name: _time, dtype: float64"
      ]
     },
     "metadata": {},
     "output_type": "display_data"
    }
   ],
   "source": [
    "display(addresses.groupby(\"status\")._time.mean())"
   ]
  },
  {
   "cell_type": "code",
   "execution_count": 174,
   "metadata": {
    "ExecuteTime": {
     "end_time": "2020-01-13T10:43:59.276265Z",
     "start_time": "2020-01-13T10:43:59.268353Z"
    }
   },
   "outputs": [
    {
     "name": "stdout",
     "output_type": "stream",
     "text": [
      "Status : std\n"
     ]
    }
   ],
   "source": [
    "print(\"Status : std\")"
   ]
  },
  {
   "cell_type": "code",
   "execution_count": 175,
   "metadata": {
    "ExecuteTime": {
     "end_time": "2020-01-13T10:43:59.610467Z",
     "start_time": "2020-01-13T10:43:59.593782Z"
    },
    "scrolled": true
   },
   "outputs": [
    {
     "data": {
      "text/plain": [
       "status\n",
       "error    0.043000\n",
       "match    0.190809\n",
       "Name: _time, dtype: float64"
      ]
     },
     "metadata": {},
     "output_type": "display_data"
    }
   ],
   "source": [
    "display(addresses.groupby(\"status\")._time.std())"
   ]
  },
  {
   "cell_type": "code",
   "execution_count": 159,
   "metadata": {
    "ExecuteTime": {
     "end_time": "2020-01-13T10:39:32.041700Z",
     "start_time": "2020-01-13T10:39:31.192553Z"
    }
   },
   "outputs": [
    {
     "data": {
      "image/png": "[encoded data removed]",
      "text/plain": [
       "<Figure size 432x432 with 2 Axes>"
      ]
     },
     "metadata": {
      "needs_background": "light"
     },
     "output_type": "display_data"
    }
   ],
   "source": [
    "fig = get_plots(addresses, \"status\")"
   ]
  },
  {
   "cell_type": "code",
   "execution_count": 160,
   "metadata": {
    "ExecuteTime": {
     "end_time": "2020-01-13T10:39:36.988581Z",
     "start_time": "2020-01-13T10:39:36.829890Z"
    }
   },
   "outputs": [],
   "source": [
    "fig.savefig(\"time_per_status.png\")"
   ]
  },
  {
   "cell_type": "code",
   "execution_count": 161,
   "metadata": {
    "ExecuteTime": {
     "end_time": "2020-01-13T10:39:40.628436Z",
     "start_time": "2020-01-13T10:39:39.304462Z"
    }
   },
   "outputs": [
    {
     "data": {
      "image/png": "[encoded data removed]",
      "text/plain": [
       "<Figure size 432x648 with 3 Axes>"
      ]
     },
     "metadata": {
      "needs_background": "light"
     },
     "output_type": "display_data"
    }
   ],
   "source": [
    "fig = get_plots(addresses, \"method\")"
   ]
  },
  {
   "cell_type": "code",
   "execution_count": 162,
   "metadata": {
    "ExecuteTime": {
     "end_time": "2020-01-13T10:39:43.706083Z",
     "start_time": "2020-01-13T10:39:43.476489Z"
    }
   },
   "outputs": [],
   "source": [
    "fig.savefig(\"time_per_method.png\")"
   ]
  },
  {
   "cell_type": "code",
   "execution_count": null,
   "metadata": {},
   "outputs": [],
   "source": []
  }
 ],
 "metadata": {
  "kernelspec": {
   "display_name": "Python 3",
   "language": "python",
   "name": "python3"
  },
  "language_info": {
   "codemirror_mode": {
    "name": "ipython",
    "version": 3
   },
   "file_extension": ".py",
   "mimetype": "text/x-python",
   "name": "python",
   "nbconvert_exporter": "python",
   "pygments_lexer": "ipython3",
   "version": "3.6.8"
  },
  "toc": {
   "base_numbering": 1,
   "nav_menu": {},
   "number_sections": true,
   "sideBar": true,
   "skip_h1_title": false,
   "title_cell": "Table of Contents",
   "title_sidebar": "Contents",
   "toc_cell": false,
   "toc_position": {},
   "toc_section_display": true,
   "toc_window_display": false
  },
  "varInspector": {
   "cols": {
    "lenName": 16,
    "lenType": 16,
    "lenVar": 40
   },
   "kernels_config": {
    "python": {
     "delete_cmd_postfix": "",
     "delete_cmd_prefix": "del ",
     "library": "var_list.py",
     "varRefreshCmd": "print(var_dic_list())"
    },
    "r": {
     "delete_cmd_postfix": ") ",
     "delete_cmd_prefix": "rm(",
     "library": "var_list.r",
     "varRefreshCmd": "cat(var_dic_list()) "
    }
   },
   "types_to_exclude": [
    "module",
    "function",
    "builtin_function_or_method",
    "instance",
    "_Feature"
   ],
   "window_display": false
  }
 },
 "nbformat": 4,
 "nbformat_minor": 2
}
