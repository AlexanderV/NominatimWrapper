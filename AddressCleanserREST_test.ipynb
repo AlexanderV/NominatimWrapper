{
 "cells": [
  {
   "cell_type": "code",
   "execution_count": 77,
   "metadata": {
    "ExecuteTime": {
     "end_time": "2020-11-20T12:49:35.366108Z",
     "start_time": "2020-11-20T12:49:35.353360Z"
    }
   },
   "outputs": [],
   "source": [
    "import pandas as pd\n",
    "import urllib\n",
    "\n",
    "import numpy as np\n",
    "\n",
    "import json\n",
    "\n",
    "from tqdm.autonotebook import tqdm\n",
    "\n",
    "#%matplotlib inline\n",
    "\n",
    "tqdm.pandas(tqdm)\n",
    "\n",
    "import dask.dataframe as dd\n",
    "\n",
    "from dask.multiprocessing import get\n",
    "from dask.diagnostics import ProgressBar\n",
    "\n",
    "from datetime import datetime\n",
    "import matplotlib.pyplot as plt\n",
    "\n",
    "from IPython.display import display\n"
   ]
  },
  {
   "cell_type": "code",
   "execution_count": 2,
   "metadata": {
    "ExecuteTime": {
     "end_time": "2020-11-18T10:55:12.655026Z",
     "start_time": "2020-11-18T10:55:12.458304Z"
    }
   },
   "outputs": [],
   "source": [
    "import urllib3"
   ]
  },
  {
   "cell_type": "code",
   "execution_count": 3,
   "metadata": {
    "ExecuteTime": {
     "end_time": "2020-11-18T10:55:12.688789Z",
     "start_time": "2020-11-18T10:55:12.683978Z"
    }
   },
   "outputs": [],
   "source": [
    "http = urllib3.PoolManager()"
   ]
  },
  {
   "cell_type": "code",
   "execution_count": 4,
   "metadata": {
    "ExecuteTime": {
     "end_time": "2020-11-18T10:55:12.744336Z",
     "start_time": "2020-11-18T10:55:12.718028Z"
    }
   },
   "outputs": [],
   "source": [
    "from config_batch import * "
   ]
  },
  {
   "cell_type": "markdown",
   "metadata": {
    "ExecuteTime": {
     "end_time": "2020-05-06T13:50:43.162875Z",
     "start_time": "2020-05-06T13:50:43.151794Z"
    }
   },
   "source": [
    "# Functions"
   ]
  },
  {
   "cell_type": "code",
   "execution_count": 5,
   "metadata": {
    "ExecuteTime": {
     "end_time": "2020-11-18T10:55:12.883360Z",
     "start_time": "2020-11-18T10:55:12.873879Z"
    }
   },
   "outputs": [],
   "source": [
    "ws_hostname = \"127.0.0.1\""
   ]
  },
  {
   "cell_type": "code",
   "execution_count": 6,
   "metadata": {
    "ExecuteTime": {
     "end_time": "2020-11-18T10:55:14.010269Z",
     "start_time": "2020-11-18T10:55:13.994317Z"
    }
   },
   "outputs": [],
   "source": [
    "def call_ws(addr_data): #lg = \"en,fr,nl\"\n",
    "    t = datetime.now()\n",
    "    \n",
    "    params = urllib.parse.urlencode({\"street\": addr_data[street_field],\n",
    "                                     \"housenumber\": addr_data[housenbr_field],\n",
    "                                     \"city\": addr_data[city_field],\n",
    "                                     \"postcode\": addr_data[postcode_field],\n",
    "                                     \"country\": addr_data[country_field],\n",
    "                                    })\n",
    "    url = f\"http://{ws_hostname}:5000/search/?{params}\"\n",
    "    \n",
    "    \n",
    "    try:\n",
    "        with urllib.request.urlopen(url) as response:\n",
    "            res = response.read()\n",
    "            res = json.loads(res)\n",
    "#             print(res)\n",
    "            res[\"time\"] = datetime.now() - t\n",
    "            return res\n",
    "    except Exception as e:\n",
    "        return str(e)\n",
    "    "
   ]
  },
  {
   "cell_type": "code",
   "execution_count": 29,
   "metadata": {
    "ExecuteTime": {
     "end_time": "2020-11-18T12:41:21.129584Z",
     "start_time": "2020-11-18T12:41:21.113619Z"
    }
   },
   "outputs": [],
   "source": [
    "def call_ws_batch(addr_data, mode=\"geo\"): #lg = \"en,fr,nl\"\n",
    "#     print(addr_data)\n",
    "#     print(addr_data.shape)\n",
    "#     print()\n",
    "    file_data = addr_data.rename(columns = {\n",
    "        street_field : \"street\",\n",
    "        housenbr_field: \"housenumber\",\n",
    "        postcode_field: \"postcode\",\n",
    "        city_field: \"city\",\n",
    "        country_field: \"country\",\n",
    "        addr_key_field : \"addr_key\"}).to_csv(index=False)\n",
    "    \n",
    "    r = http.request(\n",
    "    'POST',\n",
    "    f'http://{ws_hostname}:5000/batch',\n",
    "    fields= { \n",
    "        'media': ('addresses.csv', file_data),\n",
    "        'mode': mode\n",
    "    })\n",
    "    \n",
    "#     print(r.data.decode('utf-8'))\n",
    "    res = pd.DataFrame(json.loads(r.data.decode('utf-8')))\n",
    "#     display(res)\n",
    "    return res"
   ]
  },
  {
   "cell_type": "code",
   "execution_count": 8,
   "metadata": {
    "ExecuteTime": {
     "end_time": "2020-11-18T10:55:15.780322Z",
     "start_time": "2020-11-18T10:55:15.764153Z"
    }
   },
   "outputs": [],
   "source": [
    "def expand_json(addresses):\n",
    "    addresses[\"status\"]= addresses.json.apply(lambda d: \"error\" if \"error\" in d else \"match\" if \"match\" in d else \"rejected\")\n",
    "    addresses[\"time\"]  = addresses.json.apply(lambda d: d[\"time\"])\n",
    "\n",
    "    addresses[\"timing\"]  = addresses.json.apply(lambda d: d[\"timing\"] if \"timing\" in d else {})\n",
    "\n",
    "    addresses[\"method\"]= addresses.json.apply(lambda d: d[\"match\"][0][\"method\"] if len(d)>0 and \"match\" in d else \"none\")\n",
    "    \n",
    "    for field in [\"street\", \"number\", \"postcode\", \"city\"]:\n",
    "        addresses[field]= addresses.json.apply(lambda d: d[\"match\"][0][\"addr_out_\"+field] if len(d)>0 and \"match\" in d else \"\")\n",
    "    return "
   ]
  },
  {
   "cell_type": "markdown",
   "metadata": {},
   "source": [
    "# Calls"
   ]
  },
  {
   "cell_type": "markdown",
   "metadata": {
    "ExecuteTime": {
     "end_time": "2020-09-30T09:57:35.286293Z",
     "start_time": "2020-09-30T09:57:35.281457Z"
    }
   },
   "source": [
    "## Single address calls"
   ]
  },
  {
   "cell_type": "code",
   "execution_count": 83,
   "metadata": {
    "ExecuteTime": {
     "end_time": "2020-11-23T09:31:23.549986Z",
     "start_time": "2020-11-23T09:31:22.108727Z"
    },
    "scrolled": true
   },
   "outputs": [
    {
     "data": {
      "text/plain": [
       "{'match': [{'SIM_street': 1.0,\n",
       "   'SIM_street_which': 'addr_out_street',\n",
       "   'addr_out_city': 'Saint-Gilles - Sint-Gillis',\n",
       "   'addr_out_country': 'België / Belgique / Belgien',\n",
       "   'addr_out_number': '20',\n",
       "   'addr_out_postcode': '',\n",
       "   'addr_out_street': 'Avenue Fonsny - Fonsnylaan',\n",
       "   'display_name': 'DAE (Smals), 20, Avenue Fonsny - Fonsnylaan, Saint-Gilles - Sint-Gillis, Brussel-Hoofdstad - Bruxelles-Capitale, Région de Bruxelles-Capitale - Brussels Hoofdstedelijk Gewest, België / Belgique / Belgien',\n",
       "   'extra_house_nbr': '20',\n",
       "   'lat': '50.8358216',\n",
       "   'lon': '4.3386884',\n",
       "   'method': 'orig',\n",
       "   'place_id': 343087,\n",
       "   'place_rank': 30}],\n",
       " 'rejected': [{'SIM_city': 0.46153846153846156,\n",
       "   'SIM_house_nbr': 1.0,\n",
       "   'SIM_street': 1.0,\n",
       "   'SIM_street_which': 'addr_out_street',\n",
       "   'SIM_zip': 0.1,\n",
       "   'addr_out_city': 'Saint-Gilles - Sint-Gillis',\n",
       "   'addr_out_country': 'België / Belgique / Belgien',\n",
       "   'addr_out_number': '20',\n",
       "   'addr_out_postcode': '',\n",
       "   'addr_out_street': 'Avenue Fonsny - Fonsnylaan',\n",
       "   'display_name': '20, Avenue Fonsny - Fonsnylaan, Saint-Gilles - Sint-Gillis, Brussel-Hoofdstad - Bruxelles-Capitale, Région de Bruxelles-Capitale - Brussels Hoofdstedelijk Gewest, België / Belgique / Belgien',\n",
       "   'lat': '50.8358677',\n",
       "   'lon': '4.3385087',\n",
       "   'method': 'orig',\n",
       "   'place_id': 373534,\n",
       "   'place_rank': 30}],\n",
       " 'time': datetime.timedelta(0, 1, 425147)}"
      ]
     },
     "execution_count": 83,
     "metadata": {},
     "output_type": "execute_result"
    }
   ],
   "source": [
    "call_ws({street_field: \"Av. Fonsny\", \n",
    "          housenbr_field: \"20\",\n",
    "          city_field: \"Saint-Gilles\",\n",
    "          postcode_field:  \"1060\",\n",
    "          country_field: \"Belgium\"})"
   ]
  },
  {
   "cell_type": "markdown",
   "metadata": {},
   "source": [
    "## Batch calls (row by row)"
   ]
  },
  {
   "cell_type": "code",
   "execution_count": 72,
   "metadata": {
    "ExecuteTime": {
     "end_time": "2020-11-20T12:30:51.629545Z",
     "start_time": "2020-11-20T12:30:35.382251Z"
    }
   },
   "outputs": [],
   "source": [
    "addresses = get_addresses(\"address.csv.gz\")\n",
    "addresses = addresses.sample(1000).copy()"
   ]
  },
  {
   "cell_type": "markdown",
   "metadata": {},
   "source": [
    "### Simple way"
   ]
  },
  {
   "cell_type": "code",
   "execution_count": 29,
   "metadata": {
    "ExecuteTime": {
     "end_time": "2020-09-30T12:58:02.527694Z",
     "start_time": "2020-09-30T12:56:00.358549Z"
    }
   },
   "outputs": [
    {
     "name": "stderr",
     "output_type": "stream",
     "text": [
      "100%|██████████| 100/100 [02:02<00:00,  1.22s/it]\n"
     ]
    }
   ],
   "source": [
    "addresses[\"json\"] = addresses.progress_apply(call_ws, axis=1)"
   ]
  },
  {
   "cell_type": "markdown",
   "metadata": {
    "ExecuteTime": {
     "end_time": "2020-09-30T10:03:50.368838Z",
     "start_time": "2020-09-30T10:03:50.364575Z"
    }
   },
   "source": [
    "### Using Dask"
   ]
  },
  {
   "cell_type": "code",
   "execution_count": 17,
   "metadata": {
    "ExecuteTime": {
     "end_time": "2020-09-30T11:57:50.598137Z",
     "start_time": "2020-09-30T11:55:46.159401Z"
    }
   },
   "outputs": [
    {
     "name": "stdout",
     "output_type": "stream",
     "text": [
      "[########################################] | 100% Completed |  2min  4.4s\n"
     ]
    }
   ],
   "source": [
    "dd_addresses = dd.from_pandas(addresses, npartitions=4)\n",
    "\n",
    "dask_task = dd_addresses.apply(call_ws, meta=('x', 'str'), axis=1)\n",
    "\n",
    "with ProgressBar(): \n",
    "    addresses[\"json\"] = dask_task.compute()"
   ]
  },
  {
   "cell_type": "code",
   "execution_count": 30,
   "metadata": {
    "ExecuteTime": {
     "end_time": "2020-09-30T12:58:56.882229Z",
     "start_time": "2020-09-30T12:58:56.845726Z"
    }
   },
   "outputs": [],
   "source": [
    "expand_json(addresses)"
   ]
  },
  {
   "cell_type": "markdown",
   "metadata": {
    "ExecuteTime": {
     "end_time": "2020-09-30T10:09:38.533274Z",
     "start_time": "2020-09-30T10:09:38.528729Z"
    }
   },
   "source": [
    "## Batch calls (batch WS)"
   ]
  },
  {
   "cell_type": "markdown",
   "metadata": {
    "ExecuteTime": {
     "end_time": "2020-09-30T10:13:11.087024Z",
     "start_time": "2020-09-30T10:13:11.082413Z"
    }
   },
   "source": [
    "### Single block"
   ]
  },
  {
   "cell_type": "code",
   "execution_count": 42,
   "metadata": {
    "ExecuteTime": {
     "end_time": "2020-11-18T13:23:51.205132Z",
     "start_time": "2020-11-18T13:22:24.681057Z"
    },
    "scrolled": true
   },
   "outputs": [
    {
     "data": {
      "text/html": [
       "<div>\n",
       "<style scoped>\n",
       "    .dataframe tbody tr th:only-of-type {\n",
       "        vertical-align: middle;\n",
       "    }\n",
       "\n",
       "    .dataframe tbody tr th {\n",
       "        vertical-align: top;\n",
       "    }\n",
       "\n",
       "    .dataframe thead th {\n",
       "        text-align: right;\n",
       "    }\n",
       "</style>\n",
       "<table border=\"1\" class=\"dataframe\">\n",
       "  <thead>\n",
       "    <tr style=\"text-align: right;\">\n",
       "      <th></th>\n",
       "      <th>addr_key</th>\n",
       "      <th>lat</th>\n",
       "      <th>lon</th>\n",
       "      <th>place_rank</th>\n",
       "    </tr>\n",
       "  </thead>\n",
       "  <tbody>\n",
       "    <tr>\n",
       "      <th>0</th>\n",
       "      <td>0413.915.628</td>\n",
       "      <td>50.841404</td>\n",
       "      <td>4.354718</td>\n",
       "      <td>30.0</td>\n",
       "    </tr>\n",
       "    <tr>\n",
       "      <th>1</th>\n",
       "      <td>0414.808.820</td>\n",
       "      <td>50.839255</td>\n",
       "      <td>3.166077</td>\n",
       "      <td>26.0</td>\n",
       "    </tr>\n",
       "    <tr>\n",
       "      <th>2</th>\n",
       "      <td>0415.311.636</td>\n",
       "      <td>51.165199</td>\n",
       "      <td>4.646993</td>\n",
       "      <td>30.0</td>\n",
       "    </tr>\n",
       "    <tr>\n",
       "      <th>3</th>\n",
       "      <td>0415.861.368</td>\n",
       "      <td>51.174983</td>\n",
       "      <td>4.151651</td>\n",
       "      <td>30.0</td>\n",
       "    </tr>\n",
       "    <tr>\n",
       "      <th>4</th>\n",
       "      <td>0417.004.384</td>\n",
       "      <td>51.204335</td>\n",
       "      <td>4.394418</td>\n",
       "      <td>26.0</td>\n",
       "    </tr>\n",
       "    <tr>\n",
       "      <th>...</th>\n",
       "      <td>...</td>\n",
       "      <td>...</td>\n",
       "      <td>...</td>\n",
       "      <td>...</td>\n",
       "    </tr>\n",
       "    <tr>\n",
       "      <th>94</th>\n",
       "      <td>2.225.889.286</td>\n",
       "      <td>50.494427</td>\n",
       "      <td>5.223551</td>\n",
       "      <td>26.0</td>\n",
       "    </tr>\n",
       "    <tr>\n",
       "      <th>95</th>\n",
       "      <td>0450.543.224</td>\n",
       "      <td>50.069063</td>\n",
       "      <td>4.509224</td>\n",
       "      <td>21.0</td>\n",
       "    </tr>\n",
       "    <tr>\n",
       "      <th>96</th>\n",
       "      <td>0598.893.143</td>\n",
       "      <td>50.747180</td>\n",
       "      <td>3.224409</td>\n",
       "      <td>21.0</td>\n",
       "    </tr>\n",
       "    <tr>\n",
       "      <th>97</th>\n",
       "      <td>0828.156.207</td>\n",
       "      <td>50.645138</td>\n",
       "      <td>5.573420</td>\n",
       "      <td>16.0</td>\n",
       "    </tr>\n",
       "    <tr>\n",
       "      <th>98</th>\n",
       "      <td>2.260.844.326</td>\n",
       "      <td>50.728760</td>\n",
       "      <td>3.358519</td>\n",
       "      <td>21.0</td>\n",
       "    </tr>\n",
       "  </tbody>\n",
       "</table>\n",
       "<p>99 rows × 4 columns</p>\n",
       "</div>"
      ],
      "text/plain": [
       "         addr_key        lat       lon  place_rank\n",
       "0    0413.915.628  50.841404  4.354718        30.0\n",
       "1    0414.808.820  50.839255  3.166077        26.0\n",
       "2    0415.311.636  51.165199  4.646993        30.0\n",
       "3    0415.861.368  51.174983  4.151651        30.0\n",
       "4    0417.004.384  51.204335  4.394418        26.0\n",
       "..            ...        ...       ...         ...\n",
       "94  2.225.889.286  50.494427  5.223551        26.0\n",
       "95   0450.543.224  50.069063  4.509224        21.0\n",
       "96   0598.893.143  50.747180  3.224409        21.0\n",
       "97   0828.156.207  50.645138  5.573420        16.0\n",
       "98  2.260.844.326  50.728760  3.358519        21.0\n",
       "\n",
       "[99 rows x 4 columns]"
      ]
     },
     "execution_count": 42,
     "metadata": {},
     "output_type": "execute_result"
    }
   ],
   "source": [
    "# Only geocoding\n",
    "call_ws_batch(addresses)\n"
   ]
  },
  {
   "cell_type": "code",
   "execution_count": 47,
   "metadata": {
    "ExecuteTime": {
     "end_time": "2020-11-18T13:33:48.024892Z",
     "start_time": "2020-11-18T13:33:12.469123Z"
    },
    "scrolled": true
   },
   "outputs": [
    {
     "data": {
      "text/html": [
       "<div>\n",
       "<style scoped>\n",
       "    .dataframe tbody tr th:only-of-type {\n",
       "        vertical-align: middle;\n",
       "    }\n",
       "\n",
       "    .dataframe tbody tr th {\n",
       "        vertical-align: top;\n",
       "    }\n",
       "\n",
       "    .dataframe thead th {\n",
       "        text-align: right;\n",
       "    }\n",
       "</style>\n",
       "<table border=\"1\" class=\"dataframe\">\n",
       "  <thead>\n",
       "    <tr style=\"text-align: right;\">\n",
       "      <th></th>\n",
       "      <th>0</th>\n",
       "    </tr>\n",
       "  </thead>\n",
       "  <tbody>\n",
       "    <tr>\n",
       "      <th>error</th>\n",
       "      <td>Cannot connect to Photon (photon:2322):  &lt;urlo...</td>\n",
       "    </tr>\n",
       "  </tbody>\n",
       "</table>\n",
       "</div>"
      ],
      "text/plain": [
       "                                                       0\n",
       "error  Cannot connect to Photon (photon:2322):  <urlo..."
      ]
     },
     "execution_count": 47,
     "metadata": {},
     "output_type": "execute_result"
    }
   ],
   "source": [
    "# Geocode + address\n",
    "call_ws_batch(addresses, mode=\"long\") \n"
   ]
  },
  {
   "cell_type": "markdown",
   "metadata": {
    "ExecuteTime": {
     "end_time": "2020-09-30T10:13:21.879291Z",
     "start_time": "2020-09-30T10:13:21.874241Z"
    }
   },
   "source": [
    "### Batch blocs"
   ]
  },
  {
   "cell_type": "code",
   "execution_count": 106,
   "metadata": {
    "ExecuteTime": {
     "end_time": "2020-11-23T10:51:06.336201Z",
     "start_time": "2020-11-23T10:51:05.443352Z"
    }
   },
   "outputs": [
    {
     "data": {
      "application/vnd.jupyter.widget-view+json": {
       "model_id": "76217e3112f849309d0dbb64c21b5ced",
       "version_major": 2,
       "version_minor": 0
      },
      "text/plain": [
       "HBox(children=(IntProgress(value=0, max=4), HTML(value='')))"
      ]
     },
     "metadata": {},
     "output_type": "display_data"
    },
    {
     "name": "stdout",
     "output_type": "stream",
     "text": [
      "\n"
     ]
    }
   ],
   "source": [
    "chunk_size = 250\n",
    "chunks = np.array_split(addresses, addresses.shape[0]//chunk_size)\n",
    "\n",
    "res= [call_ws_batch(chunk, mode=\"long\") for chunk in tqdm(chunks)]\n",
    "\n",
    "## TODO : find a better way with dask? It seems that map_partitions does not support function returning dataframes. \n",
    "#50: 4:04\n",
    "#100 : 2:30\n",
    "#250 : 2:04\n",
    "#1000 : 1:37"
   ]
  },
  {
   "cell_type": "code",
   "execution_count": 107,
   "metadata": {
    "ExecuteTime": {
     "end_time": "2020-11-23T10:51:09.233451Z",
     "start_time": "2020-11-23T10:51:09.193426Z"
    }
   },
   "outputs": [
    {
     "data": {
      "text/html": [
       "<div>\n",
       "<style scoped>\n",
       "    .dataframe tbody tr th:only-of-type {\n",
       "        vertical-align: middle;\n",
       "    }\n",
       "\n",
       "    .dataframe tbody tr th {\n",
       "        vertical-align: top;\n",
       "    }\n",
       "\n",
       "    .dataframe thead th {\n",
       "        text-align: right;\n",
       "    }\n",
       "</style>\n",
       "<table border=\"1\" class=\"dataframe\">\n",
       "  <thead>\n",
       "    <tr style=\"text-align: right;\">\n",
       "      <th></th>\n",
       "      <th>addr_key</th>\n",
       "      <th>country</th>\n",
       "      <th>postcode</th>\n",
       "      <th>city</th>\n",
       "      <th>street</th>\n",
       "      <th>housenumber</th>\n",
       "      <th>method</th>\n",
       "    </tr>\n",
       "  </thead>\n",
       "  <tbody>\n",
       "    <tr>\n",
       "      <th>0</th>\n",
       "      <td>2.063.881.173</td>\n",
       "      <td>Belgique</td>\n",
       "      <td>7890</td>\n",
       "      <td>Ellezelles</td>\n",
       "      <td>Rue Arbre St Pierre</td>\n",
       "      <td>49</td>\n",
       "      <td>error on orig</td>\n",
       "    </tr>\n",
       "    <tr>\n",
       "      <th>1</th>\n",
       "      <td>2.190.391.246</td>\n",
       "      <td>Belgique</td>\n",
       "      <td>3520</td>\n",
       "      <td>Zonhoven</td>\n",
       "      <td>Kretenveldweg</td>\n",
       "      <td>11</td>\n",
       "      <td>error on orig</td>\n",
       "    </tr>\n",
       "    <tr>\n",
       "      <th>2</th>\n",
       "      <td>2.030.062.421</td>\n",
       "      <td>Belgique</td>\n",
       "      <td>2440</td>\n",
       "      <td>Geel</td>\n",
       "      <td>Kapelstraat</td>\n",
       "      <td>8</td>\n",
       "      <td>error on orig</td>\n",
       "    </tr>\n",
       "    <tr>\n",
       "      <th>3</th>\n",
       "      <td>0867.107.447</td>\n",
       "      <td>Belgique</td>\n",
       "      <td>2321</td>\n",
       "      <td>Hoogstraten</td>\n",
       "      <td>Krekelstraat</td>\n",
       "      <td>8</td>\n",
       "      <td>error on orig</td>\n",
       "    </tr>\n",
       "    <tr>\n",
       "      <th>4</th>\n",
       "      <td>2.137.061.339</td>\n",
       "      <td>Belgique</td>\n",
       "      <td>8820</td>\n",
       "      <td>Torhout</td>\n",
       "      <td>Rijksweg</td>\n",
       "      <td>33</td>\n",
       "      <td>error on orig</td>\n",
       "    </tr>\n",
       "    <tr>\n",
       "      <th>...</th>\n",
       "      <td>...</td>\n",
       "      <td>...</td>\n",
       "      <td>...</td>\n",
       "      <td>...</td>\n",
       "      <td>...</td>\n",
       "      <td>...</td>\n",
       "      <td>...</td>\n",
       "    </tr>\n",
       "    <tr>\n",
       "      <th>245</th>\n",
       "      <td>0821.220.311</td>\n",
       "      <td>Belgique</td>\n",
       "      <td>6060</td>\n",
       "      <td>Charleroi</td>\n",
       "      <td>Rue des Sept Actions</td>\n",
       "      <td>39</td>\n",
       "      <td>error on orig</td>\n",
       "    </tr>\n",
       "    <tr>\n",
       "      <th>246</th>\n",
       "      <td>0475.425.902</td>\n",
       "      <td>Belgique</td>\n",
       "      <td>8421</td>\n",
       "      <td>De Haan</td>\n",
       "      <td>Lepelemstraat</td>\n",
       "      <td>4</td>\n",
       "      <td>error on orig</td>\n",
       "    </tr>\n",
       "    <tr>\n",
       "      <th>247</th>\n",
       "      <td>2.100.490.260</td>\n",
       "      <td>Belgique</td>\n",
       "      <td>2030</td>\n",
       "      <td>Antwerpen</td>\n",
       "      <td>Noorderlaan</td>\n",
       "      <td>79</td>\n",
       "      <td>error on orig</td>\n",
       "    </tr>\n",
       "    <tr>\n",
       "      <th>248</th>\n",
       "      <td>2.166.515.685</td>\n",
       "      <td>Belgique</td>\n",
       "      <td>2890</td>\n",
       "      <td>Puurs-Sint-Amands</td>\n",
       "      <td>Lippelodorp(LIP)</td>\n",
       "      <td>60</td>\n",
       "      <td>error on orig</td>\n",
       "    </tr>\n",
       "    <tr>\n",
       "      <th>249</th>\n",
       "      <td>0433.890.601</td>\n",
       "      <td>Belgique</td>\n",
       "      <td>4770</td>\n",
       "      <td>Amel</td>\n",
       "      <td>Iveldingen,Im Uhrenfeld</td>\n",
       "      <td>38</td>\n",
       "      <td>error on orig</td>\n",
       "    </tr>\n",
       "  </tbody>\n",
       "</table>\n",
       "<p>1000 rows × 7 columns</p>\n",
       "</div>"
      ],
      "text/plain": [
       "          addr_key   country postcode               city  \\\n",
       "0    2.063.881.173  Belgique     7890         Ellezelles   \n",
       "1    2.190.391.246  Belgique     3520           Zonhoven   \n",
       "2    2.030.062.421  Belgique     2440               Geel   \n",
       "3     0867.107.447  Belgique     2321        Hoogstraten   \n",
       "4    2.137.061.339  Belgique     8820            Torhout   \n",
       "..             ...       ...      ...                ...   \n",
       "245   0821.220.311  Belgique     6060          Charleroi   \n",
       "246   0475.425.902  Belgique     8421            De Haan   \n",
       "247  2.100.490.260  Belgique     2030          Antwerpen   \n",
       "248  2.166.515.685  Belgique     2890  Puurs-Sint-Amands   \n",
       "249   0433.890.601  Belgique     4770               Amel   \n",
       "\n",
       "                      street housenumber         method  \n",
       "0        Rue Arbre St Pierre          49  error on orig  \n",
       "1              Kretenveldweg          11  error on orig  \n",
       "2                Kapelstraat           8  error on orig  \n",
       "3               Krekelstraat           8  error on orig  \n",
       "4                   Rijksweg          33  error on orig  \n",
       "..                       ...         ...            ...  \n",
       "245     Rue des Sept Actions          39  error on orig  \n",
       "246            Lepelemstraat           4  error on orig  \n",
       "247              Noorderlaan          79  error on orig  \n",
       "248         Lippelodorp(LIP)          60  error on orig  \n",
       "249  Iveldingen,Im Uhrenfeld          38  error on orig  \n",
       "\n",
       "[1000 rows x 7 columns]"
      ]
     },
     "execution_count": 107,
     "metadata": {},
     "output_type": "execute_result"
    }
   ],
   "source": [
    "df_res = pd.concat(res, sort=False)\n",
    "df_res"
   ]
  },
  {
   "cell_type": "code",
   "execution_count": 108,
   "metadata": {
    "ExecuteTime": {
     "end_time": "2020-11-23T10:51:16.278350Z",
     "start_time": "2020-11-23T10:51:16.261587Z"
    }
   },
   "outputs": [
    {
     "data": {
      "text/plain": [
       "error on orig    1000\n",
       "Name: method, dtype: int64"
      ]
     },
     "execution_count": 108,
     "metadata": {},
     "output_type": "execute_result"
    }
   ],
   "source": [
    "df_res.method.value_counts()"
   ]
  },
  {
   "cell_type": "code",
   "execution_count": null,
   "metadata": {
    "ExecuteTime": {
     "end_time": "2020-11-20T12:02:49.634079Z",
     "start_time": "2020-11-20T12:02:49.594799Z"
    }
   },
   "outputs": [],
   "source": [
    "1000 : \n",
    "orig                                   832\n",
    "regex[init]                            102\n",
    "libpostal+regex[lpost]+photon           35\n",
    "nonum                                    9\n",
    "libpostal+regex[lpost]+photon+nonum      3\n",
    "photon                                   3\n",
    "libpostal+regex[lpost]                   2\n",
    "nostreet                                 1"
   ]
  }
 ],
 "metadata": {
  "kernelspec": {
   "display_name": "Python 3",
   "language": "python",
   "name": "python3"
  },
  "language_info": {
   "codemirror_mode": {
    "name": "ipython",
    "version": 3
   },
   "file_extension": ".py",
   "mimetype": "text/x-python",
   "name": "python",
   "nbconvert_exporter": "python",
   "pygments_lexer": "ipython3",
   "version": "3.6.9"
  },
  "toc": {
   "base_numbering": 1,
   "nav_menu": {},
   "number_sections": true,
   "sideBar": true,
   "skip_h1_title": false,
   "title_cell": "Table of Contents",
   "title_sidebar": "Contents",
   "toc_cell": false,
   "toc_position": {},
   "toc_section_display": true,
   "toc_window_display": false
  },
  "varInspector": {
   "cols": {
    "lenName": 16,
    "lenType": 16,
    "lenVar": 40
   },
   "kernels_config": {
    "python": {
     "delete_cmd_postfix": "",
     "delete_cmd_prefix": "del ",
     "library": "var_list.py",
     "varRefreshCmd": "print(var_dic_list())"
    },
    "r": {
     "delete_cmd_postfix": ") ",
     "delete_cmd_prefix": "rm(",
     "library": "var_list.r",
     "varRefreshCmd": "cat(var_dic_list()) "
    }
   },
   "types_to_exclude": [
    "module",
    "function",
    "builtin_function_or_method",
    "instance",
    "_Feature"
   ],
   "window_display": false
  }
 },
 "nbformat": 4,
 "nbformat_minor": 2
}
