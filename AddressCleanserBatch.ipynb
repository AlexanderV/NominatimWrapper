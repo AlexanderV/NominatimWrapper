{
 "cells": [
  {
   "cell_type": "code",
   "execution_count": 63,
   "metadata": {
    "ExecuteTime": {
     "end_time": "2020-04-24T13:19:26.880474Z",
     "start_time": "2020-04-24T13:19:26.830101Z"
    },
    "run_control": {
     "marked": true
    }
   },
   "outputs": [],
   "source": [
    "import pandas as pd\n",
    "import urllib\n",
    "\n",
    "import numpy as np\n",
    "\n",
    "import json\n",
    "\n",
    "from tqdm.autonotebook import  tqdm\n",
    "\n",
    "#%matplotlib inline\n",
    "\n",
    "tqdm.pandas(tqdm)\n",
    "\n",
    "\n",
    "# import jellyfish\n",
    "import dask.dataframe as dd\n",
    "\n",
    "from dask.multiprocessing import get\n",
    "\n",
    "\n",
    "from importlib import reload\n",
    "\n",
    "import AddressCleanserUtils\n",
    "reload(AddressCleanserUtils)\n",
    "from AddressCleanserUtils import *\n",
    "\n",
    "# import multiprocessing\n",
    "import logging\n",
    "\n",
    "logger = logging.getLogger()\n",
    "logger.setLevel(logging.INFO)\n",
    "\n",
    "logging.getLogger(\"requests\").setLevel(logging.WARNING)\n",
    "logging.getLogger(\"urllib3\").setLevel(logging.WARNING)\n"
   ]
  },
  {
   "cell_type": "code",
   "execution_count": 64,
   "metadata": {
    "ExecuteTime": {
     "end_time": "2020-04-24T13:19:26.895186Z",
     "start_time": "2020-04-24T13:19:26.886351Z"
    }
   },
   "outputs": [],
   "source": [
    "starting_time = datetime.now()"
   ]
  },
  {
   "cell_type": "code",
   "execution_count": 65,
   "metadata": {
    "ExecuteTime": {
     "end_time": "2020-04-24T13:19:26.921835Z",
     "start_time": "2020-04-24T13:19:26.901246Z"
    }
   },
   "outputs": [
    {
     "name": "stdout",
     "output_type": "stream",
     "text": [
      "Run in jupyter ... /home/vandy/.local/share/jupyter/runtime/kernel-09e6216b-6141-4cdf-a92c-7034568d0a56.json\n"
     ]
    }
   ],
   "source": [
    "config_file = \"config_batch\"\n",
    "address_file = \"./address.csv.gz\"\n",
    "sample_size = None\n",
    "\n",
    "import sys, getopt\n",
    "opts, args = getopt.getopt(sys.argv[1:],\"f:c:a:s:vq\",[])\n",
    "\n",
    "for opt, arg in opts:\n",
    "    if opt == \"-c\":\n",
    "        config_file = arg\n",
    "        \n",
    "    if opt == \"-a\":\n",
    "        address_file = arg\n",
    "        \n",
    "    if opt == \"-f\":\n",
    "        print(\"Run in jupyter ...\", arg)\n",
    "        AddressCleanserUtils.within_jupyter=True\n",
    "        \n",
    "    if opt == \"-s\":\n",
    "        sample_size = int(arg)\n",
    "        \n",
    "    if opt == \"-v\": # Verbose\n",
    "        logger.setLevel(logging.DEBUG)\n",
    "        \n",
    "    if opt == \"-q\": # quiet\n",
    "        logger.setLevel(logging.WARNING)\n",
    "        "
   ]
  },
  {
   "cell_type": "code",
   "execution_count": 68,
   "metadata": {
    "ExecuteTime": {
     "end_time": "2020-04-24T13:19:26.957241Z",
     "start_time": "2020-04-24T13:19:26.949886Z"
    },
    "run_control": {
     "marked": true
    }
   },
   "outputs": [],
   "source": [
    "if AddressCleanserUtils.within_jupyter :\n",
    "    log(\"Running in Jupyter, using hard coded parameters\")\n",
    "    config_file = \"config_best\"\n",
    "    address_file = \"./best.csv.gz\"\n",
    "    sample_size = 1000\n",
    "    AddressCleanserUtils.photon_host = \"172.17.0.3:2322\"\n",
    "    AddressCleanserUtils.libpostal_host = \"172.17.0.3:8080\"\n",
    "# with_dask=False\n",
    "# %matplotlib inline"
   ]
  },
  {
   "cell_type": "code",
   "execution_count": 69,
   "metadata": {
    "ExecuteTime": {
     "end_time": "2020-04-24T13:19:26.974513Z",
     "start_time": "2020-04-24T13:19:26.964017Z"
    },
    "run_control": {
     "marked": true
    },
    "scrolled": true
   },
   "outputs": [
    {
     "name": "stdout",
     "output_type": "stream",
     "text": [
      "[2020-04-24 13:19:26,967]  Loading config file config_best\n"
     ]
    }
   ],
   "source": [
    "import importlib\n",
    "log(f\"Loading config file {config_file}\")\n",
    "config_module = importlib.import_module(config_file)\n"
   ]
  },
  {
   "cell_type": "code",
   "execution_count": 70,
   "metadata": {
    "ExecuteTime": {
     "end_time": "2020-04-24T13:19:26.996844Z",
     "start_time": "2020-04-24T13:19:26.982465Z"
    }
   },
   "outputs": [],
   "source": [
    "# Check that some required variables are present in the configuration file\n",
    "\n",
    "field_names = [\"street_field\",\"housenbr_field\",\"city_field\",\"postcode_field\",\"addr_key_field\"]\n",
    "#other_var_names = [\"photon_host\",\"osm_host\",\"libpostal_host\", \"regex_replacements\"]\n",
    "other_var_names = [\"regex_replacements\"]\n",
    "for var_name in field_names  + other_var_names:\n",
    "    assert var_name in dir(config_module), var_name + \" not defined in config module \" + config_file\n"
   ]
  },
  {
   "cell_type": "code",
   "execution_count": null,
   "metadata": {
    "ExecuteTime": {
     "end_time": "2020-01-07T10:05:18.255115Z",
     "start_time": "2020-01-07T10:05:18.245530Z"
    }
   },
   "outputs": [],
   "source": []
  },
  {
   "cell_type": "code",
   "execution_count": 71,
   "metadata": {
    "ExecuteTime": {
     "end_time": "2020-04-24T13:19:27.013778Z",
     "start_time": "2020-04-24T13:19:27.004217Z"
    }
   },
   "outputs": [],
   "source": [
    "AddressCleanserUtils.street_field    = config_module.street_field\n",
    "AddressCleanserUtils.housenbr_field  = config_module.housenbr_field\n",
    "AddressCleanserUtils.city_field      = config_module.city_field\n",
    "AddressCleanserUtils.postcode_field  = config_module.postcode_field\n",
    "\n",
    "AddressCleanserUtils.addr_key_field  = config_module.addr_key_field\n",
    "\n",
    "AddressCleanserUtils.regex_replacements = config_module.regex_replacements\n",
    "\n",
    "AddressCleanserUtils.use_osm_parent      = use_osm_parent\n",
    "AddressCleanserUtils.with_rest_libpostal = with_rest_libpostal"
   ]
  },
  {
   "cell_type": "code",
   "execution_count": 72,
   "metadata": {
    "ExecuteTime": {
     "end_time": "2020-04-24T13:19:27.025857Z",
     "start_time": "2020-04-24T13:19:27.019506Z"
    }
   },
   "outputs": [],
   "source": [
    "AddressCleanserUtils.pbar.register()"
   ]
  },
  {
   "cell_type": "code",
   "execution_count": 73,
   "metadata": {
    "ExecuteTime": {
     "end_time": "2020-04-24T13:19:27.075762Z",
     "start_time": "2020-04-24T13:19:27.031660Z"
    }
   },
   "outputs": [],
   "source": [
    "# Check that Nominatim server is running properly\n",
    "try: \n",
    "    osm = get_osm(\"Bruxelles\")\n",
    "    assert osm[0][\"namedetails\"][\"name:fr\"] == \"Bruxelles\"\n",
    "    \n",
    "    vlog(\"OSM working properly\")\n",
    "    \n",
    "    \n",
    "except Exception as e: \n",
    "    print(\"OSM not up & running\")\n",
    "    print(\"OSM host: \", AddressCleanserUtils.osm_host)\n",
    "    raise e\n"
   ]
  },
  {
   "cell_type": "code",
   "execution_count": 74,
   "metadata": {
    "ExecuteTime": {
     "end_time": "2020-04-24T13:19:27.106554Z",
     "start_time": "2020-04-24T13:19:27.080617Z"
    },
    "scrolled": true
   },
   "outputs": [],
   "source": [
    "# In old version of Nominatim, page \"details.php\" could NOT return a JSON result, allowing to get place details from a place id\n",
    "# In newer version, this has been added, allowing to get details about the parent of a place\n",
    "# Is case \"use_osm_parent\" is true, check that \"details.php\" works correctly\n",
    "if AddressCleanserUtils.use_osm_parent:\n",
    "    try : \n",
    "        osm_det = get_osm_details(osm[0][\"place_id\"])\n",
    "        assert osm_det[\"place_id\"] == osm[0][\"place_id\"]\n",
    "\n",
    "        vlog(\"OSM details working properly\")\n",
    "\n",
    "    except Exception as e: \n",
    "        print(\"OSM details not working\")\n",
    "        print(\"OSM host: \", AddressCleanserUtils.osm_host)\n",
    "        raise e\n"
   ]
  },
  {
   "cell_type": "code",
   "execution_count": null,
   "metadata": {
    "ExecuteTime": {
     "end_time": "2020-04-17T07:16:10.397568Z",
     "start_time": "2020-04-17T07:16:10.392469Z"
    }
   },
   "outputs": [],
   "source": []
  },
  {
   "cell_type": "code",
   "execution_count": 75,
   "metadata": {
    "ExecuteTime": {
     "end_time": "2020-04-24T13:19:27.146292Z",
     "start_time": "2020-04-24T13:19:27.110628Z"
    }
   },
   "outputs": [],
   "source": [
    "# Check that Photon server is running properly\n",
    "try: \n",
    "    ph = get_photon(\"Bruxelles\")\n",
    "    assert ph[\"features\"][0][\"properties\"][\"name\"] == \"Brussels\" \n",
    "    vlog(\"Photon working properly\")\n",
    "    \n",
    "    \n",
    "except Exception as e: \n",
    "    print(\"Photon not up & running ; Start it with 'nohup java -jar photon-*.jar &'\")\n",
    "    print(\"Photon host: \", AddressCleanserUtils.photon_host)\n",
    "    raise e\n"
   ]
  },
  {
   "cell_type": "code",
   "execution_count": null,
   "metadata": {
    "ExecuteTime": {
     "end_time": "2020-04-17T07:16:12.149284Z",
     "start_time": "2020-04-17T07:16:12.141406Z"
    }
   },
   "outputs": [],
   "source": []
  },
  {
   "cell_type": "code",
   "execution_count": 76,
   "metadata": {
    "ExecuteTime": {
     "end_time": "2020-04-24T13:19:27.174242Z",
     "start_time": "2020-04-24T13:19:27.151916Z"
    }
   },
   "outputs": [],
   "source": [
    "# Check that Libpostal is running properly\n",
    "try: \n",
    "    lpost = parse_address(\"Bruxelles\")\n",
    "    assert lpost[0][0] == \"bruxelles\"\n",
    "    vlog(\"Libpostal working properly\")\n",
    "except Exception as e: \n",
    "    print(\"Libpostal not up & running \")\n",
    "    print(\"Libpostal: \", AddressCleanserUtils.libpostal_host)\n",
    "    raise e\n"
   ]
  },
  {
   "cell_type": "markdown",
   "metadata": {},
   "source": [
    "# Data preparation"
   ]
  },
  {
   "cell_type": "code",
   "execution_count": 77,
   "metadata": {
    "ExecuteTime": {
     "end_time": "2020-04-24T13:19:59.278818Z",
     "start_time": "2020-04-24T13:19:27.183701Z"
    },
    "scrolled": true
   },
   "outputs": [
    {
     "name": "stdout",
     "output_type": "stream",
     "text": [
      "[2020-04-24 13:19:27,188]  Getting addresses\n",
      "(6251905, 5)\n",
      "(1000, 5)\n",
      "[2020-04-24 13:19:59,247]  Got 1000 addresses\n"
     ]
    },
    {
     "data": {
      "text/html": [
       "<div>\n",
       "<style scoped>\n",
       "    .dataframe tbody tr th:only-of-type {\n",
       "        vertical-align: middle;\n",
       "    }\n",
       "\n",
       "    .dataframe tbody tr th {\n",
       "        vertical-align: top;\n",
       "    }\n",
       "\n",
       "    .dataframe thead th {\n",
       "        text-align: right;\n",
       "    }\n",
       "</style>\n",
       "<table border=\"1\" class=\"dataframe\">\n",
       "  <thead>\n",
       "    <tr style=\"text-align: right;\">\n",
       "      <th></th>\n",
       "      <th>addr_index</th>\n",
       "      <th>street</th>\n",
       "      <th>house_number</th>\n",
       "      <th>postcode</th>\n",
       "      <th>city</th>\n",
       "    </tr>\n",
       "  </thead>\n",
       "  <tbody>\n",
       "    <tr>\n",
       "      <th>1879848</th>\n",
       "      <td>1879848</td>\n",
       "      <td>Rue Nicolas Lancelot</td>\n",
       "      <td>31</td>\n",
       "      <td>6031</td>\n",
       "      <td>Charleroi</td>\n",
       "    </tr>\n",
       "    <tr>\n",
       "      <th>776345</th>\n",
       "      <td>776345</td>\n",
       "      <td>Rue Colonel Bourg</td>\n",
       "      <td>11</td>\n",
       "      <td>5170</td>\n",
       "      <td>Profondeville</td>\n",
       "    </tr>\n",
       "    <tr>\n",
       "      <th>5605514</th>\n",
       "      <td>5605514</td>\n",
       "      <td>Tervuursevest</td>\n",
       "      <td>117</td>\n",
       "      <td>3001</td>\n",
       "      <td>Leuven</td>\n",
       "    </tr>\n",
       "    <tr>\n",
       "      <th>5493389</th>\n",
       "      <td>5493389</td>\n",
       "      <td>Vanheylenstraat</td>\n",
       "      <td>75</td>\n",
       "      <td>1820</td>\n",
       "      <td>Steenokkerzeel</td>\n",
       "    </tr>\n",
       "    <tr>\n",
       "      <th>5076788</th>\n",
       "      <td>5076788</td>\n",
       "      <td>9de Liniestraat</td>\n",
       "      <td>13K</td>\n",
       "      <td>3200</td>\n",
       "      <td>Aarschot</td>\n",
       "    </tr>\n",
       "    <tr>\n",
       "      <th>...</th>\n",
       "      <td>...</td>\n",
       "      <td>...</td>\n",
       "      <td>...</td>\n",
       "      <td>...</td>\n",
       "      <td>...</td>\n",
       "    </tr>\n",
       "    <tr>\n",
       "      <th>5335848</th>\n",
       "      <td>5335848</td>\n",
       "      <td>Corneel Jaspersstraat</td>\n",
       "      <td>10</td>\n",
       "      <td>2600</td>\n",
       "      <td>Antwerpen</td>\n",
       "    </tr>\n",
       "    <tr>\n",
       "      <th>2419073</th>\n",
       "      <td>2419073</td>\n",
       "      <td>Stormvogelstraat</td>\n",
       "      <td>2</td>\n",
       "      <td>8380</td>\n",
       "      <td>Brugge</td>\n",
       "    </tr>\n",
       "    <tr>\n",
       "      <th>13335</th>\n",
       "      <td>13335</td>\n",
       "      <td>Rue Victor Allard</td>\n",
       "      <td>124</td>\n",
       "      <td>1180</td>\n",
       "      <td>Uccle</td>\n",
       "    </tr>\n",
       "    <tr>\n",
       "      <th>5684166</th>\n",
       "      <td>5684166</td>\n",
       "      <td>Cadixstraat</td>\n",
       "      <td>43</td>\n",
       "      <td>2000</td>\n",
       "      <td>Antwerpen</td>\n",
       "    </tr>\n",
       "    <tr>\n",
       "      <th>3601502</th>\n",
       "      <td>3601502</td>\n",
       "      <td>Montenaken</td>\n",
       "      <td>125</td>\n",
       "      <td>3202</td>\n",
       "      <td>Aarschot</td>\n",
       "    </tr>\n",
       "  </tbody>\n",
       "</table>\n",
       "<p>1000 rows × 5 columns</p>\n",
       "</div>"
      ],
      "text/plain": [
       "         addr_index                 street house_number postcode  \\\n",
       "1879848     1879848   Rue Nicolas Lancelot           31     6031   \n",
       "776345       776345      Rue Colonel Bourg           11     5170   \n",
       "5605514     5605514          Tervuursevest          117     3001   \n",
       "5493389     5493389        Vanheylenstraat           75     1820   \n",
       "5076788     5076788        9de Liniestraat          13K     3200   \n",
       "...             ...                    ...          ...      ...   \n",
       "5335848     5335848  Corneel Jaspersstraat           10     2600   \n",
       "2419073     2419073       Stormvogelstraat            2     8380   \n",
       "13335         13335      Rue Victor Allard          124     1180   \n",
       "5684166     5684166            Cadixstraat           43     2000   \n",
       "3601502     3601502             Montenaken          125     3202   \n",
       "\n",
       "                   city  \n",
       "1879848       Charleroi  \n",
       "776345    Profondeville  \n",
       "5605514          Leuven  \n",
       "5493389  Steenokkerzeel  \n",
       "5076788        Aarschot  \n",
       "...                 ...  \n",
       "5335848       Antwerpen  \n",
       "2419073          Brugge  \n",
       "13335             Uccle  \n",
       "5684166       Antwerpen  \n",
       "3601502        Aarschot  \n",
       "\n",
       "[1000 rows x 5 columns]"
      ]
     },
     "metadata": {},
     "output_type": "display_data"
    }
   ],
   "source": [
    "# Get the addresses dataframe. Config module has to contain a \"get_addresses(filename)\" function, returning a dataframe, with \n",
    "# column names defined by variables (defined in config module) : street_field, housenbr_field, city_field, postcode_field , addr_key_field\n",
    "\n",
    "log(\"Getting addresses\")\n",
    "addresses = config_module.get_addresses(address_file)\n",
    "log(f\"Got {addresses.shape[0]} addresses\")\n",
    "log(addresses)\n"
   ]
  },
  {
   "cell_type": "code",
   "execution_count": 78,
   "metadata": {
    "ExecuteTime": {
     "end_time": "2020-04-24T13:19:59.294781Z",
     "start_time": "2020-04-24T13:19:59.283986Z"
    }
   },
   "outputs": [
    {
     "name": "stdout",
     "output_type": "stream",
     "text": [
      "[2020-04-24 13:19:59,287]  Keep a sample of size 1000\n"
     ]
    }
   ],
   "source": [
    "if sample_size :\n",
    "    log(f\"Keep a sample of size {sample_size}\")\n",
    "    addresses = addresses.sample(sample_size)\n"
   ]
  },
  {
   "cell_type": "code",
   "execution_count": 79,
   "metadata": {
    "ExecuteTime": {
     "end_time": "2020-04-24T13:19:59.308575Z",
     "start_time": "2020-04-24T13:19:59.300179Z"
    }
   },
   "outputs": [],
   "source": [
    "# Check that all required fields are present in addresses dataframe\n",
    "\n",
    "for field in field_names:\n",
    "    assert config_module.__getattribute__(field) in addresses, f\"Field {field} missing in data !\""
   ]
  },
  {
   "cell_type": "code",
   "execution_count": 80,
   "metadata": {
    "ExecuteTime": {
     "end_time": "2020-04-24T13:19:59.323945Z",
     "start_time": "2020-04-24T13:19:59.313856Z"
    }
   },
   "outputs": [],
   "source": [
    "# Check that the address identifier defined in config_module.addr_key_field is unique\n",
    "assert addresses[addresses[config_module.addr_key_field].duplicated()].shape[0] == 0, \"Key should be unique\""
   ]
  },
  {
   "cell_type": "code",
   "execution_count": 81,
   "metadata": {
    "ExecuteTime": {
     "end_time": "2020-04-24T13:19:59.415731Z",
     "start_time": "2020-04-24T13:19:59.328543Z"
    },
    "scrolled": true
   },
   "outputs": [],
   "source": [
    "vlog(\"Stripping and upper casing...\")\n",
    "addresses = addresses.apply(lambda col: col.fillna(\"\").astype(str).str.strip().str.upper() if col.dtype.kind=='O' else col.astype(str) )\n"
   ]
  },
  {
   "cell_type": "markdown",
   "metadata": {
    "ExecuteTime": {
     "end_time": "2019-09-19T14:13:50.525559Z",
     "start_time": "2019-09-19T14:13:50.521206Z"
    }
   },
   "source": [
    "# Main loop "
   ]
  },
  {
   "cell_type": "code",
   "execution_count": 84,
   "metadata": {
    "ExecuteTime": {
     "end_time": "2020-04-24T13:19:59.455624Z",
     "start_time": "2020-04-24T13:19:59.446528Z"
    },
    "run_control": {
     "marked": false
    }
   },
   "outputs": [],
   "source": [
    "transformers_sequence = [ [\"orig\"],\n",
    "                          [\"regex[init]\"],\n",
    "                          [\"nonum\"],\n",
    "                          [\"libpostal\", \"regex[lpost]\"], \n",
    "                          [\"libpostal\", \"regex[lpost]\", \"nonum\"], \n",
    "                          [\"libpostal\", \"regex[lpost]\", \"photon\"], \n",
    "                          [\"libpostal\", \"regex[lpost]\", \"photon\", \"nonum\"], \n",
    "                          [\"photon\"],\n",
    "                          [\"photon\", \"nonum\"],\n",
    "                          [\"nostreet\"]\n",
    "                        ]"
   ]
  },
  {
   "cell_type": "code",
   "execution_count": 86,
   "metadata": {
    "ExecuteTime": {
     "end_time": "2020-04-24T13:19:59.526910Z",
     "start_time": "2020-04-24T13:19:59.495942Z"
    }
   },
   "outputs": [],
   "source": [
    "def main_loop(chunk):\n",
    "    \"\"\"\n",
    "    Method \"main_loop\" processes the full cleansing sequence on a chunk of addresses : \n",
    "    - Apply a sequence of transformers (possibly empty)\n",
    "    - Sent the (transformed) addresses to Nominatim\n",
    "    - Parse and Check the results\n",
    "    - For the addresses with no (accepted) result, try the next sequence of transformers\n",
    "    \"\"\"\n",
    "    log(f\"Chunk size: {chunk.shape[0]}\")\n",
    "    \n",
    "    vlog(chunk)\n",
    "    osm_addresses        = pd.DataFrame()\n",
    "    rejected_addresses   = pd.DataFrame()\n",
    "    stats = []\n",
    "    \n",
    "    init_chunk_size = chunk.shape[0]\n",
    "    for transformers in transformers_sequence:\n",
    "\n",
    "        vlog(\"--------------------------\")\n",
    "        vlog(f\"| Transformers : { ';'.join(transformers) }\")\n",
    "        vlog(\"--------------------------\")\n",
    "\n",
    "#         display(chunk)\n",
    "        osm_results, rejected, step_stats = transform_and_process(chunk, transformers, config_module.addr_key_field, \n",
    "                                                                  config_module.street_field, config_module.housenbr_field, config_module.city_field,\n",
    "                                                                  config_module.postcode_field)\n",
    "\n",
    "        osm_addresses =      osm_addresses.append(osm_results, sort=False).drop_duplicates()\n",
    "        rejected_addresses = rejected_addresses.append(rejected, sort=False).drop_duplicates()\n",
    "\n",
    "        vlog(\"Results: \")\n",
    "        vlog(osm_results.head())\n",
    "        vlog(osm_results.shape)\n",
    "\n",
    "        vlog(f\"Match rate so far: {osm_addresses.shape[0] / init_chunk_size if init_chunk_size > 0 else '(empty chunk size)'}\")\n",
    "             \n",
    "        stats.append(step_stats)\n",
    "        vlog(step_stats)\n",
    "\n",
    "        chunk  = chunk[~chunk[config_module.addr_key_field].isin(osm_results[config_module.addr_key_field])].copy()\n",
    "\n",
    "        ts = AddressCleanserUtils.timestats\n",
    "        tot = np.sum([ts[key] for key in ts])\n",
    "        if tot.total_seconds()>0:\n",
    "            for key in ts: \n",
    "                vlog(f\"{key:12}: {ts[key]} ({100*ts[key]/tot:.3} %)\")\n",
    "             \n",
    "        vlog(\"\")\n",
    "        vlog(\"\")\n",
    "        vlog(\"####################\")\n",
    "        vlog(\"\")\n",
    "        vlog(\"\")\n",
    "        \n",
    "    log(\"Chunk results: \")\n",
    "    log(osm_addresses)\n",
    "    log(f\"Chunk match rate: {(osm_addresses.shape[0] / init_chunk_size) if init_chunk_size > 0 else '(empty chunk size)'}\")\n",
    "    log(pd.DataFrame(stats))\n",
    "    \n",
    "    return osm_addresses, rejected_addresses, stats     "
   ]
  },
  {
   "cell_type": "code",
   "execution_count": null,
   "metadata": {
    "ExecuteTime": {
     "end_time": "2020-01-13T14:20:05.783642Z",
     "start_time": "2020-01-13T14:20:05.772195Z"
    }
   },
   "outputs": [],
   "source": []
  },
  {
   "cell_type": "code",
   "execution_count": 87,
   "metadata": {
    "ExecuteTime": {
     "end_time": "2020-04-24T13:19:59.545708Z",
     "start_time": "2020-04-24T13:19:59.532039Z"
    }
   },
   "outputs": [
    {
     "name": "stdout",
     "output_type": "stream",
     "text": [
      "[2020-04-24 13:19:59,539]  Chunk_size: 1000\n"
     ]
    }
   ],
   "source": [
    "# Compute the number of chunks\n",
    "min_nb_chunks= 4\n",
    "\n",
    "if addresses.shape[0] > max_chunk_size * min_nb_chunks:\n",
    "    chunk_size = max_chunk_size\n",
    "    \n",
    "elif addresses.shape[0] < min_chunk_size * min_nb_chunks:\n",
    "    chunk_size = min_chunk_size\n",
    "else: \n",
    "    chunk_size = int(np.sqrt(max_chunk_size *min_chunk_size))\n",
    "log(f\"Chunk_size: {chunk_size}\")\n"
   ]
  },
  {
   "cell_type": "markdown",
   "metadata": {
    "ExecuteTime": {
     "end_time": "2020-01-13T14:16:43.016734Z",
     "start_time": "2020-01-13T14:16:42.988839Z"
    }
   },
   "source": [
    "Do the main processing, with dask or simply in sequential chunks. \n",
    "\n",
    "Processing a chunk may require at some point a huge amount of memory. A single chunk with a few millions addresses may result in memory error ; this is why we split the main addresses dataframe is smaller chunks.\n"
   ]
  },
  {
   "cell_type": "code",
   "execution_count": 88,
   "metadata": {
    "ExecuteTime": {
     "end_time": "2020-04-24T13:20:48.921988Z",
     "start_time": "2020-04-24T13:19:59.551973Z"
    },
    "scrolled": true
   },
   "outputs": [
    {
     "name": "stdout",
     "output_type": "stream",
     "text": [
      "[2020-04-24 13:19:59,620]  Chunk size: 2\n",
      "[2020-04-24 13:19:59,652]  Chunk results: \n"
     ]
    },
    {
     "data": {
      "text/html": [
       "<div>\n",
       "<style scoped>\n",
       "    .dataframe tbody tr th:only-of-type {\n",
       "        vertical-align: middle;\n",
       "    }\n",
       "\n",
       "    .dataframe tbody tr th {\n",
       "        vertical-align: top;\n",
       "    }\n",
       "\n",
       "    .dataframe thead th {\n",
       "        text-align: right;\n",
       "    }\n",
       "</style>\n",
       "<table border=\"1\" class=\"dataframe\">\n",
       "  <thead>\n",
       "    <tr style=\"text-align: right;\">\n",
       "      <th></th>\n",
       "      <th>addr_index</th>\n",
       "    </tr>\n",
       "  </thead>\n",
       "  <tbody>\n",
       "  </tbody>\n",
       "</table>\n",
       "</div>"
      ],
      "text/plain": [
       "Empty DataFrame\n",
       "Columns: [addr_index]\n",
       "Index: []"
      ]
     },
     "metadata": {},
     "output_type": "display_data"
    },
    {
     "name": "stdout",
     "output_type": "stream",
     "text": [
      "[2020-04-24 13:19:59,662]  Chunk match rate: 0.0\n"
     ]
    },
    {
     "data": {
      "text/html": [
       "<div>\n",
       "<style scoped>\n",
       "    .dataframe tbody tr th:only-of-type {\n",
       "        vertical-align: middle;\n",
       "    }\n",
       "\n",
       "    .dataframe tbody tr th {\n",
       "        vertical-align: top;\n",
       "    }\n",
       "\n",
       "    .dataframe thead th {\n",
       "        text-align: right;\n",
       "    }\n",
       "</style>\n",
       "<table border=\"1\" class=\"dataframe\">\n",
       "  <thead>\n",
       "    <tr style=\"text-align: right;\">\n",
       "      <th></th>\n",
       "      <th>method</th>\n",
       "      <th>todo</th>\n",
       "      <th>sent</th>\n",
       "      <th>match</th>\n",
       "      <th>match_26</th>\n",
       "      <th>reject_rec</th>\n",
       "      <th>reject_addr</th>\n",
       "      <th>reject_mism</th>\n",
       "    </tr>\n",
       "  </thead>\n",
       "  <tbody>\n",
       "    <tr>\n",
       "      <th>0</th>\n",
       "      <td>photon</td>\n",
       "      <td>0</td>\n",
       "      <td>0</td>\n",
       "      <td>0</td>\n",
       "      <td>0</td>\n",
       "      <td>0</td>\n",
       "      <td>0</td>\n",
       "      <td>0</td>\n",
       "    </tr>\n",
       "  </tbody>\n",
       "</table>\n",
       "</div>"
      ],
      "text/plain": [
       "   method  todo  sent  match  match_26  reject_rec  reject_addr  reject_mism\n",
       "0  photon     0     0      0         0           0            0            0"
      ]
     },
     "metadata": {},
     "output_type": "display_data"
    },
    {
     "name": "stdout",
     "output_type": "stream",
     "text": [
      "[                                        ] | 0% Completed |  0.0s[2020-04-24 13:19:59,864]  Chunk size: 1000\n",
      "[                                        ] | 0% Completed | 21.1sPhoton reject\n"
     ]
    },
    {
     "data": {
      "text/html": [
       "<div>\n",
       "<style scoped>\n",
       "    .dataframe tbody tr th:only-of-type {\n",
       "        vertical-align: middle;\n",
       "    }\n",
       "\n",
       "    .dataframe tbody tr th {\n",
       "        vertical-align: top;\n",
       "    }\n",
       "\n",
       "    .dataframe thead th {\n",
       "        text-align: right;\n",
       "    }\n",
       "</style>\n",
       "<table border=\"1\" class=\"dataframe\">\n",
       "  <thead>\n",
       "    <tr style=\"text-align: right;\">\n",
       "      <th></th>\n",
       "      <th>addr_index</th>\n",
       "      <th>photon_full_addr</th>\n",
       "      <th>photon_order</th>\n",
       "      <th>photon_osm_type</th>\n",
       "      <th>photon_osm_value</th>\n",
       "      <th>photon_country</th>\n",
       "      <th>photon_osm_key</th>\n",
       "      <th>photon_state</th>\n",
       "      <th>photon_city</th>\n",
       "      <th>photon_postcode</th>\n",
       "      <th>...</th>\n",
       "      <th>house_number</th>\n",
       "      <th>postcode</th>\n",
       "      <th>city</th>\n",
       "      <th>fake_house_number</th>\n",
       "      <th>SIM_street</th>\n",
       "      <th>SIM_street_which</th>\n",
       "      <th>SIM_house_nbr</th>\n",
       "      <th>SIM_zip</th>\n",
       "      <th>SIM_city</th>\n",
       "      <th>reject_reason</th>\n",
       "    </tr>\n",
       "  </thead>\n",
       "  <tbody>\n",
       "    <tr>\n",
       "      <th>43</th>\n",
       "      <td>46027</td>\n",
       "      <td>RUE HAUTE, 1000 BRUXELLES</td>\n",
       "      <td>2</td>\n",
       "      <td>N</td>\n",
       "      <td>school</td>\n",
       "      <td>Belgium</td>\n",
       "      <td>amenity</td>\n",
       "      <td>Brussels-Capital</td>\n",
       "      <td>Ville de Bruxelles - Stad Brussel</td>\n",
       "      <td>1000</td>\n",
       "      <td>...</td>\n",
       "      <td>260</td>\n",
       "      <td>1000</td>\n",
       "      <td>BRUXELLES</td>\n",
       "      <td></td>\n",
       "      <td>0.285714</td>\n",
       "      <td>photon_street</td>\n",
       "      <td>0.0</td>\n",
       "      <td>1.0</td>\n",
       "      <td>0.272727</td>\n",
       "      <td>mismatch</td>\n",
       "    </tr>\n",
       "    <tr>\n",
       "      <th>101</th>\n",
       "      <td>181459</td>\n",
       "      <td>AVENUE DE L'ARAUCARIA, 1020 BRUXELLES</td>\n",
       "      <td>2</td>\n",
       "      <td>N</td>\n",
       "      <td>bicycle_rental</td>\n",
       "      <td>Belgium</td>\n",
       "      <td>amenity</td>\n",
       "      <td>Brussels-Capital</td>\n",
       "      <td>Ville de Bruxelles - Stad Brussel</td>\n",
       "      <td>1020</td>\n",
       "      <td>...</td>\n",
       "      <td>13</td>\n",
       "      <td>1020</td>\n",
       "      <td>BRUXELLES</td>\n",
       "      <td></td>\n",
       "      <td>0.250000</td>\n",
       "      <td>photon_street</td>\n",
       "      <td>0.0</td>\n",
       "      <td>1.0</td>\n",
       "      <td>0.272727</td>\n",
       "      <td>mismatch</td>\n",
       "    </tr>\n",
       "    <tr>\n",
       "      <th>102</th>\n",
       "      <td>181459</td>\n",
       "      <td>AVENUE DE L'ARAUCARIA, 1020 BRUXELLES</td>\n",
       "      <td>3</td>\n",
       "      <td>N</td>\n",
       "      <td>tram_stop</td>\n",
       "      <td>Belgium</td>\n",
       "      <td>railway</td>\n",
       "      <td>Brussels-Capital</td>\n",
       "      <td>Ville de Bruxelles - Stad Brussel</td>\n",
       "      <td>1020</td>\n",
       "      <td>...</td>\n",
       "      <td>13</td>\n",
       "      <td>1020</td>\n",
       "      <td>BRUXELLES</td>\n",
       "      <td></td>\n",
       "      <td>0.250000</td>\n",
       "      <td>photon_street</td>\n",
       "      <td>0.0</td>\n",
       "      <td>1.0</td>\n",
       "      <td>0.272727</td>\n",
       "      <td>mismatch</td>\n",
       "    </tr>\n",
       "    <tr>\n",
       "      <th>103</th>\n",
       "      <td>181459</td>\n",
       "      <td>AVENUE DE L'ARAUCARIA, 1020 BRUXELLES</td>\n",
       "      <td>4</td>\n",
       "      <td>N</td>\n",
       "      <td>tram_stop</td>\n",
       "      <td>Belgium</td>\n",
       "      <td>railway</td>\n",
       "      <td>Brussels-Capital</td>\n",
       "      <td>Ville de Bruxelles - Stad Brussel</td>\n",
       "      <td>1020</td>\n",
       "      <td>...</td>\n",
       "      <td>13</td>\n",
       "      <td>1020</td>\n",
       "      <td>BRUXELLES</td>\n",
       "      <td></td>\n",
       "      <td>0.250000</td>\n",
       "      <td>photon_street</td>\n",
       "      <td>0.0</td>\n",
       "      <td>1.0</td>\n",
       "      <td>0.272727</td>\n",
       "      <td>mismatch</td>\n",
       "    </tr>\n",
       "    <tr>\n",
       "      <th>142</th>\n",
       "      <td>110295</td>\n",
       "      <td>RUE DE BRABANT, 1030 SCHAERBEEK</td>\n",
       "      <td>2</td>\n",
       "      <td>N</td>\n",
       "      <td>police</td>\n",
       "      <td>Belgium</td>\n",
       "      <td>amenity</td>\n",
       "      <td>Brussels-Capital</td>\n",
       "      <td>Schaerbeek - Schaarbeek</td>\n",
       "      <td>1030</td>\n",
       "      <td>...</td>\n",
       "      <td>228</td>\n",
       "      <td>1030</td>\n",
       "      <td>SCHAERBEEK</td>\n",
       "      <td></td>\n",
       "      <td>0.400000</td>\n",
       "      <td>photon_street</td>\n",
       "      <td>0.0</td>\n",
       "      <td>1.0</td>\n",
       "      <td>0.434783</td>\n",
       "      <td>mismatch</td>\n",
       "    </tr>\n",
       "    <tr>\n",
       "      <th>...</th>\n",
       "      <td>...</td>\n",
       "      <td>...</td>\n",
       "      <td>...</td>\n",
       "      <td>...</td>\n",
       "      <td>...</td>\n",
       "      <td>...</td>\n",
       "      <td>...</td>\n",
       "      <td>...</td>\n",
       "      <td>...</td>\n",
       "      <td>...</td>\n",
       "      <td>...</td>\n",
       "      <td>...</td>\n",
       "      <td>...</td>\n",
       "      <td>...</td>\n",
       "      <td>...</td>\n",
       "      <td>...</td>\n",
       "      <td>...</td>\n",
       "      <td>...</td>\n",
       "      <td>...</td>\n",
       "      <td>...</td>\n",
       "      <td>...</td>\n",
       "    </tr>\n",
       "    <tr>\n",
       "      <th>3081</th>\n",
       "      <td>992733</td>\n",
       "      <td>RUE DU PETIT MARAIS, 7011 MONS</td>\n",
       "      <td>9</td>\n",
       "      <td>N</td>\n",
       "      <td>guest_house</td>\n",
       "      <td>Belgium</td>\n",
       "      <td>tourism</td>\n",
       "      <td>Wallonia</td>\n",
       "      <td>Mons</td>\n",
       "      <td>7012</td>\n",
       "      <td>...</td>\n",
       "      <td>33</td>\n",
       "      <td>7011</td>\n",
       "      <td>MONS</td>\n",
       "      <td></td>\n",
       "      <td>1.000000</td>\n",
       "      <td>photon_street</td>\n",
       "      <td>0.0</td>\n",
       "      <td>0.5</td>\n",
       "      <td>1.000000</td>\n",
       "      <td>tail</td>\n",
       "    </tr>\n",
       "    <tr>\n",
       "      <th>3073</th>\n",
       "      <td>992733</td>\n",
       "      <td>RUE DU PETIT MARAIS, 7011 MONS</td>\n",
       "      <td>1</td>\n",
       "      <td>W</td>\n",
       "      <td>tertiary</td>\n",
       "      <td>Belgium</td>\n",
       "      <td>highway</td>\n",
       "      <td>Wallonia</td>\n",
       "      <td>Mons</td>\n",
       "      <td>7011</td>\n",
       "      <td>...</td>\n",
       "      <td>33</td>\n",
       "      <td>7011</td>\n",
       "      <td>MONS</td>\n",
       "      <td></td>\n",
       "      <td>0.666667</td>\n",
       "      <td>photon_street</td>\n",
       "      <td>0.0</td>\n",
       "      <td>1.0</td>\n",
       "      <td>1.000000</td>\n",
       "      <td>tail</td>\n",
       "    </tr>\n",
       "    <tr>\n",
       "      <th>3074</th>\n",
       "      <td>992733</td>\n",
       "      <td>RUE DU PETIT MARAIS, 7011 MONS</td>\n",
       "      <td>2</td>\n",
       "      <td>W</td>\n",
       "      <td>residential</td>\n",
       "      <td>Belgium</td>\n",
       "      <td>highway</td>\n",
       "      <td>Wallonia</td>\n",
       "      <td>Mons</td>\n",
       "      <td>7012</td>\n",
       "      <td>...</td>\n",
       "      <td>33</td>\n",
       "      <td>7011</td>\n",
       "      <td>MONS</td>\n",
       "      <td></td>\n",
       "      <td>0.666667</td>\n",
       "      <td>photon_street</td>\n",
       "      <td>0.0</td>\n",
       "      <td>0.5</td>\n",
       "      <td>1.000000</td>\n",
       "      <td>tail</td>\n",
       "    </tr>\n",
       "    <tr>\n",
       "      <th>3075</th>\n",
       "      <td>992733</td>\n",
       "      <td>RUE DU PETIT MARAIS, 7011 MONS</td>\n",
       "      <td>3</td>\n",
       "      <td>W</td>\n",
       "      <td>residential</td>\n",
       "      <td>Belgium</td>\n",
       "      <td>highway</td>\n",
       "      <td>Wallonia</td>\n",
       "      <td>Mons</td>\n",
       "      <td>7012</td>\n",
       "      <td>...</td>\n",
       "      <td>33</td>\n",
       "      <td>7011</td>\n",
       "      <td>MONS</td>\n",
       "      <td></td>\n",
       "      <td>0.666667</td>\n",
       "      <td>photon_street</td>\n",
       "      <td>0.0</td>\n",
       "      <td>0.5</td>\n",
       "      <td>1.000000</td>\n",
       "      <td>tail</td>\n",
       "    </tr>\n",
       "    <tr>\n",
       "      <th>3078</th>\n",
       "      <td>992733</td>\n",
       "      <td>RUE DU PETIT MARAIS, 7011 MONS</td>\n",
       "      <td>6</td>\n",
       "      <td>W</td>\n",
       "      <td>residential</td>\n",
       "      <td>Belgium</td>\n",
       "      <td>highway</td>\n",
       "      <td>Wallonia</td>\n",
       "      <td>Mons</td>\n",
       "      <td>7041</td>\n",
       "      <td>...</td>\n",
       "      <td>33</td>\n",
       "      <td>7011</td>\n",
       "      <td>MONS</td>\n",
       "      <td></td>\n",
       "      <td>0.647059</td>\n",
       "      <td>photon_street</td>\n",
       "      <td>0.0</td>\n",
       "      <td>0.5</td>\n",
       "      <td>1.000000</td>\n",
       "      <td>tail</td>\n",
       "    </tr>\n",
       "  </tbody>\n",
       "</table>\n",
       "<p>3650 rows × 26 columns</p>\n",
       "</div>"
      ],
      "text/plain": [
       "     addr_index                       photon_full_addr  photon_order  \\\n",
       "43        46027              RUE HAUTE, 1000 BRUXELLES             2   \n",
       "101      181459  AVENUE DE L'ARAUCARIA, 1020 BRUXELLES             2   \n",
       "102      181459  AVENUE DE L'ARAUCARIA, 1020 BRUXELLES             3   \n",
       "103      181459  AVENUE DE L'ARAUCARIA, 1020 BRUXELLES             4   \n",
       "142      110295        RUE DE BRABANT, 1030 SCHAERBEEK             2   \n",
       "...         ...                                    ...           ...   \n",
       "3081     992733         RUE DU PETIT MARAIS, 7011 MONS             9   \n",
       "3073     992733         RUE DU PETIT MARAIS, 7011 MONS             1   \n",
       "3074     992733         RUE DU PETIT MARAIS, 7011 MONS             2   \n",
       "3075     992733         RUE DU PETIT MARAIS, 7011 MONS             3   \n",
       "3078     992733         RUE DU PETIT MARAIS, 7011 MONS             6   \n",
       "\n",
       "     photon_osm_type photon_osm_value photon_country photon_osm_key  \\\n",
       "43                 N           school        Belgium        amenity   \n",
       "101                N   bicycle_rental        Belgium        amenity   \n",
       "102                N        tram_stop        Belgium        railway   \n",
       "103                N        tram_stop        Belgium        railway   \n",
       "142                N           police        Belgium        amenity   \n",
       "...              ...              ...            ...            ...   \n",
       "3081               N      guest_house        Belgium        tourism   \n",
       "3073               W         tertiary        Belgium        highway   \n",
       "3074               W      residential        Belgium        highway   \n",
       "3075               W      residential        Belgium        highway   \n",
       "3078               W      residential        Belgium        highway   \n",
       "\n",
       "          photon_state                        photon_city photon_postcode  \\\n",
       "43    Brussels-Capital  Ville de Bruxelles - Stad Brussel            1000   \n",
       "101   Brussels-Capital  Ville de Bruxelles - Stad Brussel            1020   \n",
       "102   Brussels-Capital  Ville de Bruxelles - Stad Brussel            1020   \n",
       "103   Brussels-Capital  Ville de Bruxelles - Stad Brussel            1020   \n",
       "142   Brussels-Capital            Schaerbeek - Schaarbeek            1030   \n",
       "...                ...                                ...             ...   \n",
       "3081          Wallonia                               Mons            7012   \n",
       "3073          Wallonia                               Mons            7011   \n",
       "3074          Wallonia                               Mons            7012   \n",
       "3075          Wallonia                               Mons            7012   \n",
       "3078          Wallonia                               Mons            7041   \n",
       "\n",
       "      ... house_number postcode        city  fake_house_number  SIM_street  \\\n",
       "43    ...          260     1000   BRUXELLES                       0.285714   \n",
       "101   ...           13     1020   BRUXELLES                       0.250000   \n",
       "102   ...           13     1020   BRUXELLES                       0.250000   \n",
       "103   ...           13     1020   BRUXELLES                       0.250000   \n",
       "142   ...          228     1030  SCHAERBEEK                       0.400000   \n",
       "...   ...          ...      ...         ...                ...         ...   \n",
       "3081  ...           33     7011        MONS                       1.000000   \n",
       "3073  ...           33     7011        MONS                       0.666667   \n",
       "3074  ...           33     7011        MONS                       0.666667   \n",
       "3075  ...           33     7011        MONS                       0.666667   \n",
       "3078  ...           33     7011        MONS                       0.647059   \n",
       "\n",
       "     SIM_street_which SIM_house_nbr SIM_zip  SIM_city reject_reason  \n",
       "43      photon_street           0.0     1.0  0.272727      mismatch  \n",
       "101     photon_street           0.0     1.0  0.272727      mismatch  \n",
       "102     photon_street           0.0     1.0  0.272727      mismatch  \n",
       "103     photon_street           0.0     1.0  0.272727      mismatch  \n",
       "142     photon_street           0.0     1.0  0.434783      mismatch  \n",
       "...               ...           ...     ...       ...           ...  \n",
       "3081    photon_street           0.0     0.5  1.000000          tail  \n",
       "3073    photon_street           0.0     1.0  1.000000          tail  \n",
       "3074    photon_street           0.0     0.5  1.000000          tail  \n",
       "3075    photon_street           0.0     0.5  1.000000          tail  \n",
       "3078    photon_street           0.0     0.5  1.000000          tail  \n",
       "\n",
       "[3650 rows x 26 columns]"
      ]
     },
     "metadata": {},
     "output_type": "display_data"
    },
    {
     "name": "stdout",
     "output_type": "stream",
     "text": [
      "[                                        ] | 0% Completed | 47.2s[2020-04-24 13:20:47,001]  Chunk results: \n"
     ]
    },
    {
     "data": {
      "text/html": [
       "<div>\n",
       "<style scoped>\n",
       "    .dataframe tbody tr th:only-of-type {\n",
       "        vertical-align: middle;\n",
       "    }\n",
       "\n",
       "    .dataframe tbody tr th {\n",
       "        vertical-align: top;\n",
       "    }\n",
       "\n",
       "    .dataframe thead th {\n",
       "        text-align: right;\n",
       "    }\n",
       "</style>\n",
       "<table border=\"1\" class=\"dataframe\">\n",
       "  <thead>\n",
       "    <tr style=\"text-align: right;\">\n",
       "      <th></th>\n",
       "      <th>osm_addr_in</th>\n",
       "      <th>addr_index</th>\n",
       "      <th>place_id</th>\n",
       "      <th>lat</th>\n",
       "      <th>lon</th>\n",
       "      <th>display_name</th>\n",
       "      <th>namedetails</th>\n",
       "      <th>place_rank</th>\n",
       "      <th>category</th>\n",
       "      <th>type</th>\n",
       "      <th>SIM_street_which</th>\n",
       "      <th>SIM_street</th>\n",
       "      <th>addr_out_street</th>\n",
       "      <th>addr_out_city</th>\n",
       "      <th>addr_out_number</th>\n",
       "      <th>addr_out_country</th>\n",
       "      <th>addr_out_postcode</th>\n",
       "      <th>addr_out_other</th>\n",
       "      <th>retry_on_26</th>\n",
       "      <th>method</th>\n",
       "    </tr>\n",
       "  </thead>\n",
       "  <tbody>\n",
       "    <tr>\n",
       "      <th>0</th>\n",
       "      <td>Rue Monsville, 120, 7390 Quaregnon</td>\n",
       "      <td>1011765</td>\n",
       "      <td>631231</td>\n",
       "      <td>50.437436</td>\n",
       "      <td>3.8648648</td>\n",
       "      <td>Rue Monsville, Quaregnon, Mons, Hainaut, Wallo...</td>\n",
       "      <td>Rue Monsville</td>\n",
       "      <td>26</td>\n",
       "      <td>highway</td>\n",
       "      <td>tertiary</td>\n",
       "      <td>addr_out_street</td>\n",
       "      <td>1.0</td>\n",
       "      <td>Rue Monsville</td>\n",
       "      <td>Quaregnon</td>\n",
       "      <td>None</td>\n",
       "      <td>België / Belgique / Belgien</td>\n",
       "      <td>7390</td>\n",
       "      <td></td>\n",
       "      <td>NaN</td>\n",
       "      <td>photon</td>\n",
       "    </tr>\n",
       "    <tr>\n",
       "      <th>1</th>\n",
       "      <td>Rue de Genly, 9, 6110 Montigny-le-Tilleul</td>\n",
       "      <td>1034611</td>\n",
       "      <td>668184</td>\n",
       "      <td>50.3811754</td>\n",
       "      <td>4.3784254</td>\n",
       "      <td>Rue de Genly, Bomerée, Montigny-le-Tilleul, Ch...</td>\n",
       "      <td>Rue de Genly</td>\n",
       "      <td>26</td>\n",
       "      <td>highway</td>\n",
       "      <td>residential</td>\n",
       "      <td>addr_out_street</td>\n",
       "      <td>1.0</td>\n",
       "      <td>Rue de Genly</td>\n",
       "      <td>Montigny-le-Tilleul</td>\n",
       "      <td>None</td>\n",
       "      <td>België / Belgique / Belgien</td>\n",
       "      <td>6110</td>\n",
       "      <td>Bomerée</td>\n",
       "      <td>NaN</td>\n",
       "      <td>photon</td>\n",
       "    </tr>\n",
       "    <tr>\n",
       "      <th>3</th>\n",
       "      <td>Rue du Plat Rié, 286, 7390 Quaregnon</td>\n",
       "      <td>1055589</td>\n",
       "      <td>1696459</td>\n",
       "      <td>50.4270599</td>\n",
       "      <td>3.856548</td>\n",
       "      <td>Rue du Plat Rié, Quaregnon, Mons, Hainaut, Wal...</td>\n",
       "      <td>Rue du Plat Rié</td>\n",
       "      <td>26</td>\n",
       "      <td>highway</td>\n",
       "      <td>residential</td>\n",
       "      <td>addr_out_street</td>\n",
       "      <td>1.0</td>\n",
       "      <td>Rue du Plat Rié</td>\n",
       "      <td>Quaregnon</td>\n",
       "      <td>None</td>\n",
       "      <td>België / Belgique / Belgien</td>\n",
       "      <td>7390</td>\n",
       "      <td></td>\n",
       "      <td>NaN</td>\n",
       "      <td>photon</td>\n",
       "    </tr>\n",
       "    <tr>\n",
       "      <th>4</th>\n",
       "      <td>Avenue des Éperviers - Sperwerlaan, 67, 1150 W...</td>\n",
       "      <td>110087</td>\n",
       "      <td>1380953</td>\n",
       "      <td>50.8259057</td>\n",
       "      <td>4.41440350920779</td>\n",
       "      <td>67, Avenue des Éperviers - Sperwerlaan, Woluwe...</td>\n",
       "      <td></td>\n",
       "      <td>30</td>\n",
       "      <td>building</td>\n",
       "      <td>yes</td>\n",
       "      <td>addr_out_street</td>\n",
       "      <td>1.0</td>\n",
       "      <td>Avenue des Éperviers - Sperwerlaan</td>\n",
       "      <td>Woluwe-Saint-Pierre - Sint-Pieters-Woluwe</td>\n",
       "      <td>67</td>\n",
       "      <td>België / Belgique / Belgien</td>\n",
       "      <td>1150</td>\n",
       "      <td></td>\n",
       "      <td>NaN</td>\n",
       "      <td>photon</td>\n",
       "    </tr>\n",
       "    <tr>\n",
       "      <th>5</th>\n",
       "      <td>Rue de Brabant - Brabantstraat, 228, 1030 Scha...</td>\n",
       "      <td>110295</td>\n",
       "      <td>1214203</td>\n",
       "      <td>50.86246435</td>\n",
       "      <td>4.36549189198215</td>\n",
       "      <td>228, Rue de Brabant - Brabantstraat, Schaerbee...</td>\n",
       "      <td></td>\n",
       "      <td>30</td>\n",
       "      <td>building</td>\n",
       "      <td>yes</td>\n",
       "      <td>addr_out_street</td>\n",
       "      <td>1.0</td>\n",
       "      <td>Rue de Brabant - Brabantstraat</td>\n",
       "      <td>Schaerbeek - Schaarbeek</td>\n",
       "      <td>228</td>\n",
       "      <td>België / Belgique / Belgien</td>\n",
       "      <td>1030</td>\n",
       "      <td></td>\n",
       "      <td>NaN</td>\n",
       "      <td>photon</td>\n",
       "    </tr>\n",
       "    <tr>\n",
       "      <th>...</th>\n",
       "      <td>...</td>\n",
       "      <td>...</td>\n",
       "      <td>...</td>\n",
       "      <td>...</td>\n",
       "      <td>...</td>\n",
       "      <td>...</td>\n",
       "      <td>...</td>\n",
       "      <td>...</td>\n",
       "      <td>...</td>\n",
       "      <td>...</td>\n",
       "      <td>...</td>\n",
       "      <td>...</td>\n",
       "      <td>...</td>\n",
       "      <td>...</td>\n",
       "      <td>...</td>\n",
       "      <td>...</td>\n",
       "      <td>...</td>\n",
       "      <td>...</td>\n",
       "      <td>...</td>\n",
       "      <td>...</td>\n",
       "    </tr>\n",
       "    <tr>\n",
       "      <th>394</th>\n",
       "      <td>Rue du Petit Marais, 33, 7012 Mons</td>\n",
       "      <td>992733</td>\n",
       "      <td>1441715</td>\n",
       "      <td>50.4710045</td>\n",
       "      <td>3.8826848</td>\n",
       "      <td>Rue du Petit Marais, Saint-Ghislain, Mons, Hai...</td>\n",
       "      <td>Rue du Petit Marais</td>\n",
       "      <td>26</td>\n",
       "      <td>highway</td>\n",
       "      <td>unclassified</td>\n",
       "      <td>addr_out_street</td>\n",
       "      <td>1.0</td>\n",
       "      <td>Rue du Petit Marais</td>\n",
       "      <td>Saint-Ghislain</td>\n",
       "      <td>None</td>\n",
       "      <td>België / Belgique / Belgien</td>\n",
       "      <td>7012</td>\n",
       "      <td></td>\n",
       "      <td>NaN</td>\n",
       "      <td>photon</td>\n",
       "    </tr>\n",
       "    <tr>\n",
       "      <th>396</th>\n",
       "      <td>Rue L. Dewolf, 20, 7010 Mons</td>\n",
       "      <td>995965</td>\n",
       "      <td>618413</td>\n",
       "      <td>50.4900829</td>\n",
       "      <td>3.9666851</td>\n",
       "      <td>Rue L. Dewolf, Mons, Hainaut, Wallonie, 7010, ...</td>\n",
       "      <td>Rue L. Dewolf</td>\n",
       "      <td>26</td>\n",
       "      <td>highway</td>\n",
       "      <td>residential</td>\n",
       "      <td>addr_out_street</td>\n",
       "      <td>1.0</td>\n",
       "      <td>Rue L. Dewolf</td>\n",
       "      <td>Mons</td>\n",
       "      <td>None</td>\n",
       "      <td>België / Belgique / Belgien</td>\n",
       "      <td>7010</td>\n",
       "      <td></td>\n",
       "      <td>NaN</td>\n",
       "      <td>photon</td>\n",
       "    </tr>\n",
       "    <tr>\n",
       "      <th>12</th>\n",
       "      <td>Universiteitsplein, 1, 2610 Antwerp</td>\n",
       "      <td>4715192</td>\n",
       "      <td>1104080</td>\n",
       "      <td>51.1621501</td>\n",
       "      <td>4.40351190289472</td>\n",
       "      <td>D, 1, Universiteitsplein, Wilrijk, Antwerpen, ...</td>\n",
       "      <td></td>\n",
       "      <td>30</td>\n",
       "      <td>building</td>\n",
       "      <td>university</td>\n",
       "      <td>addr_out_street</td>\n",
       "      <td>1.0</td>\n",
       "      <td>Universiteitsplein</td>\n",
       "      <td>Wilrijk</td>\n",
       "      <td>1</td>\n",
       "      <td>België / Belgique / Belgien</td>\n",
       "      <td>2610</td>\n",
       "      <td>D</td>\n",
       "      <td>True</td>\n",
       "      <td>photon</td>\n",
       "    </tr>\n",
       "    <tr>\n",
       "      <th>16</th>\n",
       "      <td>Krijgslaan, 98, 9000 Ghent</td>\n",
       "      <td>4831689</td>\n",
       "      <td>2293442</td>\n",
       "      <td>51.0335115</td>\n",
       "      <td>3.72040594813028</td>\n",
       "      <td>98-98L, Krijgslaan, Sint-Pieters-Aalst, Gent, ...</td>\n",
       "      <td></td>\n",
       "      <td>30</td>\n",
       "      <td>building</td>\n",
       "      <td>house</td>\n",
       "      <td>addr_out_street</td>\n",
       "      <td>1.0</td>\n",
       "      <td>Krijgslaan</td>\n",
       "      <td>Gent</td>\n",
       "      <td>98-98L</td>\n",
       "      <td>België / Belgique / Belgien</td>\n",
       "      <td>9000</td>\n",
       "      <td>Sint-Pieters-Aalst</td>\n",
       "      <td>True</td>\n",
       "      <td>photon</td>\n",
       "    </tr>\n",
       "    <tr>\n",
       "      <th>31</th>\n",
       "      <td>Schoonbroek, 30, 2180 Antwerp</td>\n",
       "      <td>5619200</td>\n",
       "      <td>1881784</td>\n",
       "      <td>51.2829147</td>\n",
       "      <td>4.41237839543525</td>\n",
       "      <td>30, Schoonbroek, Ekeren, Antwerpen, Vlaanderen...</td>\n",
       "      <td></td>\n",
       "      <td>30</td>\n",
       "      <td>building</td>\n",
       "      <td>house</td>\n",
       "      <td>addr_out_street</td>\n",
       "      <td>1.0</td>\n",
       "      <td>Schoonbroek</td>\n",
       "      <td>Ekeren</td>\n",
       "      <td>30</td>\n",
       "      <td>België / Belgique / Belgien</td>\n",
       "      <td>2180</td>\n",
       "      <td>Schoonbroek</td>\n",
       "      <td>True</td>\n",
       "      <td>photon</td>\n",
       "    </tr>\n",
       "  </tbody>\n",
       "</table>\n",
       "<p>302 rows × 20 columns</p>\n",
       "</div>"
      ],
      "text/plain": [
       "                                           osm_addr_in addr_index  place_id  \\\n",
       "0                   Rue Monsville, 120, 7390 Quaregnon    1011765    631231   \n",
       "1            Rue de Genly, 9, 6110 Montigny-le-Tilleul    1034611    668184   \n",
       "3                 Rue du Plat Rié, 286, 7390 Quaregnon    1055589   1696459   \n",
       "4    Avenue des Éperviers - Sperwerlaan, 67, 1150 W...     110087   1380953   \n",
       "5    Rue de Brabant - Brabantstraat, 228, 1030 Scha...     110295   1214203   \n",
       "..                                                 ...        ...       ...   \n",
       "394                 Rue du Petit Marais, 33, 7012 Mons     992733   1441715   \n",
       "396                       Rue L. Dewolf, 20, 7010 Mons     995965    618413   \n",
       "12                 Universiteitsplein, 1, 2610 Antwerp    4715192   1104080   \n",
       "16                          Krijgslaan, 98, 9000 Ghent    4831689   2293442   \n",
       "31                       Schoonbroek, 30, 2180 Antwerp    5619200   1881784   \n",
       "\n",
       "             lat               lon  \\\n",
       "0      50.437436         3.8648648   \n",
       "1     50.3811754         4.3784254   \n",
       "3     50.4270599          3.856548   \n",
       "4     50.8259057  4.41440350920779   \n",
       "5    50.86246435  4.36549189198215   \n",
       "..           ...               ...   \n",
       "394   50.4710045         3.8826848   \n",
       "396   50.4900829         3.9666851   \n",
       "12    51.1621501  4.40351190289472   \n",
       "16    51.0335115  3.72040594813028   \n",
       "31    51.2829147  4.41237839543525   \n",
       "\n",
       "                                          display_name          namedetails  \\\n",
       "0    Rue Monsville, Quaregnon, Mons, Hainaut, Wallo...        Rue Monsville   \n",
       "1    Rue de Genly, Bomerée, Montigny-le-Tilleul, Ch...         Rue de Genly   \n",
       "3    Rue du Plat Rié, Quaregnon, Mons, Hainaut, Wal...      Rue du Plat Rié   \n",
       "4    67, Avenue des Éperviers - Sperwerlaan, Woluwe...                        \n",
       "5    228, Rue de Brabant - Brabantstraat, Schaerbee...                        \n",
       "..                                                 ...                  ...   \n",
       "394  Rue du Petit Marais, Saint-Ghislain, Mons, Hai...  Rue du Petit Marais   \n",
       "396  Rue L. Dewolf, Mons, Hainaut, Wallonie, 7010, ...        Rue L. Dewolf   \n",
       "12   D, 1, Universiteitsplein, Wilrijk, Antwerpen, ...                        \n",
       "16   98-98L, Krijgslaan, Sint-Pieters-Aalst, Gent, ...                        \n",
       "31   30, Schoonbroek, Ekeren, Antwerpen, Vlaanderen...                        \n",
       "\n",
       "     place_rank  category          type SIM_street_which  SIM_street  \\\n",
       "0            26   highway      tertiary  addr_out_street         1.0   \n",
       "1            26   highway   residential  addr_out_street         1.0   \n",
       "3            26   highway   residential  addr_out_street         1.0   \n",
       "4            30  building           yes  addr_out_street         1.0   \n",
       "5            30  building           yes  addr_out_street         1.0   \n",
       "..          ...       ...           ...              ...         ...   \n",
       "394          26   highway  unclassified  addr_out_street         1.0   \n",
       "396          26   highway   residential  addr_out_street         1.0   \n",
       "12           30  building    university  addr_out_street         1.0   \n",
       "16           30  building         house  addr_out_street         1.0   \n",
       "31           30  building         house  addr_out_street         1.0   \n",
       "\n",
       "                        addr_out_street  \\\n",
       "0                         Rue Monsville   \n",
       "1                          Rue de Genly   \n",
       "3                       Rue du Plat Rié   \n",
       "4    Avenue des Éperviers - Sperwerlaan   \n",
       "5        Rue de Brabant - Brabantstraat   \n",
       "..                                  ...   \n",
       "394                 Rue du Petit Marais   \n",
       "396                       Rue L. Dewolf   \n",
       "12                   Universiteitsplein   \n",
       "16                           Krijgslaan   \n",
       "31                          Schoonbroek   \n",
       "\n",
       "                                 addr_out_city addr_out_number  \\\n",
       "0                                    Quaregnon            None   \n",
       "1                          Montigny-le-Tilleul            None   \n",
       "3                                    Quaregnon            None   \n",
       "4    Woluwe-Saint-Pierre - Sint-Pieters-Woluwe              67   \n",
       "5                      Schaerbeek - Schaarbeek             228   \n",
       "..                                         ...             ...   \n",
       "394                             Saint-Ghislain            None   \n",
       "396                                       Mons            None   \n",
       "12                                     Wilrijk               1   \n",
       "16                                        Gent          98-98L   \n",
       "31                                      Ekeren              30   \n",
       "\n",
       "                addr_out_country addr_out_postcode      addr_out_other  \\\n",
       "0    België / Belgique / Belgien              7390                       \n",
       "1    België / Belgique / Belgien              6110             Bomerée   \n",
       "3    België / Belgique / Belgien              7390                       \n",
       "4    België / Belgique / Belgien              1150                       \n",
       "5    België / Belgique / Belgien              1030                       \n",
       "..                           ...               ...                 ...   \n",
       "394  België / Belgique / Belgien              7012                       \n",
       "396  België / Belgique / Belgien              7010                       \n",
       "12   België / Belgique / Belgien              2610                   D   \n",
       "16   België / Belgique / Belgien              9000  Sint-Pieters-Aalst   \n",
       "31   België / Belgique / Belgien              2180         Schoonbroek   \n",
       "\n",
       "    retry_on_26  method  \n",
       "0           NaN  photon  \n",
       "1           NaN  photon  \n",
       "3           NaN  photon  \n",
       "4           NaN  photon  \n",
       "5           NaN  photon  \n",
       "..          ...     ...  \n",
       "394         NaN  photon  \n",
       "396         NaN  photon  \n",
       "12         True  photon  \n",
       "16         True  photon  \n",
       "31         True  photon  \n",
       "\n",
       "[302 rows x 20 columns]"
      ]
     },
     "metadata": {},
     "output_type": "display_data"
    },
    {
     "name": "stdout",
     "output_type": "stream",
     "text": [
      "[2020-04-24 13:20:47,085]  Chunk match rate: 0.302\n"
     ]
    },
    {
     "data": {
      "text/html": [
       "<div>\n",
       "<style scoped>\n",
       "    .dataframe tbody tr th:only-of-type {\n",
       "        vertical-align: middle;\n",
       "    }\n",
       "\n",
       "    .dataframe tbody tr th {\n",
       "        vertical-align: top;\n",
       "    }\n",
       "\n",
       "    .dataframe thead th {\n",
       "        text-align: right;\n",
       "    }\n",
       "</style>\n",
       "<table border=\"1\" class=\"dataframe\">\n",
       "  <thead>\n",
       "    <tr style=\"text-align: right;\">\n",
       "      <th></th>\n",
       "      <th>method</th>\n",
       "      <th>todo</th>\n",
       "      <th>sent</th>\n",
       "      <th>match</th>\n",
       "      <th>match_26</th>\n",
       "      <th>reject_rec</th>\n",
       "      <th>reject_addr</th>\n",
       "      <th>reject_mism</th>\n",
       "    </tr>\n",
       "  </thead>\n",
       "  <tbody>\n",
       "    <tr>\n",
       "      <th>0</th>\n",
       "      <td>photon</td>\n",
       "      <td>1000</td>\n",
       "      <td>303</td>\n",
       "      <td>302</td>\n",
       "      <td>3</td>\n",
       "      <td>95</td>\n",
       "      <td>64</td>\n",
       "      <td>1</td>\n",
       "    </tr>\n",
       "  </tbody>\n",
       "</table>\n",
       "</div>"
      ],
      "text/plain": [
       "   method  todo  sent  match  match_26  reject_rec  reject_addr  reject_mism\n",
       "0  photon  1000   303    302         3          95           64            1"
      ]
     },
     "metadata": {},
     "output_type": "display_data"
    },
    {
     "name": "stdout",
     "output_type": "stream",
     "text": [
      "[########################################] | 100% Completed | 48.2s\n",
      "[########################################] | 100% Completed | 48.2s\n",
      "[2020-04-24 13:20:48,891]  All chunks done, gather all results...\n",
      "[2020-04-24 13:20:48,914]  Global match rate: 0.302 \n"
     ]
    }
   ],
   "source": [
    "stats = []\n",
    "\n",
    "\n",
    "if with_dask : \n",
    "    \n",
    "    from dask.diagnostics import Profiler, ResourceProfiler\n",
    "    \n",
    "    #AddressCleanserUtils.with_dask = False\n",
    "    \n",
    "    # Sorting : allow to increase the probability to have duplicates within a chunk\n",
    "    dd_to_process = dd.from_pandas(addresses.sort_values([config_module.postcode_field, config_module.street_field]).reset_index(drop=True), \n",
    "                                   chunksize=chunk_size)\n",
    "\n",
    "    dask_task = dd_to_process.map_partitions(main_loop)\n",
    "\n",
    "    with Profiler() as prof, ResourceProfiler() as rprof : \n",
    "        res =  dask_task.compute(scheduler='processes')\n",
    "\n",
    "    log(\"All chunks done, gather all results...\")\n",
    "    \n",
    "    osm_addresses      = pd.concat([chunk_osm_addresses      for (chunk_osm_addresses, _, _)      in res], sort=False)\n",
    "    rejected_addresses = pd.concat([chunk_rejected_addresses for (_, chunk_rejected_addresses, _) in res], sort=False)\n",
    "\n",
    "    for (_, _, chunk_stats) in res: \n",
    "        stats.extend(chunk_stats)\n",
    "\n",
    "    log(f\"Global match rate: { osm_addresses.shape[0]/addresses.shape[0] } \")\n",
    "\n",
    "else: \n",
    "    #AddressCleanserUtils.with_dask = True\n",
    "\n",
    "    osm_addresses        = pd.DataFrame()\n",
    "    rejected_addresses   = pd.DataFrame()\n",
    "\n",
    "    chunks_boundaries =  range(chunk_size, addresses.shape[0] , chunk_size)\n",
    "\n",
    "    for chunk in tqdm(np.array_split(addresses.sort_values([config_module.postcode_field, config_module.street_field]), chunks_boundaries)):\n",
    "\n",
    "\n",
    "        chunk_osm_addresses, chunk_rejected_addresses, chunk_stats = main_loop(chunk)\n",
    "\n",
    "\n",
    "        osm_addresses =      osm_addresses.append(chunk_osm_addresses, sort=False).drop_duplicates()\n",
    "        rejected_addresses = rejected_addresses.append(chunk_rejected_addresses, sort=False).drop_duplicates()\n",
    "\n",
    "        log(f\"Global match rate so far: {osm_addresses.shape[0]/addresses.shape[0]}\")\n",
    "        stats.extend(chunk_stats)\n"
   ]
  },
  {
   "cell_type": "code",
   "execution_count": 62,
   "metadata": {
    "ExecuteTime": {
     "end_time": "2020-04-24T06:24:33.640805Z",
     "start_time": "2020-04-24T06:24:33.633917Z"
    }
   },
   "outputs": [],
   "source": [
    "# inclusion_test(\"NEU\", \"NEUCHATEAU\")"
   ]
  },
  {
   "cell_type": "code",
   "execution_count": 63,
   "metadata": {
    "ExecuteTime": {
     "end_time": "2020-04-24T06:24:33.684048Z",
     "start_time": "2020-04-24T06:24:33.647797Z"
    }
   },
   "outputs": [
    {
     "data": {
      "text/html": [
       "<div>\n",
       "<style scoped>\n",
       "    .dataframe tbody tr th:only-of-type {\n",
       "        vertical-align: middle;\n",
       "    }\n",
       "\n",
       "    .dataframe tbody tr th {\n",
       "        vertical-align: top;\n",
       "    }\n",
       "\n",
       "    .dataframe thead th {\n",
       "        text-align: right;\n",
       "    }\n",
       "</style>\n",
       "<table border=\"1\" class=\"dataframe\">\n",
       "  <thead>\n",
       "    <tr style=\"text-align: right;\">\n",
       "      <th></th>\n",
       "      <th>addr_index</th>\n",
       "      <th>street</th>\n",
       "      <th>house_number</th>\n",
       "      <th>postcode</th>\n",
       "      <th>city</th>\n",
       "    </tr>\n",
       "  </thead>\n",
       "  <tbody>\n",
       "    <tr>\n",
       "      <th>36487</th>\n",
       "      <td>36487</td>\n",
       "      <td>RUE DES RENONCULES</td>\n",
       "      <td>35</td>\n",
       "      <td>1170</td>\n",
       "      <td>WATERMAEL-BOITSFORT</td>\n",
       "    </tr>\n",
       "    <tr>\n",
       "      <th>5230426</th>\n",
       "      <td>5230426</td>\n",
       "      <td>PRINSES STEFANIEPLEIN</td>\n",
       "      <td>9</td>\n",
       "      <td>8400</td>\n",
       "      <td>OOSTENDE</td>\n",
       "    </tr>\n",
       "    <tr>\n",
       "      <th>2332696</th>\n",
       "      <td>2332696</td>\n",
       "      <td>WAYEZSTRAAT</td>\n",
       "      <td>31</td>\n",
       "      <td>1070</td>\n",
       "      <td>ANDERLECHT</td>\n",
       "    </tr>\n",
       "    <tr>\n",
       "      <th>4262388</th>\n",
       "      <td>4262388</td>\n",
       "      <td>STORMESTRAAT</td>\n",
       "      <td>116</td>\n",
       "      <td>8790</td>\n",
       "      <td>WAREGEM</td>\n",
       "    </tr>\n",
       "    <tr>\n",
       "      <th>3110684</th>\n",
       "      <td>3110684</td>\n",
       "      <td>BARTHELSSTRAAT</td>\n",
       "      <td>44</td>\n",
       "      <td>8310</td>\n",
       "      <td>BRUGGE</td>\n",
       "    </tr>\n",
       "    <tr>\n",
       "      <th>...</th>\n",
       "      <td>...</td>\n",
       "      <td>...</td>\n",
       "      <td>...</td>\n",
       "      <td>...</td>\n",
       "      <td>...</td>\n",
       "    </tr>\n",
       "    <tr>\n",
       "      <th>2542890</th>\n",
       "      <td>2542890</td>\n",
       "      <td>TURNHOUTSEBAAN</td>\n",
       "      <td>454</td>\n",
       "      <td>2110</td>\n",
       "      <td>WIJNEGEM</td>\n",
       "    </tr>\n",
       "    <tr>\n",
       "      <th>2619590</th>\n",
       "      <td>2619590</td>\n",
       "      <td>VOORSTRAAT</td>\n",
       "      <td>104</td>\n",
       "      <td>9970</td>\n",
       "      <td>KAPRIJKE</td>\n",
       "    </tr>\n",
       "    <tr>\n",
       "      <th>2515527</th>\n",
       "      <td>2515527</td>\n",
       "      <td>BERTELSBROEKSTRAAT</td>\n",
       "      <td>20</td>\n",
       "      <td>2235</td>\n",
       "      <td>HULSHOUT</td>\n",
       "    </tr>\n",
       "    <tr>\n",
       "      <th>3854426</th>\n",
       "      <td>3854426</td>\n",
       "      <td>DENDERHOUTEMBAAN</td>\n",
       "      <td>205</td>\n",
       "      <td>9400</td>\n",
       "      <td>NINOVE</td>\n",
       "    </tr>\n",
       "    <tr>\n",
       "      <th>3327268</th>\n",
       "      <td>3327268</td>\n",
       "      <td>JAN BREYDELSTRAAT</td>\n",
       "      <td>28</td>\n",
       "      <td>8870</td>\n",
       "      <td>IZEGEM</td>\n",
       "    </tr>\n",
       "  </tbody>\n",
       "</table>\n",
       "<p>1000 rows × 5 columns</p>\n",
       "</div>"
      ],
      "text/plain": [
       "        addr_index                 street house_number postcode  \\\n",
       "36487        36487     RUE DES RENONCULES           35     1170   \n",
       "5230426    5230426  PRINSES STEFANIEPLEIN            9     8400   \n",
       "2332696    2332696            WAYEZSTRAAT           31     1070   \n",
       "4262388    4262388           STORMESTRAAT          116     8790   \n",
       "3110684    3110684         BARTHELSSTRAAT           44     8310   \n",
       "...            ...                    ...          ...      ...   \n",
       "2542890    2542890         TURNHOUTSEBAAN          454     2110   \n",
       "2619590    2619590             VOORSTRAAT          104     9970   \n",
       "2515527    2515527     BERTELSBROEKSTRAAT           20     2235   \n",
       "3854426    3854426       DENDERHOUTEMBAAN          205     9400   \n",
       "3327268    3327268      JAN BREYDELSTRAAT           28     8870   \n",
       "\n",
       "                        city  \n",
       "36487    WATERMAEL-BOITSFORT  \n",
       "5230426             OOSTENDE  \n",
       "2332696           ANDERLECHT  \n",
       "4262388              WAREGEM  \n",
       "3110684               BRUGGE  \n",
       "...                      ...  \n",
       "2542890             WIJNEGEM  \n",
       "2619590             KAPRIJKE  \n",
       "2515527             HULSHOUT  \n",
       "3854426               NINOVE  \n",
       "3327268               IZEGEM  \n",
       "\n",
       "[1000 rows x 5 columns]"
      ]
     },
     "execution_count": 63,
     "metadata": {},
     "output_type": "execute_result"
    }
   ],
   "source": [
    "addresses"
   ]
  },
  {
   "cell_type": "code",
   "execution_count": 64,
   "metadata": {
    "ExecuteTime": {
     "end_time": "2020-04-24T06:24:33.693336Z",
     "start_time": "2020-04-24T06:24:33.688335Z"
    }
   },
   "outputs": [],
   "source": [
    "# get_osm(\"6840 NEUFCHÂTEAU\")"
   ]
  },
  {
   "cell_type": "code",
   "execution_count": 65,
   "metadata": {
    "ExecuteTime": {
     "end_time": "2020-04-24T06:24:35.168060Z",
     "start_time": "2020-04-24T06:24:33.701045Z"
    }
   },
   "outputs": [
    {
     "name": "stdout",
     "output_type": "stream",
     "text": [
      "[2020-04-24 06:24:34,599]  Session output file 'profile.html' already exists, will be overwritten.\n"
     ]
    }
   ],
   "source": [
    "if with_dask:\n",
    "    from dask.diagnostics import visualize\n",
    "    from bokeh.io import output_notebook, output_file\n",
    "    output_file(\"dask_stats.html\")\n",
    "    # output_notebook()\n",
    "    visualize([prof, rprof])"
   ]
  },
  {
   "cell_type": "code",
   "execution_count": 66,
   "metadata": {
    "ExecuteTime": {
     "end_time": "2020-04-24T06:24:35.185827Z",
     "start_time": "2020-04-24T06:24:35.175429Z"
    }
   },
   "outputs": [],
   "source": [
    "# osm_addresses.SIM_street_which.value_counts() /osm_addresses.shape[0] #.plot.pie()"
   ]
  },
  {
   "cell_type": "markdown",
   "metadata": {},
   "source": [
    "# Rejected addresses"
   ]
  },
  {
   "cell_type": "markdown",
   "metadata": {},
   "source": [
    "Give some statistics about rejected adresses. \n",
    "\"rejected_addresses\" contains two types of rejected addresses : \n",
    "- rejected_addresses[\"reject_reason\"] == \"mismatch\" : by comparing field by field input address and output address, this addresses has been rejected\n",
    "- rejected_addresses[\"reject_reason\"] == \"tail\" : when OSM returns several results, only one is kept in \"osm_addresses\", all the others are put in rejected_addresses\n",
    "\n",
    "Note that an addresse may have been rejected at a specific step (for a giver sequence of transformer), but not at another one.\n",
    "\"rejected_addresses\" may then contain a lot of addresses for which a result has been accepted further on.\n",
    "\n",
    "\"rejected_addresses_final\" contains the only addresses for which all results have been rejected.\n"
   ]
  },
  {
   "cell_type": "code",
   "execution_count": 67,
   "metadata": {
    "ExecuteTime": {
     "end_time": "2020-04-24T06:24:35.296870Z",
     "start_time": "2020-04-24T06:24:35.193999Z"
    },
    "scrolled": true
   },
   "outputs": [
    {
     "name": "stdout",
     "output_type": "stream",
     "text": [
      "[2020-04-24 06:24:35,260]  Rejected addresses: \n"
     ]
    },
    {
     "data": {
      "text/html": [
       "<div>\n",
       "<style scoped>\n",
       "    .dataframe tbody tr th:only-of-type {\n",
       "        vertical-align: middle;\n",
       "    }\n",
       "\n",
       "    .dataframe tbody tr th {\n",
       "        vertical-align: top;\n",
       "    }\n",
       "\n",
       "    .dataframe thead th {\n",
       "        text-align: right;\n",
       "    }\n",
       "</style>\n",
       "<table border=\"1\" class=\"dataframe\">\n",
       "  <thead>\n",
       "    <tr style=\"text-align: right;\">\n",
       "      <th></th>\n",
       "      <th>method</th>\n",
       "      <th>addr_index</th>\n",
       "      <th>osm_addr_in</th>\n",
       "      <th>street</th>\n",
       "      <th>house_number</th>\n",
       "      <th>postcode</th>\n",
       "      <th>city</th>\n",
       "      <th>addr_out_street</th>\n",
       "      <th>addr_out_city</th>\n",
       "      <th>addr_out_number</th>\n",
       "      <th>addr_out_postcode</th>\n",
       "      <th>addr_out_other</th>\n",
       "      <th>SIM_street</th>\n",
       "      <th>SIM_zip</th>\n",
       "    </tr>\n",
       "  </thead>\n",
       "  <tbody>\n",
       "  </tbody>\n",
       "</table>\n",
       "</div>"
      ],
      "text/plain": [
       "Empty DataFrame\n",
       "Columns: [method, addr_index, osm_addr_in, street, house_number, postcode, city, addr_out_street, addr_out_city, addr_out_number, addr_out_postcode, addr_out_other, SIM_street, SIM_zip]\n",
       "Index: []"
      ]
     },
     "metadata": {},
     "output_type": "display_data"
    }
   ],
   "source": [
    "rejected_addresses_final =  rejected_addresses[rejected_addresses[\"reject_reason\"] == \"mismatch\"]\n",
    "\n",
    "rejected_addresses_final =  rejected_addresses_final[~rejected_addresses_final[config_module.addr_key_field].isin(osm_addresses[config_module.addr_key_field])]\n",
    "\n",
    "# Needed with check_with_transformed = True (but doesn't hurt if not)\n",
    "rejected_addresses_final = rejected_addresses_final.drop([config_module.street_field,\n",
    "                                                          config_module.housenbr_field,\n",
    "                                                          config_module.postcode_field,\n",
    "                                                          config_module.city_field], axis=1\n",
    "                                                        )\n",
    "\n",
    "# print(rejected_addresses.keys())\n",
    "# print(osm_addresses.keys())\n",
    "# print(rejected_addresses.keys() & osm_addresses.keys())\n",
    "\n",
    "rejected_addresses_final  = rejected_addresses_final.merge(addresses).sort_values([\"SIM_street\", config_module.addr_key_field])[[\"method\", \n",
    "    config_module.addr_key_field, \"osm_addr_in\", \n",
    "    config_module.street_field, config_module.housenbr_field, config_module.postcode_field, config_module.city_field, \n",
    "    \"addr_out_street\", \"addr_out_city\", \"addr_out_number\", \"addr_out_postcode\", \"addr_out_other\", \"SIM_street\", \"SIM_zip\"]].drop_duplicates()\n",
    "log(\"Rejected addresses: \")\n",
    "log(rejected_addresses_final)"
   ]
  },
  {
   "cell_type": "code",
   "execution_count": 68,
   "metadata": {
    "ExecuteTime": {
     "end_time": "2020-04-24T06:24:35.319040Z",
     "start_time": "2020-04-24T06:24:35.306767Z"
    }
   },
   "outputs": [
    {
     "name": "stdout",
     "output_type": "stream",
     "text": [
      "[2020-04-24 06:24:35,310]  Number of unique rejected addresses: 0\n"
     ]
    }
   ],
   "source": [
    "log(f\"Number of unique rejected addresses: {rejected_addresses_final[config_module.addr_key_field].nunique()}\")"
   ]
  },
  {
   "cell_type": "code",
   "execution_count": 69,
   "metadata": {
    "ExecuteTime": {
     "end_time": "2020-04-24T06:24:35.333813Z",
     "start_time": "2020-04-24T06:24:35.322743Z"
    }
   },
   "outputs": [
    {
     "name": "stdout",
     "output_type": "stream",
     "text": [
      "[2020-04-24 06:24:35,328]  Number of unique city-streets in rejected addresses: 0\n"
     ]
    }
   ],
   "source": [
    "log(f\"Number of unique city-streets in rejected addresses: {rejected_addresses_final[[config_module.postcode_field, config_module.street_field]].drop_duplicates().shape[0]}\")\n"
   ]
  },
  {
   "cell_type": "code",
   "execution_count": 70,
   "metadata": {
    "ExecuteTime": {
     "end_time": "2020-04-24T06:24:35.386097Z",
     "start_time": "2020-04-24T06:24:35.342560Z"
    }
   },
   "outputs": [
    {
     "data": {
      "text/html": [
       "<div>\n",
       "<style scoped>\n",
       "    .dataframe tbody tr th:only-of-type {\n",
       "        vertical-align: middle;\n",
       "    }\n",
       "\n",
       "    .dataframe tbody tr th {\n",
       "        vertical-align: top;\n",
       "    }\n",
       "\n",
       "    .dataframe thead th {\n",
       "        text-align: right;\n",
       "    }\n",
       "</style>\n",
       "<table border=\"1\" class=\"dataframe\">\n",
       "  <thead>\n",
       "    <tr style=\"text-align: right;\">\n",
       "      <th></th>\n",
       "      <th>method</th>\n",
       "      <th>addr_index</th>\n",
       "      <th>osm_addr_in</th>\n",
       "      <th>street</th>\n",
       "      <th>house_number</th>\n",
       "      <th>postcode</th>\n",
       "      <th>city</th>\n",
       "      <th>addr_out_street</th>\n",
       "      <th>addr_out_city</th>\n",
       "      <th>addr_out_number</th>\n",
       "      <th>addr_out_postcode</th>\n",
       "      <th>addr_out_other</th>\n",
       "      <th>SIM_street</th>\n",
       "      <th>SIM_zip</th>\n",
       "    </tr>\n",
       "  </thead>\n",
       "  <tbody>\n",
       "  </tbody>\n",
       "</table>\n",
       "</div>"
      ],
      "text/plain": [
       "Empty DataFrame\n",
       "Columns: [method, addr_index, osm_addr_in, street, house_number, postcode, city, addr_out_street, addr_out_city, addr_out_number, addr_out_postcode, addr_out_other, SIM_street, SIM_zip]\n",
       "Index: []"
      ]
     },
     "execution_count": 70,
     "metadata": {},
     "output_type": "execute_result"
    }
   ],
   "source": [
    "rejected_addresses_final[rejected_addresses_final.addr_out_street.isnull()]"
   ]
  },
  {
   "cell_type": "code",
   "execution_count": 71,
   "metadata": {
    "ExecuteTime": {
     "end_time": "2020-04-24T06:24:35.436806Z",
     "start_time": "2020-04-24T06:24:35.390757Z"
    },
    "scrolled": true
   },
   "outputs": [
    {
     "data": {
      "text/html": [
       "<div>\n",
       "<style scoped>\n",
       "    .dataframe tbody tr th:only-of-type {\n",
       "        vertical-align: middle;\n",
       "    }\n",
       "\n",
       "    .dataframe tbody tr th {\n",
       "        vertical-align: top;\n",
       "    }\n",
       "\n",
       "    .dataframe thead th {\n",
       "        text-align: right;\n",
       "    }\n",
       "</style>\n",
       "<table border=\"1\" class=\"dataframe\">\n",
       "  <thead>\n",
       "    <tr style=\"text-align: right;\">\n",
       "      <th></th>\n",
       "      <th>method</th>\n",
       "      <th>addr_index</th>\n",
       "      <th>osm_addr_in</th>\n",
       "      <th>street</th>\n",
       "      <th>house_number</th>\n",
       "      <th>postcode</th>\n",
       "      <th>city</th>\n",
       "      <th>addr_out_street</th>\n",
       "      <th>addr_out_city</th>\n",
       "      <th>addr_out_number</th>\n",
       "      <th>addr_out_postcode</th>\n",
       "      <th>addr_out_other</th>\n",
       "      <th>SIM_street</th>\n",
       "      <th>SIM_zip</th>\n",
       "    </tr>\n",
       "  </thead>\n",
       "  <tbody>\n",
       "  </tbody>\n",
       "</table>\n",
       "</div>"
      ],
      "text/plain": [
       "Empty DataFrame\n",
       "Columns: [method, addr_index, osm_addr_in, street, house_number, postcode, city, addr_out_street, addr_out_city, addr_out_number, addr_out_postcode, addr_out_other, SIM_street, SIM_zip]\n",
       "Index: []"
      ]
     },
     "execution_count": 71,
     "metadata": {},
     "output_type": "execute_result"
    }
   ],
   "source": [
    "rejected_addresses_final[rejected_addresses_final.addr_out_street.notnull()]#.drop([\"method\"], axis=1).drop_duplicates()"
   ]
  },
  {
   "cell_type": "code",
   "execution_count": 72,
   "metadata": {
    "ExecuteTime": {
     "end_time": "2020-04-24T06:24:35.502038Z",
     "start_time": "2020-04-24T06:24:35.443090Z"
    },
    "scrolled": true
   },
   "outputs": [
    {
     "name": "stdout",
     "output_type": "stream",
     "text": [
      "[2020-04-24 06:24:35,452]  Rejected addresses, but where it might have a swap between street and city\n"
     ]
    },
    {
     "data": {
      "text/html": [
       "<div>\n",
       "<style scoped>\n",
       "    .dataframe tbody tr th:only-of-type {\n",
       "        vertical-align: middle;\n",
       "    }\n",
       "\n",
       "    .dataframe tbody tr th {\n",
       "        vertical-align: top;\n",
       "    }\n",
       "\n",
       "    .dataframe thead th {\n",
       "        text-align: right;\n",
       "    }\n",
       "</style>\n",
       "<table border=\"1\" class=\"dataframe\">\n",
       "  <thead>\n",
       "    <tr style=\"text-align: right;\">\n",
       "      <th></th>\n",
       "      <th>method</th>\n",
       "      <th>addr_index</th>\n",
       "      <th>osm_addr_in</th>\n",
       "      <th>street</th>\n",
       "      <th>house_number</th>\n",
       "      <th>postcode</th>\n",
       "      <th>city</th>\n",
       "      <th>addr_out_street</th>\n",
       "      <th>addr_out_city</th>\n",
       "      <th>addr_out_number</th>\n",
       "      <th>addr_out_postcode</th>\n",
       "      <th>addr_out_other</th>\n",
       "      <th>SIM_street</th>\n",
       "      <th>SIM_zip</th>\n",
       "    </tr>\n",
       "  </thead>\n",
       "  <tbody>\n",
       "  </tbody>\n",
       "</table>\n",
       "</div>"
      ],
      "text/plain": [
       "Empty DataFrame\n",
       "Columns: [method, addr_index, osm_addr_in, street, house_number, postcode, city, addr_out_street, addr_out_city, addr_out_number, addr_out_postcode, addr_out_other, SIM_street, SIM_zip]\n",
       "Index: []"
      ]
     },
     "metadata": {},
     "output_type": "display_data"
    },
    {
     "name": "stdout",
     "output_type": "stream",
     "text": [
      "[2020-04-24 06:24:35,491]  Number of unique addresses: 0\n"
     ]
    }
   ],
   "source": [
    "# Swap street - city\n",
    "log(\"Rejected addresses, but where it might have a swap between street and city\")\n",
    "str_cmp= street_compare(rejected_addresses_final[config_module.street_field], rejected_addresses_final.addr_out_city)\n",
    "x= rejected_addresses_final[(str_cmp>0.5) & (rejected_addresses_final.addr_out_street.isnull()) & (rejected_addresses_final.SIM_zip >= 0.1)].drop_duplicates(subset=config_module.addr_key_field)\n",
    "log(x)\n",
    "log(f\"Number of unique addresses: {x[config_module.addr_key_field].nunique()}\")"
   ]
  },
  {
   "cell_type": "code",
   "execution_count": 73,
   "metadata": {
    "ExecuteTime": {
     "end_time": "2020-04-24T06:24:35.554788Z",
     "start_time": "2020-04-24T06:24:35.506077Z"
    },
    "scrolled": true
   },
   "outputs": [
    {
     "data": {
      "text/html": [
       "<div>\n",
       "<style scoped>\n",
       "    .dataframe tbody tr th:only-of-type {\n",
       "        vertical-align: middle;\n",
       "    }\n",
       "\n",
       "    .dataframe tbody tr th {\n",
       "        vertical-align: top;\n",
       "    }\n",
       "\n",
       "    .dataframe thead th {\n",
       "        text-align: right;\n",
       "    }\n",
       "</style>\n",
       "<table border=\"1\" class=\"dataframe\">\n",
       "  <thead>\n",
       "    <tr style=\"text-align: right;\">\n",
       "      <th></th>\n",
       "      <th>method</th>\n",
       "      <th>addr_index</th>\n",
       "      <th>osm_addr_in</th>\n",
       "      <th>street</th>\n",
       "      <th>house_number</th>\n",
       "      <th>postcode</th>\n",
       "      <th>city</th>\n",
       "      <th>addr_out_street</th>\n",
       "      <th>addr_out_city</th>\n",
       "      <th>addr_out_number</th>\n",
       "      <th>addr_out_postcode</th>\n",
       "      <th>addr_out_other</th>\n",
       "      <th>SIM_street</th>\n",
       "      <th>SIM_zip</th>\n",
       "    </tr>\n",
       "  </thead>\n",
       "  <tbody>\n",
       "  </tbody>\n",
       "</table>\n",
       "</div>"
      ],
      "text/plain": [
       "Empty DataFrame\n",
       "Columns: [method, addr_index, osm_addr_in, street, house_number, postcode, city, addr_out_street, addr_out_city, addr_out_number, addr_out_postcode, addr_out_other, SIM_street, SIM_zip]\n",
       "Index: []"
      ]
     },
     "execution_count": 73,
     "metadata": {},
     "output_type": "execute_result"
    }
   ],
   "source": [
    "# Other mismatches\n",
    "rejected_addresses_final[(str_cmp<=0.5) | (rejected_addresses_final.addr_out_street.notnull()) | (rejected_addresses_final.SIM_zip < 0.1)].drop_duplicates(subset=config_module.addr_key_field)"
   ]
  },
  {
   "cell_type": "markdown",
   "metadata": {},
   "source": [
    "# No match"
   ]
  },
  {
   "cell_type": "code",
   "execution_count": 74,
   "metadata": {
    "ExecuteTime": {
     "end_time": "2020-04-24T06:24:35.603033Z",
     "start_time": "2020-04-24T06:24:35.560471Z"
    },
    "scrolled": true
   },
   "outputs": [
    {
     "name": "stdout",
     "output_type": "stream",
     "text": [
      "[2020-04-24 06:24:35,570]  Addresses with no match (but some matches where rejected)\n"
     ]
    },
    {
     "data": {
      "text/html": [
       "<div>\n",
       "<style scoped>\n",
       "    .dataframe tbody tr th:only-of-type {\n",
       "        vertical-align: middle;\n",
       "    }\n",
       "\n",
       "    .dataframe tbody tr th {\n",
       "        vertical-align: top;\n",
       "    }\n",
       "\n",
       "    .dataframe thead th {\n",
       "        text-align: right;\n",
       "    }\n",
       "</style>\n",
       "<table border=\"1\" class=\"dataframe\">\n",
       "  <thead>\n",
       "    <tr style=\"text-align: right;\">\n",
       "      <th></th>\n",
       "      <th>addr_index</th>\n",
       "      <th>street</th>\n",
       "      <th>house_number</th>\n",
       "      <th>postcode</th>\n",
       "      <th>city</th>\n",
       "    </tr>\n",
       "  </thead>\n",
       "  <tbody>\n",
       "  </tbody>\n",
       "</table>\n",
       "</div>"
      ],
      "text/plain": [
       "Empty DataFrame\n",
       "Columns: [addr_index, street, house_number, postcode, city]\n",
       "Index: []"
      ]
     },
     "metadata": {},
     "output_type": "display_data"
    }
   ],
   "source": [
    "log(\"Addresses with no match (but some matches where rejected)\")\n",
    "log(addresses[~addresses[config_module.addr_key_field].isin(osm_addresses[config_module.addr_key_field]) & addresses[config_module.addr_key_field].isin(rejected_addresses[config_module.addr_key_field])])\n"
   ]
  },
  {
   "cell_type": "code",
   "execution_count": 75,
   "metadata": {
    "ExecuteTime": {
     "end_time": "2020-04-24T06:24:35.754669Z",
     "start_time": "2020-04-24T06:24:35.610466Z"
    },
    "scrolled": true
   },
   "outputs": [
    {
     "data": {
      "text/html": [
       "<div>\n",
       "<style scoped>\n",
       "    .dataframe tbody tr th:only-of-type {\n",
       "        vertical-align: middle;\n",
       "    }\n",
       "\n",
       "    .dataframe tbody tr th {\n",
       "        vertical-align: top;\n",
       "    }\n",
       "\n",
       "    .dataframe thead th {\n",
       "        text-align: right;\n",
       "    }\n",
       "</style>\n",
       "<table border=\"1\" class=\"dataframe\">\n",
       "  <thead>\n",
       "    <tr style=\"text-align: right;\">\n",
       "      <th></th>\n",
       "      <th>index</th>\n",
       "      <th>osm_addr_in</th>\n",
       "      <th>addr_index</th>\n",
       "      <th>osm_order</th>\n",
       "      <th>place_id</th>\n",
       "      <th>lat</th>\n",
       "      <th>lon</th>\n",
       "      <th>display_name</th>\n",
       "      <th>namedetails</th>\n",
       "      <th>place_rank</th>\n",
       "      <th>...</th>\n",
       "      <th>SIM_zip</th>\n",
       "      <th>SIM_city</th>\n",
       "      <th>reject_reason</th>\n",
       "      <th>method</th>\n",
       "      <th>addr_bus_stop</th>\n",
       "      <th>addr_caravan_site</th>\n",
       "      <th>addr_information</th>\n",
       "      <th>addr_station</th>\n",
       "      <th>addr_junction</th>\n",
       "      <th>addr_parking</th>\n",
       "    </tr>\n",
       "  </thead>\n",
       "  <tbody>\n",
       "    <tr>\n",
       "      <th>166</th>\n",
       "      <td>166.0</td>\n",
       "      <td>LAAN I, 100, 1770 LIEDEKERKE</td>\n",
       "      <td>3005042</td>\n",
       "      <td>0.0</td>\n",
       "      <td>755841.0</td>\n",
       "      <td>50.8700439</td>\n",
       "      <td>4.0984367</td>\n",
       "      <td>Laan-1, Liedekerke, Halle-Vilvoorde, Vlaams-Br...</td>\n",
       "      <td>Laan-1</td>\n",
       "      <td>26.0</td>\n",
       "      <td>...</td>\n",
       "      <td>1.0</td>\n",
       "      <td>1.000000</td>\n",
       "      <td>mismatch</td>\n",
       "      <td>orig</td>\n",
       "      <td>NaN</td>\n",
       "      <td>NaN</td>\n",
       "      <td>NaN</td>\n",
       "      <td>NaN</td>\n",
       "      <td>NaN</td>\n",
       "      <td>NaN</td>\n",
       "    </tr>\n",
       "    <tr>\n",
       "      <th>712</th>\n",
       "      <td>712.0</td>\n",
       "      <td>LAVAUX, 23, 4980 TROIS-PONTS</td>\n",
       "      <td>1759467</td>\n",
       "      <td>0.0</td>\n",
       "      <td>117765.0</td>\n",
       "      <td>50.3416652</td>\n",
       "      <td>5.9219164</td>\n",
       "      <td>La Vau, Verviers, Liège, Wallonie, 6698, Belgi...</td>\n",
       "      <td></td>\n",
       "      <td>19.0</td>\n",
       "      <td>...</td>\n",
       "      <td>0.0</td>\n",
       "      <td>0.181818</td>\n",
       "      <td>mismatch</td>\n",
       "      <td>orig</td>\n",
       "      <td>NaN</td>\n",
       "      <td>NaN</td>\n",
       "      <td>NaN</td>\n",
       "      <td>NaN</td>\n",
       "      <td>NaN</td>\n",
       "      <td>NaN</td>\n",
       "    </tr>\n",
       "    <tr>\n",
       "      <th>832</th>\n",
       "      <td>832.0</td>\n",
       "      <td>OUR, 33, 6852 PALISEUL</td>\n",
       "      <td>615113</td>\n",
       "      <td>0.0</td>\n",
       "      <td>114659.0</td>\n",
       "      <td>49.9601328</td>\n",
       "      <td>5.1238515</td>\n",
       "      <td>Our, Neufchâteau, Luxembourg, Wallonie, 6852, ...</td>\n",
       "      <td></td>\n",
       "      <td>19.0</td>\n",
       "      <td>...</td>\n",
       "      <td>1.0</td>\n",
       "      <td>0.125000</td>\n",
       "      <td>mismatch</td>\n",
       "      <td>orig</td>\n",
       "      <td>NaN</td>\n",
       "      <td>NaN</td>\n",
       "      <td>NaN</td>\n",
       "      <td>NaN</td>\n",
       "      <td>NaN</td>\n",
       "      <td>NaN</td>\n",
       "    </tr>\n",
       "    <tr>\n",
       "      <th>841</th>\n",
       "      <td>841.0</td>\n",
       "      <td>MOUSNY, 107, 6983 LA ROCHE-EN-ARDENNE</td>\n",
       "      <td>580771</td>\n",
       "      <td>2.0</td>\n",
       "      <td>114232.0</td>\n",
       "      <td>50.1032254</td>\n",
       "      <td>5.6131199</td>\n",
       "      <td>Mousny, Marche-en-Famenne, Luxembourg, Walloni...</td>\n",
       "      <td></td>\n",
       "      <td>19.0</td>\n",
       "      <td>...</td>\n",
       "      <td>1.0</td>\n",
       "      <td>0.105263</td>\n",
       "      <td>mismatch</td>\n",
       "      <td>orig</td>\n",
       "      <td>NaN</td>\n",
       "      <td>NaN</td>\n",
       "      <td>NaN</td>\n",
       "      <td>NaN</td>\n",
       "      <td>NaN</td>\n",
       "      <td>NaN</td>\n",
       "    </tr>\n",
       "    <tr>\n",
       "      <th>845</th>\n",
       "      <td>845.0</td>\n",
       "      <td>HIVES, 18, 6984 LA ROCHE-EN-ARDENNE</td>\n",
       "      <td>597602</td>\n",
       "      <td>3.0</td>\n",
       "      <td>117495.0</td>\n",
       "      <td>50.1506704</td>\n",
       "      <td>5.5783344</td>\n",
       "      <td>Hives, Marche-en-Famenne, Luxembourg, Wallonie...</td>\n",
       "      <td></td>\n",
       "      <td>19.0</td>\n",
       "      <td>...</td>\n",
       "      <td>0.5</td>\n",
       "      <td>0.105263</td>\n",
       "      <td>mismatch</td>\n",
       "      <td>orig</td>\n",
       "      <td>NaN</td>\n",
       "      <td>NaN</td>\n",
       "      <td>NaN</td>\n",
       "      <td>NaN</td>\n",
       "      <td>NaN</td>\n",
       "      <td>NaN</td>\n",
       "    </tr>\n",
       "    <tr>\n",
       "      <th>...</th>\n",
       "      <td>...</td>\n",
       "      <td>...</td>\n",
       "      <td>...</td>\n",
       "      <td>...</td>\n",
       "      <td>...</td>\n",
       "      <td>...</td>\n",
       "      <td>...</td>\n",
       "      <td>...</td>\n",
       "      <td>...</td>\n",
       "      <td>...</td>\n",
       "      <td>...</td>\n",
       "      <td>...</td>\n",
       "      <td>...</td>\n",
       "      <td>...</td>\n",
       "      <td>...</td>\n",
       "      <td>...</td>\n",
       "      <td>...</td>\n",
       "      <td>...</td>\n",
       "      <td>...</td>\n",
       "      <td>...</td>\n",
       "      <td>...</td>\n",
       "    </tr>\n",
       "    <tr>\n",
       "      <th>9</th>\n",
       "      <td>9.0</td>\n",
       "      <td>3570 ALKEN</td>\n",
       "      <td>5065019</td>\n",
       "      <td>3.0</td>\n",
       "      <td>348437.0</td>\n",
       "      <td>50.8748072</td>\n",
       "      <td>5.305864</td>\n",
       "      <td>Alken, 5, Hoogdorpsstraat, Alken, Tongeren, Li...</td>\n",
       "      <td></td>\n",
       "      <td>30.0</td>\n",
       "      <td>...</td>\n",
       "      <td>1.0</td>\n",
       "      <td>1.000000</td>\n",
       "      <td>tail</td>\n",
       "      <td>nostreet</td>\n",
       "      <td>NaN</td>\n",
       "      <td>NaN</td>\n",
       "      <td>Alken</td>\n",
       "      <td>None</td>\n",
       "      <td>None</td>\n",
       "      <td>None</td>\n",
       "    </tr>\n",
       "    <tr>\n",
       "      <th>18</th>\n",
       "      <td>18.0</td>\n",
       "      <td>7170 MANAGE</td>\n",
       "      <td>875928</td>\n",
       "      <td>1.0</td>\n",
       "      <td>100044.0</td>\n",
       "      <td>50.4978483</td>\n",
       "      <td>4.222161</td>\n",
       "      <td>Manage, Autoroute de Wallonie, Petit-Bois-d'Ha...</td>\n",
       "      <td>19 - Manage</td>\n",
       "      <td>30.0</td>\n",
       "      <td>...</td>\n",
       "      <td>1.0</td>\n",
       "      <td>1.000000</td>\n",
       "      <td>tail</td>\n",
       "      <td>nostreet</td>\n",
       "      <td>NaN</td>\n",
       "      <td>NaN</td>\n",
       "      <td>None</td>\n",
       "      <td>None</td>\n",
       "      <td>Manage</td>\n",
       "      <td>None</td>\n",
       "    </tr>\n",
       "    <tr>\n",
       "      <th>19</th>\n",
       "      <td>19.0</td>\n",
       "      <td>7170 MANAGE</td>\n",
       "      <td>875928</td>\n",
       "      <td>2.0</td>\n",
       "      <td>151197.0</td>\n",
       "      <td>50.4986945</td>\n",
       "      <td>4.2389407</td>\n",
       "      <td>Manage, Autoroute de Wallonie, Cité de Scailmo...</td>\n",
       "      <td>19 - Manage</td>\n",
       "      <td>30.0</td>\n",
       "      <td>...</td>\n",
       "      <td>1.0</td>\n",
       "      <td>1.000000</td>\n",
       "      <td>tail</td>\n",
       "      <td>nostreet</td>\n",
       "      <td>NaN</td>\n",
       "      <td>NaN</td>\n",
       "      <td>None</td>\n",
       "      <td>None</td>\n",
       "      <td>Manage</td>\n",
       "      <td>None</td>\n",
       "    </tr>\n",
       "    <tr>\n",
       "      <th>20</th>\n",
       "      <td>20.0</td>\n",
       "      <td>7170 MANAGE</td>\n",
       "      <td>875928</td>\n",
       "      <td>3.0</td>\n",
       "      <td>431997.0</td>\n",
       "      <td>50.5060139</td>\n",
       "      <td>4.2345395</td>\n",
       "      <td>Manage, Place de la Gare, Cité de Scailmont, M...</td>\n",
       "      <td></td>\n",
       "      <td>30.0</td>\n",
       "      <td>...</td>\n",
       "      <td>1.0</td>\n",
       "      <td>1.000000</td>\n",
       "      <td>tail</td>\n",
       "      <td>nostreet</td>\n",
       "      <td>NaN</td>\n",
       "      <td>NaN</td>\n",
       "      <td>None</td>\n",
       "      <td>Manage</td>\n",
       "      <td>None</td>\n",
       "      <td>None</td>\n",
       "    </tr>\n",
       "    <tr>\n",
       "      <th>21</th>\n",
       "      <td>21.0</td>\n",
       "      <td>7170 MANAGE</td>\n",
       "      <td>875928</td>\n",
       "      <td>4.0</td>\n",
       "      <td>134606.0</td>\n",
       "      <td>50.5062575</td>\n",
       "      <td>4.2347899</td>\n",
       "      <td>Manage, Place de la Gare, Cité de Scailmont, M...</td>\n",
       "      <td></td>\n",
       "      <td>30.0</td>\n",
       "      <td>...</td>\n",
       "      <td>1.0</td>\n",
       "      <td>1.000000</td>\n",
       "      <td>tail</td>\n",
       "      <td>nostreet</td>\n",
       "      <td>NaN</td>\n",
       "      <td>NaN</td>\n",
       "      <td>None</td>\n",
       "      <td>None</td>\n",
       "      <td>None</td>\n",
       "      <td>None</td>\n",
       "    </tr>\n",
       "  </tbody>\n",
       "</table>\n",
       "<p>413 rows × 77 columns</p>\n",
       "</div>"
      ],
      "text/plain": [
       "     index                            osm_addr_in addr_index  osm_order  \\\n",
       "166  166.0           LAAN I, 100, 1770 LIEDEKERKE    3005042        0.0   \n",
       "712  712.0           LAVAUX, 23, 4980 TROIS-PONTS    1759467        0.0   \n",
       "832  832.0                 OUR, 33, 6852 PALISEUL     615113        0.0   \n",
       "841  841.0  MOUSNY, 107, 6983 LA ROCHE-EN-ARDENNE     580771        2.0   \n",
       "845  845.0    HIVES, 18, 6984 LA ROCHE-EN-ARDENNE     597602        3.0   \n",
       "..     ...                                    ...        ...        ...   \n",
       "9      9.0                             3570 ALKEN    5065019        3.0   \n",
       "18    18.0                            7170 MANAGE     875928        1.0   \n",
       "19    19.0                            7170 MANAGE     875928        2.0   \n",
       "20    20.0                            7170 MANAGE     875928        3.0   \n",
       "21    21.0                            7170 MANAGE     875928        4.0   \n",
       "\n",
       "     place_id         lat        lon  \\\n",
       "166  755841.0  50.8700439  4.0984367   \n",
       "712  117765.0  50.3416652  5.9219164   \n",
       "832  114659.0  49.9601328  5.1238515   \n",
       "841  114232.0  50.1032254  5.6131199   \n",
       "845  117495.0  50.1506704  5.5783344   \n",
       "..        ...         ...        ...   \n",
       "9    348437.0  50.8748072   5.305864   \n",
       "18   100044.0  50.4978483   4.222161   \n",
       "19   151197.0  50.4986945  4.2389407   \n",
       "20   431997.0  50.5060139  4.2345395   \n",
       "21   134606.0  50.5062575  4.2347899   \n",
       "\n",
       "                                          display_name  namedetails  \\\n",
       "166  Laan-1, Liedekerke, Halle-Vilvoorde, Vlaams-Br...       Laan-1   \n",
       "712  La Vau, Verviers, Liège, Wallonie, 6698, Belgi...                \n",
       "832  Our, Neufchâteau, Luxembourg, Wallonie, 6852, ...                \n",
       "841  Mousny, Marche-en-Famenne, Luxembourg, Walloni...                \n",
       "845  Hives, Marche-en-Famenne, Luxembourg, Wallonie...                \n",
       "..                                                 ...          ...   \n",
       "9    Alken, 5, Hoogdorpsstraat, Alken, Tongeren, Li...                \n",
       "18   Manage, Autoroute de Wallonie, Petit-Bois-d'Ha...  19 - Manage   \n",
       "19   Manage, Autoroute de Wallonie, Cité de Scailmo...  19 - Manage   \n",
       "20   Manage, Place de la Gare, Cité de Scailmont, M...                \n",
       "21   Manage, Place de la Gare, Cité de Scailmont, M...                \n",
       "\n",
       "     place_rank  ... SIM_zip  SIM_city reject_reason    method addr_bus_stop  \\\n",
       "166        26.0  ...     1.0  1.000000      mismatch      orig           NaN   \n",
       "712        19.0  ...     0.0  0.181818      mismatch      orig           NaN   \n",
       "832        19.0  ...     1.0  0.125000      mismatch      orig           NaN   \n",
       "841        19.0  ...     1.0  0.105263      mismatch      orig           NaN   \n",
       "845        19.0  ...     0.5  0.105263      mismatch      orig           NaN   \n",
       "..          ...  ...     ...       ...           ...       ...           ...   \n",
       "9          30.0  ...     1.0  1.000000          tail  nostreet           NaN   \n",
       "18         30.0  ...     1.0  1.000000          tail  nostreet           NaN   \n",
       "19         30.0  ...     1.0  1.000000          tail  nostreet           NaN   \n",
       "20         30.0  ...     1.0  1.000000          tail  nostreet           NaN   \n",
       "21         30.0  ...     1.0  1.000000          tail  nostreet           NaN   \n",
       "\n",
       "    addr_caravan_site addr_information addr_station addr_junction addr_parking  \n",
       "166               NaN              NaN          NaN           NaN          NaN  \n",
       "712               NaN              NaN          NaN           NaN          NaN  \n",
       "832               NaN              NaN          NaN           NaN          NaN  \n",
       "841               NaN              NaN          NaN           NaN          NaN  \n",
       "845               NaN              NaN          NaN           NaN          NaN  \n",
       "..                ...              ...          ...           ...          ...  \n",
       "9                 NaN            Alken         None          None         None  \n",
       "18                NaN             None         None        Manage         None  \n",
       "19                NaN             None         None        Manage         None  \n",
       "20                NaN             None       Manage          None         None  \n",
       "21                NaN             None         None          None         None  \n",
       "\n",
       "[413 rows x 77 columns]"
      ]
     },
     "execution_count": 75,
     "metadata": {},
     "output_type": "execute_result"
    }
   ],
   "source": [
    "rejected_addresses"
   ]
  },
  {
   "cell_type": "code",
   "execution_count": 76,
   "metadata": {
    "ExecuteTime": {
     "end_time": "2020-04-24T06:24:35.805195Z",
     "start_time": "2020-04-24T06:24:35.767056Z"
    }
   },
   "outputs": [
    {
     "name": "stdout",
     "output_type": "stream",
     "text": [
      "[2020-04-24 06:24:35,772]  Addresses with no match at all\n"
     ]
    },
    {
     "data": {
      "text/html": [
       "<div>\n",
       "<style scoped>\n",
       "    .dataframe tbody tr th:only-of-type {\n",
       "        vertical-align: middle;\n",
       "    }\n",
       "\n",
       "    .dataframe tbody tr th {\n",
       "        vertical-align: top;\n",
       "    }\n",
       "\n",
       "    .dataframe thead th {\n",
       "        text-align: right;\n",
       "    }\n",
       "</style>\n",
       "<table border=\"1\" class=\"dataframe\">\n",
       "  <thead>\n",
       "    <tr style=\"text-align: right;\">\n",
       "      <th></th>\n",
       "      <th>addr_index</th>\n",
       "      <th>street</th>\n",
       "      <th>house_number</th>\n",
       "      <th>postcode</th>\n",
       "      <th>city</th>\n",
       "    </tr>\n",
       "  </thead>\n",
       "  <tbody>\n",
       "  </tbody>\n",
       "</table>\n",
       "</div>"
      ],
      "text/plain": [
       "Empty DataFrame\n",
       "Columns: [addr_index, street, house_number, postcode, city]\n",
       "Index: []"
      ]
     },
     "metadata": {},
     "output_type": "display_data"
    }
   ],
   "source": [
    "log(\"Addresses with no match at all\")\n",
    "no_match = addresses[~addresses[config_module.addr_key_field].isin(osm_addresses[config_module.addr_key_field]) & ~addresses[config_module.addr_key_field].isin(rejected_addresses[config_module.addr_key_field])]\n",
    "log(no_match)"
   ]
  },
  {
   "cell_type": "code",
   "execution_count": 77,
   "metadata": {
    "ExecuteTime": {
     "end_time": "2020-04-24T06:24:35.827002Z",
     "start_time": "2020-04-24T06:24:35.809528Z"
    },
    "scrolled": true
   },
   "outputs": [
    {
     "name": "stdout",
     "output_type": "stream",
     "text": [
      "[2020-04-24 06:24:35,822]  Number of unique city-streets in no match addresses: 0\n"
     ]
    }
   ],
   "source": [
    "log(f\"Number of unique city-streets in no match addresses: {no_match[[config_module.postcode_field, config_module.street_field]].drop_duplicates().shape[0]}\")\n"
   ]
  },
  {
   "cell_type": "code",
   "execution_count": 78,
   "metadata": {
    "ExecuteTime": {
     "end_time": "2020-04-24T06:24:35.866800Z",
     "start_time": "2020-04-24T06:24:35.835503Z"
    }
   },
   "outputs": [
    {
     "name": "stdout",
     "output_type": "stream",
     "text": [
      "[2020-04-24 06:24:35,849]  Main cities in no match addresses: \n"
     ]
    },
    {
     "data": {
      "text/plain": [
       "Series([], Name: city, dtype: int64)"
      ]
     },
     "metadata": {},
     "output_type": "display_data"
    }
   ],
   "source": [
    "log(\"Main cities in no match addresses: \")\n",
    "log(no_match[config_module.city_field].value_counts().head(10))"
   ]
  },
  {
   "cell_type": "code",
   "execution_count": 79,
   "metadata": {
    "ExecuteTime": {
     "end_time": "2020-04-24T06:24:35.899552Z",
     "start_time": "2020-04-24T06:24:35.870804Z"
    }
   },
   "outputs": [
    {
     "name": "stdout",
     "output_type": "stream",
     "text": [
      "[2020-04-24 06:24:35,874]  Main streets in no match addresses: \n"
     ]
    },
    {
     "data": {
      "text/plain": [
       "Series([], Name: street, dtype: int64)"
      ]
     },
     "metadata": {},
     "output_type": "display_data"
    }
   ],
   "source": [
    "log(\"Main streets in no match addresses: \")\n",
    "log(no_match[config_module.street_field].value_counts().head(10))"
   ]
  },
  {
   "cell_type": "markdown",
   "metadata": {},
   "source": [
    "# Extra house number"
   ]
  },
  {
   "cell_type": "markdown",
   "metadata": {},
   "source": [
    "In many situation, OSM does not return a correct house number : \n",
    "- Either because the building is not known by OSM. In this case, house number is empty in result\n",
    "- Or because house number in input also contains information such as box, level...\n",
    "\n",
    "We then consider that house number is not reliable enough and compute our own house number field, named \"extra_house_nbr\""
   ]
  },
  {
   "cell_type": "code",
   "execution_count": 80,
   "metadata": {
    "ExecuteTime": {
     "end_time": "2020-04-24T06:24:36.034313Z",
     "start_time": "2020-04-24T06:24:35.906386Z"
    },
    "scrolled": true
   },
   "outputs": [
    {
     "name": "stdout",
     "output_type": "stream",
     "text": [
      "[2020-04-24 06:24:35,909]  Add extra house number\n"
     ]
    }
   ],
   "source": [
    "log(\"Add extra house number\")\n",
    "osm_addresses = add_extra_house_number(osm_addresses, addresses, street_field=config_module.street_field, housenbr_field=config_module.housenbr_field)"
   ]
  },
  {
   "cell_type": "code",
   "execution_count": 81,
   "metadata": {
    "ExecuteTime": {
     "end_time": "2020-04-24T06:24:36.058276Z",
     "start_time": "2020-04-24T06:24:36.053582Z"
    },
    "scrolled": true
   },
   "outputs": [],
   "source": [
    "# osm_addresses.drop(\"extra_house_nbr\", axis=1, inplace=True)"
   ]
  },
  {
   "cell_type": "code",
   "execution_count": 82,
   "metadata": {
    "ExecuteTime": {
     "end_time": "2020-04-24T06:24:36.092936Z",
     "start_time": "2020-04-24T06:24:36.074077Z"
    }
   },
   "outputs": [],
   "source": [
    "ex_hs_nb = osm_addresses[[config_module.addr_key_field, \"osm_addr_in\", \"extra_house_nbr\", \"addr_out_number\"]].replace(\"\", np.NaN)"
   ]
  },
  {
   "cell_type": "code",
   "execution_count": 83,
   "metadata": {
    "ExecuteTime": {
     "end_time": "2020-04-24T06:24:36.155891Z",
     "start_time": "2020-04-24T06:24:36.105323Z"
    },
    "scrolled": true
   },
   "outputs": [
    {
     "name": "stdout",
     "output_type": "stream",
     "text": [
      "[2020-04-24 06:24:36,108]  Add new information: \n"
     ]
    },
    {
     "data": {
      "text/html": [
       "<div>\n",
       "<style scoped>\n",
       "    .dataframe tbody tr th:only-of-type {\n",
       "        vertical-align: middle;\n",
       "    }\n",
       "\n",
       "    .dataframe tbody tr th {\n",
       "        vertical-align: top;\n",
       "    }\n",
       "\n",
       "    .dataframe thead th {\n",
       "        text-align: right;\n",
       "    }\n",
       "</style>\n",
       "<table border=\"1\" class=\"dataframe\">\n",
       "  <thead>\n",
       "    <tr style=\"text-align: right;\">\n",
       "      <th></th>\n",
       "      <th>addr_index</th>\n",
       "      <th>osm_addr_in</th>\n",
       "      <th>extra_house_nbr</th>\n",
       "      <th>addr_out_number</th>\n",
       "    </tr>\n",
       "  </thead>\n",
       "  <tbody>\n",
       "    <tr>\n",
       "      <th>0</th>\n",
       "      <td>1008254</td>\n",
       "      <td>RUE DES COMBATTANTS, 49, 7780 COMINES-WARNETON</td>\n",
       "      <td>49</td>\n",
       "      <td>None</td>\n",
       "    </tr>\n",
       "    <tr>\n",
       "      <th>1</th>\n",
       "      <td>1018317</td>\n",
       "      <td>SENTIER CAVENAILE, 10, 7000 MONS</td>\n",
       "      <td>10</td>\n",
       "      <td>None</td>\n",
       "    </tr>\n",
       "    <tr>\n",
       "      <th>2</th>\n",
       "      <td>1021149</td>\n",
       "      <td>RUE GRANDE, 264, 7020 MONS</td>\n",
       "      <td>264</td>\n",
       "      <td>None</td>\n",
       "    </tr>\n",
       "    <tr>\n",
       "      <th>3</th>\n",
       "      <td>1028351</td>\n",
       "      <td>RUE DE SCRAWELLE, 39, 7180 SENEFFE</td>\n",
       "      <td>39</td>\n",
       "      <td>None</td>\n",
       "    </tr>\n",
       "    <tr>\n",
       "      <th>4</th>\n",
       "      <td>1033551</td>\n",
       "      <td>CHAUSSÉE DE NIVELLES, 110, 7181 SENEFFE</td>\n",
       "      <td>110</td>\n",
       "      <td>None</td>\n",
       "    </tr>\n",
       "    <tr>\n",
       "      <th>...</th>\n",
       "      <td>...</td>\n",
       "      <td>...</td>\n",
       "      <td>...</td>\n",
       "      <td>...</td>\n",
       "    </tr>\n",
       "    <tr>\n",
       "      <th>995</th>\n",
       "      <td>5010520</td>\n",
       "      <td>9860 OOSTERZELE</td>\n",
       "      <td>4</td>\n",
       "      <td>None</td>\n",
       "    </tr>\n",
       "    <tr>\n",
       "      <th>996</th>\n",
       "      <td>5057282</td>\n",
       "      <td>9120 BEVEREN</td>\n",
       "      <td>11</td>\n",
       "      <td>None</td>\n",
       "    </tr>\n",
       "    <tr>\n",
       "      <th>997</th>\n",
       "      <td>5065019</td>\n",
       "      <td>3570 ALKEN</td>\n",
       "      <td>7</td>\n",
       "      <td>None</td>\n",
       "    </tr>\n",
       "    <tr>\n",
       "      <th>998</th>\n",
       "      <td>5076788</td>\n",
       "      <td>3200 AARSCHOT</td>\n",
       "      <td>13K</td>\n",
       "      <td>None</td>\n",
       "    </tr>\n",
       "    <tr>\n",
       "      <th>999</th>\n",
       "      <td>875928</td>\n",
       "      <td>7170 MANAGE</td>\n",
       "      <td>12</td>\n",
       "      <td>None</td>\n",
       "    </tr>\n",
       "  </tbody>\n",
       "</table>\n",
       "<p>567 rows × 4 columns</p>\n",
       "</div>"
      ],
      "text/plain": [
       "    addr_index                                     osm_addr_in  \\\n",
       "0      1008254  RUE DES COMBATTANTS, 49, 7780 COMINES-WARNETON   \n",
       "1      1018317                SENTIER CAVENAILE, 10, 7000 MONS   \n",
       "2      1021149                      RUE GRANDE, 264, 7020 MONS   \n",
       "3      1028351              RUE DE SCRAWELLE, 39, 7180 SENEFFE   \n",
       "4      1033551         CHAUSSÉE DE NIVELLES, 110, 7181 SENEFFE   \n",
       "..         ...                                             ...   \n",
       "995    5010520                                 9860 OOSTERZELE   \n",
       "996    5057282                                    9120 BEVEREN   \n",
       "997    5065019                                      3570 ALKEN   \n",
       "998    5076788                                   3200 AARSCHOT   \n",
       "999     875928                                     7170 MANAGE   \n",
       "\n",
       "    extra_house_nbr addr_out_number  \n",
       "0                49            None  \n",
       "1                10            None  \n",
       "2               264            None  \n",
       "3                39            None  \n",
       "4               110            None  \n",
       "..              ...             ...  \n",
       "995               4            None  \n",
       "996              11            None  \n",
       "997               7            None  \n",
       "998             13K            None  \n",
       "999              12            None  \n",
       "\n",
       "[567 rows x 4 columns]"
      ]
     },
     "metadata": {},
     "output_type": "display_data"
    }
   ],
   "source": [
    "log(\"Add new information: \")\n",
    "log(ex_hs_nb[ex_hs_nb.addr_out_number.isnull() & ex_hs_nb.extra_house_nbr.notnull()])"
   ]
  },
  {
   "cell_type": "code",
   "execution_count": 84,
   "metadata": {
    "ExecuteTime": {
     "end_time": "2020-04-24T06:24:36.191554Z",
     "start_time": "2020-04-24T06:24:36.164998Z"
    }
   },
   "outputs": [
    {
     "name": "stdout",
     "output_type": "stream",
     "text": [
      "[2020-04-24 06:24:36,170]  No number at all: \n"
     ]
    },
    {
     "data": {
      "text/html": [
       "<div>\n",
       "<style scoped>\n",
       "    .dataframe tbody tr th:only-of-type {\n",
       "        vertical-align: middle;\n",
       "    }\n",
       "\n",
       "    .dataframe tbody tr th {\n",
       "        vertical-align: top;\n",
       "    }\n",
       "\n",
       "    .dataframe thead th {\n",
       "        text-align: right;\n",
       "    }\n",
       "</style>\n",
       "<table border=\"1\" class=\"dataframe\">\n",
       "  <thead>\n",
       "    <tr style=\"text-align: right;\">\n",
       "      <th></th>\n",
       "      <th>addr_index</th>\n",
       "      <th>osm_addr_in</th>\n",
       "      <th>extra_house_nbr</th>\n",
       "      <th>addr_out_number</th>\n",
       "    </tr>\n",
       "  </thead>\n",
       "  <tbody>\n",
       "  </tbody>\n",
       "</table>\n",
       "</div>"
      ],
      "text/plain": [
       "Empty DataFrame\n",
       "Columns: [addr_index, osm_addr_in, extra_house_nbr, addr_out_number]\n",
       "Index: []"
      ]
     },
     "metadata": {},
     "output_type": "display_data"
    }
   ],
   "source": [
    "log(\"No number at all: \")\n",
    "log(ex_hs_nb[ex_hs_nb.addr_out_number.isnull() & ex_hs_nb.extra_house_nbr.isnull()])"
   ]
  },
  {
   "cell_type": "code",
   "execution_count": 85,
   "metadata": {
    "ExecuteTime": {
     "end_time": "2020-04-24T06:24:36.251217Z",
     "start_time": "2020-04-24T06:24:36.196135Z"
    },
    "scrolled": true
   },
   "outputs": [
    {
     "name": "stdout",
     "output_type": "stream",
     "text": [
      "[2020-04-24 06:24:36,200]  Agreed: \n"
     ]
    },
    {
     "data": {
      "text/html": [
       "<div>\n",
       "<style scoped>\n",
       "    .dataframe tbody tr th:only-of-type {\n",
       "        vertical-align: middle;\n",
       "    }\n",
       "\n",
       "    .dataframe tbody tr th {\n",
       "        vertical-align: top;\n",
       "    }\n",
       "\n",
       "    .dataframe thead th {\n",
       "        text-align: right;\n",
       "    }\n",
       "</style>\n",
       "<table border=\"1\" class=\"dataframe\">\n",
       "  <thead>\n",
       "    <tr style=\"text-align: right;\">\n",
       "      <th></th>\n",
       "      <th>addr_index</th>\n",
       "      <th>osm_addr_in</th>\n",
       "      <th>extra_house_nbr</th>\n",
       "      <th>addr_out_number</th>\n",
       "    </tr>\n",
       "  </thead>\n",
       "  <tbody>\n",
       "    <tr>\n",
       "      <th>13</th>\n",
       "      <td>110087</td>\n",
       "      <td>AVENUE DES EPERVIERS, 67, 1150 WOLUWE-SAINT-PI...</td>\n",
       "      <td>67</td>\n",
       "      <td>67</td>\n",
       "    </tr>\n",
       "    <tr>\n",
       "      <th>14</th>\n",
       "      <td>110295</td>\n",
       "      <td>RUE DE BRABANT, 228, 1030 SCHAERBEEK</td>\n",
       "      <td>228</td>\n",
       "      <td>228</td>\n",
       "    </tr>\n",
       "    <tr>\n",
       "      <th>16</th>\n",
       "      <td>111071</td>\n",
       "      <td>RUE DE L'AÉRODROME, 22, 1130 BRUXELLES</td>\n",
       "      <td>22</td>\n",
       "      <td>22</td>\n",
       "    </tr>\n",
       "    <tr>\n",
       "      <th>18</th>\n",
       "      <td>111424</td>\n",
       "      <td>RUE EDITH CAVELL, 147, 1180 UCCLE</td>\n",
       "      <td>147</td>\n",
       "      <td>147</td>\n",
       "    </tr>\n",
       "    <tr>\n",
       "      <th>24</th>\n",
       "      <td>113719</td>\n",
       "      <td>RUE MASUI, 99, 1000 BRUXELLES</td>\n",
       "      <td>99</td>\n",
       "      <td>99</td>\n",
       "    </tr>\n",
       "    <tr>\n",
       "      <th>...</th>\n",
       "      <td>...</td>\n",
       "      <td>...</td>\n",
       "      <td>...</td>\n",
       "      <td>...</td>\n",
       "    </tr>\n",
       "    <tr>\n",
       "      <th>929</th>\n",
       "      <td>97373</td>\n",
       "      <td>AVENUE ORBAN, 172, 1150 WOLUWE-SAINT-PIERRE</td>\n",
       "      <td>172</td>\n",
       "      <td>172</td>\n",
       "    </tr>\n",
       "    <tr>\n",
       "      <th>968</th>\n",
       "      <td>1944077</td>\n",
       "      <td>Place Vielle Montagne, 2, 4020 Liège</td>\n",
       "      <td>2</td>\n",
       "      <td>2</td>\n",
       "    </tr>\n",
       "    <tr>\n",
       "      <th>970</th>\n",
       "      <td>2410216</td>\n",
       "      <td>Kannunink Duclosstraat, 20, 8000 Bruges</td>\n",
       "      <td>20</td>\n",
       "      <td>20</td>\n",
       "    </tr>\n",
       "    <tr>\n",
       "      <th>977</th>\n",
       "      <td>776345</td>\n",
       "      <td>Rue du Colonel Bourg, 11, 5170 Profondeville</td>\n",
       "      <td>11</td>\n",
       "      <td>11</td>\n",
       "    </tr>\n",
       "    <tr>\n",
       "      <th>981</th>\n",
       "      <td>6225343</td>\n",
       "      <td>Totleger, 10, B-4730 Lichtenbusch</td>\n",
       "      <td>10</td>\n",
       "      <td>10</td>\n",
       "    </tr>\n",
       "  </tbody>\n",
       "</table>\n",
       "<p>391 rows × 4 columns</p>\n",
       "</div>"
      ],
      "text/plain": [
       "    addr_index                                        osm_addr_in  \\\n",
       "13      110087  AVENUE DES EPERVIERS, 67, 1150 WOLUWE-SAINT-PI...   \n",
       "14      110295               RUE DE BRABANT, 228, 1030 SCHAERBEEK   \n",
       "16      111071             RUE DE L'AÉRODROME, 22, 1130 BRUXELLES   \n",
       "18      111424                  RUE EDITH CAVELL, 147, 1180 UCCLE   \n",
       "24      113719                      RUE MASUI, 99, 1000 BRUXELLES   \n",
       "..         ...                                                ...   \n",
       "929      97373        AVENUE ORBAN, 172, 1150 WOLUWE-SAINT-PIERRE   \n",
       "968    1944077               Place Vielle Montagne, 2, 4020 Liège   \n",
       "970    2410216            Kannunink Duclosstraat, 20, 8000 Bruges   \n",
       "977     776345       Rue du Colonel Bourg, 11, 5170 Profondeville   \n",
       "981    6225343                  Totleger, 10, B-4730 Lichtenbusch   \n",
       "\n",
       "    extra_house_nbr addr_out_number  \n",
       "13               67              67  \n",
       "14              228             228  \n",
       "16               22              22  \n",
       "18              147             147  \n",
       "24               99              99  \n",
       "..              ...             ...  \n",
       "929             172             172  \n",
       "968               2               2  \n",
       "970              20              20  \n",
       "977              11              11  \n",
       "981              10              10  \n",
       "\n",
       "[391 rows x 4 columns]"
      ]
     },
     "metadata": {},
     "output_type": "display_data"
    }
   ],
   "source": [
    "log(\"Agreed: \")\n",
    "log(ex_hs_nb[ex_hs_nb.addr_out_number.notnull() & ex_hs_nb.extra_house_nbr.notnull() & (ex_hs_nb.addr_out_number == ex_hs_nb.extra_house_nbr)])"
   ]
  },
  {
   "cell_type": "code",
   "execution_count": 86,
   "metadata": {
    "ExecuteTime": {
     "end_time": "2020-04-24T06:24:36.334421Z",
     "start_time": "2020-04-24T06:24:36.255636Z"
    }
   },
   "outputs": [
    {
     "name": "stdout",
     "output_type": "stream",
     "text": [
      "[2020-04-24 06:24:36,259]  Disagreed: \n"
     ]
    },
    {
     "data": {
      "text/html": [
       "<div>\n",
       "<style scoped>\n",
       "    .dataframe tbody tr th:only-of-type {\n",
       "        vertical-align: middle;\n",
       "    }\n",
       "\n",
       "    .dataframe tbody tr th {\n",
       "        vertical-align: top;\n",
       "    }\n",
       "\n",
       "    .dataframe thead th {\n",
       "        text-align: right;\n",
       "    }\n",
       "</style>\n",
       "<table border=\"1\" class=\"dataframe\">\n",
       "  <thead>\n",
       "    <tr style=\"text-align: right;\">\n",
       "      <th></th>\n",
       "      <th>addr_index</th>\n",
       "      <th>osm_addr_in</th>\n",
       "      <th>extra_house_nbr</th>\n",
       "      <th>addr_out_number</th>\n",
       "    </tr>\n",
       "  </thead>\n",
       "  <tbody>\n",
       "    <tr>\n",
       "      <th>203</th>\n",
       "      <td>2184041</td>\n",
       "      <td>HUNDERENVELD, 151, 1082 SINT-AGATHA-BERCHEM</td>\n",
       "      <td>151</td>\n",
       "      <td>151-157</td>\n",
       "    </tr>\n",
       "    <tr>\n",
       "      <th>329</th>\n",
       "      <td>2955024</td>\n",
       "      <td>LUTLOMMEL, 36, 3920 LOMMEL</td>\n",
       "      <td>36</td>\n",
       "      <td>36-36B</td>\n",
       "    </tr>\n",
       "    <tr>\n",
       "      <th>386</th>\n",
       "      <td>3281929</td>\n",
       "      <td>LANE, 50, 8000 BRUGGE</td>\n",
       "      <td>50</td>\n",
       "      <td>50-52</td>\n",
       "    </tr>\n",
       "    <tr>\n",
       "      <th>393</th>\n",
       "      <td>3305036</td>\n",
       "      <td>BROEKSTRAAT, 58A, 9220 HAMME</td>\n",
       "      <td>58A</td>\n",
       "      <td>58a</td>\n",
       "    </tr>\n",
       "    <tr>\n",
       "      <th>447</th>\n",
       "      <td>3644754</td>\n",
       "      <td>HEERNISLAAN, 99, 9000 GENT</td>\n",
       "      <td>99</td>\n",
       "      <td>99-99C</td>\n",
       "    </tr>\n",
       "    <tr>\n",
       "      <th>453</th>\n",
       "      <td>3674141</td>\n",
       "      <td>LEERNSESTEENWEG, 8, 9800 DEINZE</td>\n",
       "      <td>8</td>\n",
       "      <td>8-8A</td>\n",
       "    </tr>\n",
       "    <tr>\n",
       "      <th>576</th>\n",
       "      <td>4466430</td>\n",
       "      <td>PATIJNTJESTRAAT, 190, 9000 GENT</td>\n",
       "      <td>190</td>\n",
       "      <td>190-208</td>\n",
       "    </tr>\n",
       "    <tr>\n",
       "      <th>593</th>\n",
       "      <td>4551957</td>\n",
       "      <td>EREMBODEGEM-DORP, 117, 9320 AALST</td>\n",
       "      <td>117</td>\n",
       "      <td>115;117</td>\n",
       "    </tr>\n",
       "    <tr>\n",
       "      <th>609</th>\n",
       "      <td>4665040</td>\n",
       "      <td>PIETER VANHOUDTSTRAAT, 38, 3582 BERINGEN</td>\n",
       "      <td>38</td>\n",
       "      <td>36-38</td>\n",
       "    </tr>\n",
       "    <tr>\n",
       "      <th>616</th>\n",
       "      <td>4755179</td>\n",
       "      <td>ACHIEL DENYSSTRAAT, 9, 8800 ROESELARE</td>\n",
       "      <td>9</td>\n",
       "      <td>9-10</td>\n",
       "    </tr>\n",
       "    <tr>\n",
       "      <th>618</th>\n",
       "      <td>4766075</td>\n",
       "      <td>SCHEPENHUISSTRAAT, 31A, 9000 GENT</td>\n",
       "      <td>31A</td>\n",
       "      <td>31;31A</td>\n",
       "    </tr>\n",
       "    <tr>\n",
       "      <th>643</th>\n",
       "      <td>4907293</td>\n",
       "      <td>LINIEPLEIN, 8, 2300 TURNHOUT</td>\n",
       "      <td>8</td>\n",
       "      <td>6,7,8</td>\n",
       "    </tr>\n",
       "    <tr>\n",
       "      <th>691</th>\n",
       "      <td>5273904</td>\n",
       "      <td>BELGIËLEI, 4, 2018 ANTWERPEN</td>\n",
       "      <td>4</td>\n",
       "      <td>2-4</td>\n",
       "    </tr>\n",
       "    <tr>\n",
       "      <th>694</th>\n",
       "      <td>5284487</td>\n",
       "      <td>TURNHOUTSEBAAN, 204, 2110 WIJNEGEM</td>\n",
       "      <td>204</td>\n",
       "      <td>204-210</td>\n",
       "    </tr>\n",
       "    <tr>\n",
       "      <th>695</th>\n",
       "      <td>5285884</td>\n",
       "      <td>BLANCEFLOERLAAN, 163, 2050 ANTWERPEN</td>\n",
       "      <td>163</td>\n",
       "      <td>161-163</td>\n",
       "    </tr>\n",
       "    <tr>\n",
       "      <th>699</th>\n",
       "      <td>5295691</td>\n",
       "      <td>BREDABAAN, 798, 2170 ANTWERPEN</td>\n",
       "      <td>798</td>\n",
       "      <td>798-800</td>\n",
       "    </tr>\n",
       "    <tr>\n",
       "      <th>719</th>\n",
       "      <td>5405065</td>\n",
       "      <td>LEOPOLDSTRAAT, 13, 2850 BOOM</td>\n",
       "      <td>13</td>\n",
       "      <td>11;13;15</td>\n",
       "    </tr>\n",
       "    <tr>\n",
       "      <th>724</th>\n",
       "      <td>5425534</td>\n",
       "      <td>BREDASTRAAT, 54, 2060 ANTWERPEN</td>\n",
       "      <td>54</td>\n",
       "      <td>40-54</td>\n",
       "    </tr>\n",
       "    <tr>\n",
       "      <th>727</th>\n",
       "      <td>5430625</td>\n",
       "      <td>MATENSTRAAT, 109_2, 2845 NIEL</td>\n",
       "      <td>109_2</td>\n",
       "      <td>109;109_1;109_2</td>\n",
       "    </tr>\n",
       "    <tr>\n",
       "      <th>731</th>\n",
       "      <td>5443020</td>\n",
       "      <td>VELDSTRAAT, 8, 2260 WESTERLO</td>\n",
       "      <td>8</td>\n",
       "      <td>8,8A,8B,8C,8D</td>\n",
       "    </tr>\n",
       "    <tr>\n",
       "      <th>734</th>\n",
       "      <td>5458892</td>\n",
       "      <td>ANTOON VAN DEN BOSSCHELAAN, 147, 2100 ANTWERPEN</td>\n",
       "      <td>147</td>\n",
       "      <td>147,149</td>\n",
       "    </tr>\n",
       "    <tr>\n",
       "      <th>735</th>\n",
       "      <td>5461252</td>\n",
       "      <td>RUGGEVELDLAAN, 790, 2100 ANTWERPEN</td>\n",
       "      <td>790</td>\n",
       "      <td>790,792</td>\n",
       "    </tr>\n",
       "    <tr>\n",
       "      <th>741</th>\n",
       "      <td>5512500</td>\n",
       "      <td>MUTSAARDSTRAAT, 4, 2000 ANTWERPEN</td>\n",
       "      <td>4</td>\n",
       "      <td>2-4</td>\n",
       "    </tr>\n",
       "    <tr>\n",
       "      <th>744</th>\n",
       "      <td>5537858</td>\n",
       "      <td>DAMBRUGGESTRAAT, 157F, 2060 ANTWERPEN</td>\n",
       "      <td>157F</td>\n",
       "      <td>157E,157F</td>\n",
       "    </tr>\n",
       "    <tr>\n",
       "      <th>752</th>\n",
       "      <td>5591133</td>\n",
       "      <td>STRIJDERSSTRAAT, 66, 3000 LEUVEN</td>\n",
       "      <td>66</td>\n",
       "      <td>64-66</td>\n",
       "    </tr>\n",
       "    <tr>\n",
       "      <th>758</th>\n",
       "      <td>5613350</td>\n",
       "      <td>TESSENSTRAAT, 13, 3000 LEUVEN</td>\n",
       "      <td>13</td>\n",
       "      <td>13/15</td>\n",
       "    </tr>\n",
       "    <tr>\n",
       "      <th>780</th>\n",
       "      <td>5721308</td>\n",
       "      <td>STOPPELSTRAAT, 48, 9000 GENT</td>\n",
       "      <td>48</td>\n",
       "      <td>48;50</td>\n",
       "    </tr>\n",
       "    <tr>\n",
       "      <th>787</th>\n",
       "      <td>5743549</td>\n",
       "      <td>ZAVELSTRAAT, 56, 2200 HERENTALS</td>\n",
       "      <td>56</td>\n",
       "      <td>54-56</td>\n",
       "    </tr>\n",
       "    <tr>\n",
       "      <th>833</th>\n",
       "      <td>6012642</td>\n",
       "      <td>SINT-MICHIELSSTRAAT, 3, 3000 LEUVEN</td>\n",
       "      <td>3</td>\n",
       "      <td>3-5</td>\n",
       "    </tr>\n",
       "    <tr>\n",
       "      <th>840</th>\n",
       "      <td>6052066</td>\n",
       "      <td>VISSERSSTRAAT, 43, 8380 BRUGGE</td>\n",
       "      <td>43</td>\n",
       "      <td>41;43</td>\n",
       "    </tr>\n",
       "    <tr>\n",
       "      <th>843</th>\n",
       "      <td>6074295</td>\n",
       "      <td>LEISTRAAT, 116, 2460 KASTERLEE</td>\n",
       "      <td>116</td>\n",
       "      <td>116,116A</td>\n",
       "    </tr>\n",
       "    <tr>\n",
       "      <th>846</th>\n",
       "      <td>6099176</td>\n",
       "      <td>NIEUWPOORTSESTEENWEG, 96, 8400 OOSTENDE</td>\n",
       "      <td>96</td>\n",
       "      <td>94-96</td>\n",
       "    </tr>\n",
       "    <tr>\n",
       "      <th>933</th>\n",
       "      <td>1748973</td>\n",
       "      <td>AVENUE DE LA LIBÉRATION, 15, 7011 MONS</td>\n",
       "      <td>15B</td>\n",
       "      <td>15</td>\n",
       "    </tr>\n",
       "    <tr>\n",
       "      <th>934</th>\n",
       "      <td>2066314</td>\n",
       "      <td>TROISFONTAINES, 13, 4845 JALHAY</td>\n",
       "      <td>13A</td>\n",
       "      <td>13</td>\n",
       "    </tr>\n",
       "    <tr>\n",
       "      <th>935</th>\n",
       "      <td>4630572</td>\n",
       "      <td>KERKHOFSTRAAT, 12, 3945 HAM</td>\n",
       "      <td>12A</td>\n",
       "      <td>12</td>\n",
       "    </tr>\n",
       "    <tr>\n",
       "      <th>936</th>\n",
       "      <td>4715192</td>\n",
       "      <td>UNIVERSITEITSPLEIN, 1, 2610 ANTWERPEN</td>\n",
       "      <td>1A</td>\n",
       "      <td>1</td>\n",
       "    </tr>\n",
       "    <tr>\n",
       "      <th>937</th>\n",
       "      <td>4802826</td>\n",
       "      <td>BEUSTERVEN, 2, 2260 WESTERLO</td>\n",
       "      <td>2_1</td>\n",
       "      <td>2</td>\n",
       "    </tr>\n",
       "    <tr>\n",
       "      <th>938</th>\n",
       "      <td>4831689</td>\n",
       "      <td>KRIJGSLAAN, 98, 9000 GENT</td>\n",
       "      <td>98H</td>\n",
       "      <td>98-98L</td>\n",
       "    </tr>\n",
       "    <tr>\n",
       "      <th>939</th>\n",
       "      <td>4968094</td>\n",
       "      <td>WENDUINESTEENWEG, 150, 8420 DE HAAN</td>\n",
       "      <td>150_0459</td>\n",
       "      <td>150</td>\n",
       "    </tr>\n",
       "    <tr>\n",
       "      <th>940</th>\n",
       "      <td>4999013</td>\n",
       "      <td>BORRESTRAAT, 52, 3090 OVERIJSE</td>\n",
       "      <td>52A</td>\n",
       "      <td>52</td>\n",
       "    </tr>\n",
       "    <tr>\n",
       "      <th>941</th>\n",
       "      <td>5120607</td>\n",
       "      <td>WOLFSTRAAT, 17, 2870 PUURS-SINT-AMANDS</td>\n",
       "      <td>17_32</td>\n",
       "      <td>17/51</td>\n",
       "    </tr>\n",
       "    <tr>\n",
       "      <th>942</th>\n",
       "      <td>5619200</td>\n",
       "      <td>SCHOONBROEK, 30, 2180 ANTWERPEN</td>\n",
       "      <td>30A</td>\n",
       "      <td>30</td>\n",
       "    </tr>\n",
       "  </tbody>\n",
       "</table>\n",
       "</div>"
      ],
      "text/plain": [
       "    addr_index                                      osm_addr_in  \\\n",
       "203    2184041      HUNDERENVELD, 151, 1082 SINT-AGATHA-BERCHEM   \n",
       "329    2955024                       LUTLOMMEL, 36, 3920 LOMMEL   \n",
       "386    3281929                            LANE, 50, 8000 BRUGGE   \n",
       "393    3305036                     BROEKSTRAAT, 58A, 9220 HAMME   \n",
       "447    3644754                       HEERNISLAAN, 99, 9000 GENT   \n",
       "453    3674141                  LEERNSESTEENWEG, 8, 9800 DEINZE   \n",
       "576    4466430                  PATIJNTJESTRAAT, 190, 9000 GENT   \n",
       "593    4551957                EREMBODEGEM-DORP, 117, 9320 AALST   \n",
       "609    4665040         PIETER VANHOUDTSTRAAT, 38, 3582 BERINGEN   \n",
       "616    4755179            ACHIEL DENYSSTRAAT, 9, 8800 ROESELARE   \n",
       "618    4766075                SCHEPENHUISSTRAAT, 31A, 9000 GENT   \n",
       "643    4907293                     LINIEPLEIN, 8, 2300 TURNHOUT   \n",
       "691    5273904                     BELGIËLEI, 4, 2018 ANTWERPEN   \n",
       "694    5284487               TURNHOUTSEBAAN, 204, 2110 WIJNEGEM   \n",
       "695    5285884             BLANCEFLOERLAAN, 163, 2050 ANTWERPEN   \n",
       "699    5295691                   BREDABAAN, 798, 2170 ANTWERPEN   \n",
       "719    5405065                     LEOPOLDSTRAAT, 13, 2850 BOOM   \n",
       "724    5425534                  BREDASTRAAT, 54, 2060 ANTWERPEN   \n",
       "727    5430625                    MATENSTRAAT, 109_2, 2845 NIEL   \n",
       "731    5443020                     VELDSTRAAT, 8, 2260 WESTERLO   \n",
       "734    5458892  ANTOON VAN DEN BOSSCHELAAN, 147, 2100 ANTWERPEN   \n",
       "735    5461252               RUGGEVELDLAAN, 790, 2100 ANTWERPEN   \n",
       "741    5512500                MUTSAARDSTRAAT, 4, 2000 ANTWERPEN   \n",
       "744    5537858            DAMBRUGGESTRAAT, 157F, 2060 ANTWERPEN   \n",
       "752    5591133                 STRIJDERSSTRAAT, 66, 3000 LEUVEN   \n",
       "758    5613350                    TESSENSTRAAT, 13, 3000 LEUVEN   \n",
       "780    5721308                     STOPPELSTRAAT, 48, 9000 GENT   \n",
       "787    5743549                  ZAVELSTRAAT, 56, 2200 HERENTALS   \n",
       "833    6012642              SINT-MICHIELSSTRAAT, 3, 3000 LEUVEN   \n",
       "840    6052066                   VISSERSSTRAAT, 43, 8380 BRUGGE   \n",
       "843    6074295                   LEISTRAAT, 116, 2460 KASTERLEE   \n",
       "846    6099176          NIEUWPOORTSESTEENWEG, 96, 8400 OOSTENDE   \n",
       "933    1748973           AVENUE DE LA LIBÉRATION, 15, 7011 MONS   \n",
       "934    2066314                  TROISFONTAINES, 13, 4845 JALHAY   \n",
       "935    4630572                      KERKHOFSTRAAT, 12, 3945 HAM   \n",
       "936    4715192            UNIVERSITEITSPLEIN, 1, 2610 ANTWERPEN   \n",
       "937    4802826                     BEUSTERVEN, 2, 2260 WESTERLO   \n",
       "938    4831689                        KRIJGSLAAN, 98, 9000 GENT   \n",
       "939    4968094              WENDUINESTEENWEG, 150, 8420 DE HAAN   \n",
       "940    4999013                   BORRESTRAAT, 52, 3090 OVERIJSE   \n",
       "941    5120607           WOLFSTRAAT, 17, 2870 PUURS-SINT-AMANDS   \n",
       "942    5619200                  SCHOONBROEK, 30, 2180 ANTWERPEN   \n",
       "\n",
       "    extra_house_nbr  addr_out_number  \n",
       "203             151          151-157  \n",
       "329              36           36-36B  \n",
       "386              50            50-52  \n",
       "393             58A              58a  \n",
       "447              99           99-99C  \n",
       "453               8             8-8A  \n",
       "576             190          190-208  \n",
       "593             117          115;117  \n",
       "609              38            36-38  \n",
       "616               9             9-10  \n",
       "618             31A           31;31A  \n",
       "643               8            6,7,8  \n",
       "691               4              2-4  \n",
       "694             204          204-210  \n",
       "695             163          161-163  \n",
       "699             798          798-800  \n",
       "719              13         11;13;15  \n",
       "724              54            40-54  \n",
       "727           109_2  109;109_1;109_2  \n",
       "731               8    8,8A,8B,8C,8D  \n",
       "734             147          147,149  \n",
       "735             790          790,792  \n",
       "741               4              2-4  \n",
       "744            157F        157E,157F  \n",
       "752              66            64-66  \n",
       "758              13            13/15  \n",
       "780              48            48;50  \n",
       "787              56            54-56  \n",
       "833               3              3-5  \n",
       "840              43            41;43  \n",
       "843             116         116,116A  \n",
       "846              96            94-96  \n",
       "933             15B               15  \n",
       "934             13A               13  \n",
       "935             12A               12  \n",
       "936              1A                1  \n",
       "937             2_1                2  \n",
       "938             98H           98-98L  \n",
       "939        150_0459              150  \n",
       "940             52A               52  \n",
       "941           17_32            17/51  \n",
       "942             30A               30  "
      ]
     },
     "metadata": {},
     "output_type": "display_data"
    }
   ],
   "source": [
    "log(\"Disagreed: \")\n",
    "log(ex_hs_nb[ex_hs_nb.addr_out_number.notnull() & ex_hs_nb.extra_house_nbr.notnull() & (ex_hs_nb.addr_out_number != ex_hs_nb.extra_house_nbr)])"
   ]
  },
  {
   "cell_type": "code",
   "execution_count": 87,
   "metadata": {
    "ExecuteTime": {
     "end_time": "2020-04-24T06:24:36.368173Z",
     "start_time": "2020-04-24T06:24:36.339392Z"
    }
   },
   "outputs": [
    {
     "name": "stdout",
     "output_type": "stream",
     "text": [
      "[2020-04-24 06:24:36,343]  Error: \n"
     ]
    },
    {
     "data": {
      "text/html": [
       "<div>\n",
       "<style scoped>\n",
       "    .dataframe tbody tr th:only-of-type {\n",
       "        vertical-align: middle;\n",
       "    }\n",
       "\n",
       "    .dataframe tbody tr th {\n",
       "        vertical-align: top;\n",
       "    }\n",
       "\n",
       "    .dataframe thead th {\n",
       "        text-align: right;\n",
       "    }\n",
       "</style>\n",
       "<table border=\"1\" class=\"dataframe\">\n",
       "  <thead>\n",
       "    <tr style=\"text-align: right;\">\n",
       "      <th></th>\n",
       "      <th>addr_index</th>\n",
       "      <th>osm_addr_in</th>\n",
       "      <th>extra_house_nbr</th>\n",
       "      <th>addr_out_number</th>\n",
       "    </tr>\n",
       "  </thead>\n",
       "  <tbody>\n",
       "  </tbody>\n",
       "</table>\n",
       "</div>"
      ],
      "text/plain": [
       "Empty DataFrame\n",
       "Columns: [addr_index, osm_addr_in, extra_house_nbr, addr_out_number]\n",
       "Index: []"
      ]
     },
     "metadata": {},
     "output_type": "display_data"
    }
   ],
   "source": [
    "log(\"Error: \") # There were no number in input, but OSM found one\n",
    "log(ex_hs_nb[ex_hs_nb.addr_out_number.notnull() & ex_hs_nb.extra_house_nbr.isnull()])"
   ]
  },
  {
   "cell_type": "code",
   "execution_count": 88,
   "metadata": {
    "ExecuteTime": {
     "end_time": "2020-04-24T06:24:36.433756Z",
     "start_time": "2020-04-24T06:24:36.373263Z"
    },
    "run_control": {
     "marked": false
    }
   },
   "outputs": [
    {
     "data": {
      "text/html": [
       "<div>\n",
       "<style scoped>\n",
       "    .dataframe tbody tr th:only-of-type {\n",
       "        vertical-align: middle;\n",
       "    }\n",
       "\n",
       "    .dataframe tbody tr th {\n",
       "        vertical-align: top;\n",
       "    }\n",
       "\n",
       "    .dataframe thead th {\n",
       "        text-align: right;\n",
       "    }\n",
       "</style>\n",
       "<table border=\"1\" class=\"dataframe\">\n",
       "  <thead>\n",
       "    <tr style=\"text-align: right;\">\n",
       "      <th></th>\n",
       "      <th>Count</th>\n",
       "    </tr>\n",
       "  </thead>\n",
       "  <tbody>\n",
       "    <tr>\n",
       "      <th>New information</th>\n",
       "      <td>567</td>\n",
       "    </tr>\n",
       "    <tr>\n",
       "      <th>No number at all</th>\n",
       "      <td>0</td>\n",
       "    </tr>\n",
       "    <tr>\n",
       "      <th>Agree</th>\n",
       "      <td>391</td>\n",
       "    </tr>\n",
       "    <tr>\n",
       "      <th>Disagree</th>\n",
       "      <td>42</td>\n",
       "    </tr>\n",
       "    <tr>\n",
       "      <th>Error</th>\n",
       "      <td>0</td>\n",
       "    </tr>\n",
       "  </tbody>\n",
       "</table>\n",
       "</div>"
      ],
      "text/plain": [
       "                  Count\n",
       "New information     567\n",
       "No number at all      0\n",
       "Agree               391\n",
       "Disagree             42\n",
       "Error                 0"
      ]
     },
     "metadata": {},
     "output_type": "display_data"
    }
   ],
   "source": [
    "extra_address_stats = {\n",
    "    \"New information\" : (ex_hs_nb.addr_out_number.isnull()  & ex_hs_nb.extra_house_nbr.notnull()).sum(),\n",
    "    \"No number at all\": (ex_hs_nb.addr_out_number.isnull()  & ex_hs_nb.extra_house_nbr.isnull() ).sum(),\n",
    "    \"Agree\"  :          (ex_hs_nb.addr_out_number.notnull() & ex_hs_nb.extra_house_nbr.notnull() & (ex_hs_nb.addr_out_number == ex_hs_nb.extra_house_nbr)).sum(),\n",
    "    \"Disagree\":         (ex_hs_nb.addr_out_number.notnull() & ex_hs_nb.extra_house_nbr.notnull() & (ex_hs_nb.addr_out_number != ex_hs_nb.extra_house_nbr)).sum(),\n",
    "    \"Error\" :           (ex_hs_nb.addr_out_number.notnull() & ex_hs_nb.extra_house_nbr.isnull()).sum()\n",
    "    \n",
    "}\n",
    "extra_address_stats = pd.DataFrame(extra_address_stats, index=[\"Count\"]).T\n",
    "log(extra_address_stats)"
   ]
  },
  {
   "cell_type": "code",
   "execution_count": 89,
   "metadata": {
    "ExecuteTime": {
     "end_time": "2020-04-24T06:24:36.446515Z",
     "start_time": "2020-04-24T06:24:36.440955Z"
    },
    "scrolled": true
   },
   "outputs": [],
   "source": [
    "# extra_address_stats.Count.plot.pie(label=\"\",  autopct='%1.1f%%')"
   ]
  },
  {
   "cell_type": "code",
   "execution_count": 90,
   "metadata": {
    "ExecuteTime": {
     "end_time": "2020-04-24T06:24:36.459135Z",
     "start_time": "2020-04-24T06:24:36.451428Z"
    }
   },
   "outputs": [],
   "source": [
    "assert extra_address_stats.Count.sum() == osm_addresses.shape[0]"
   ]
  },
  {
   "cell_type": "markdown",
   "metadata": {
    "ExecuteTime": {
     "start_time": "2019-08-21T07:49:37.320Z"
    }
   },
   "source": [
    "# Some stats"
   ]
  },
  {
   "cell_type": "code",
   "execution_count": 91,
   "metadata": {
    "ExecuteTime": {
     "end_time": "2020-04-24T06:24:36.511071Z",
     "start_time": "2020-04-24T06:24:36.466944Z"
    }
   },
   "outputs": [],
   "source": [
    "_stats = pd.DataFrame(stats)[[\"method\",\"todo\", \"sent\", \"match\", \"match_26\", \"reject_rec\", \"reject_addr\", \"reject_mism\"]]\n",
    "_stats = _stats.reset_index().groupby(\"method\").sum().reset_index().sort_values(\"index\").drop(\"index\", axis=1)"
   ]
  },
  {
   "cell_type": "code",
   "execution_count": 92,
   "metadata": {
    "ExecuteTime": {
     "end_time": "2020-04-24T06:24:36.525762Z",
     "start_time": "2020-04-24T06:24:36.515664Z"
    }
   },
   "outputs": [],
   "source": [
    "assert osm_addresses.shape[0] == _stats[\"match\"].sum()"
   ]
  },
  {
   "cell_type": "code",
   "execution_count": 93,
   "metadata": {
    "ExecuteTime": {
     "end_time": "2020-04-24T06:24:36.542542Z",
     "start_time": "2020-04-24T06:24:36.531393Z"
    }
   },
   "outputs": [
    {
     "name": "stdout",
     "output_type": "stream",
     "text": [
      "[2020-04-24 06:24:36,534]  Global match rate : 1.0\n"
     ]
    }
   ],
   "source": [
    "log(f\"Global match rate : {osm_addresses.shape[0]/addresses.shape[0]}\")"
   ]
  },
  {
   "cell_type": "code",
   "execution_count": 94,
   "metadata": {
    "ExecuteTime": {
     "end_time": "2020-04-24T06:24:36.584426Z",
     "start_time": "2020-04-24T06:24:36.550660Z"
    }
   },
   "outputs": [
    {
     "data": {
      "text/plain": [
       "(0, 0)"
      ]
     },
     "execution_count": 94,
     "metadata": {},
     "output_type": "execute_result"
    }
   ],
   "source": [
    "rejected_count = rejected_addresses[~rejected_addresses[config_module.addr_key_field].isin(osm_addresses[config_module.addr_key_field])][config_module.addr_key_field].nunique()\n",
    "rejected_count\n",
    "\n",
    "nomatch_count = addresses[~addresses[config_module.addr_key_field].isin(osm_addresses[config_module.addr_key_field]) & ~addresses[config_module.addr_key_field].isin(rejected_addresses[config_module.addr_key_field])].shape[0]\n",
    "\n",
    "rejected_count, nomatch_count"
   ]
  },
  {
   "cell_type": "code",
   "execution_count": 95,
   "metadata": {
    "ExecuteTime": {
     "end_time": "2020-04-24T06:24:36.602552Z",
     "start_time": "2020-04-24T06:24:36.588742Z"
    },
    "scrolled": true
   },
   "outputs": [],
   "source": [
    "#rejected_addresses[~rejected_addresses[config_module.addr_key_field].isin(osm_addresses[config_module.addr_key_field])]\n"
   ]
  },
  {
   "cell_type": "code",
   "execution_count": 96,
   "metadata": {
    "ExecuteTime": {
     "end_time": "2020-04-24T06:24:36.614494Z",
     "start_time": "2020-04-24T06:24:36.607781Z"
    }
   },
   "outputs": [],
   "source": [
    "# osm_addresses[osm_addresses.EntityNumber == \"2.227.707.047\"]"
   ]
  },
  {
   "cell_type": "code",
   "execution_count": 97,
   "metadata": {
    "ExecuteTime": {
     "end_time": "2020-04-24T06:24:36.629150Z",
     "start_time": "2020-04-24T06:24:36.619879Z"
    }
   },
   "outputs": [],
   "source": [
    "missing_address_count = addresses.shape[0] - osm_addresses.shape[0]\n",
    "\n",
    "assert rejected_count + nomatch_count == missing_address_count\n",
    "\n",
    "# print(\"Missing : \", missing_address_count)"
   ]
  },
  {
   "cell_type": "code",
   "execution_count": 98,
   "metadata": {
    "ExecuteTime": {
     "end_time": "2020-04-24T06:24:36.661961Z",
     "start_time": "2020-04-24T06:24:36.635475Z"
    }
   },
   "outputs": [],
   "source": [
    "_stats = _stats.append(pd.DataFrame([{\"method\": \"reject\", \"todo\": rejected_count, \"match\": rejected_count},\n",
    "                              {\"method\": \"nomatch\", \"todo\": nomatch_count, \"match\": nomatch_count},\n",
    "                             ]), sort=False)"
   ]
  },
  {
   "cell_type": "code",
   "execution_count": 99,
   "metadata": {
    "ExecuteTime": {
     "end_time": "2020-04-24T06:24:36.726807Z",
     "start_time": "2020-04-24T06:24:36.666997Z"
    }
   },
   "outputs": [
    {
     "data": {
      "text/html": [
       "<div>\n",
       "<style scoped>\n",
       "    .dataframe tbody tr th:only-of-type {\n",
       "        vertical-align: middle;\n",
       "    }\n",
       "\n",
       "    .dataframe tbody tr th {\n",
       "        vertical-align: top;\n",
       "    }\n",
       "\n",
       "    .dataframe thead th {\n",
       "        text-align: right;\n",
       "    }\n",
       "</style>\n",
       "<table border=\"1\" class=\"dataframe\">\n",
       "  <thead>\n",
       "    <tr style=\"text-align: right;\">\n",
       "      <th></th>\n",
       "      <th>method</th>\n",
       "      <th>todo</th>\n",
       "      <th>sent</th>\n",
       "      <th>match</th>\n",
       "      <th>match_26</th>\n",
       "      <th>reject_rec</th>\n",
       "      <th>reject_addr</th>\n",
       "      <th>reject_mism</th>\n",
       "      <th>match rate</th>\n",
       "      <th>glob match rate</th>\n",
       "    </tr>\n",
       "  </thead>\n",
       "  <tbody>\n",
       "    <tr>\n",
       "      <th>6</th>\n",
       "      <td>orig</td>\n",
       "      <td>1000</td>\n",
       "      <td>1000.0</td>\n",
       "      <td>943</td>\n",
       "      <td>10.0</td>\n",
       "      <td>360.0</td>\n",
       "      <td>225.0</td>\n",
       "      <td>5.0</td>\n",
       "      <td>0.943000</td>\n",
       "      <td>0.943</td>\n",
       "    </tr>\n",
       "    <tr>\n",
       "      <th>4</th>\n",
       "      <td>nonum</td>\n",
       "      <td>57</td>\n",
       "      <td>57.0</td>\n",
       "      <td>16</td>\n",
       "      <td>0.0</td>\n",
       "      <td>20.0</td>\n",
       "      <td>8.0</td>\n",
       "      <td>1.0</td>\n",
       "      <td>0.280702</td>\n",
       "      <td>0.016</td>\n",
       "    </tr>\n",
       "    <tr>\n",
       "      <th>2</th>\n",
       "      <td>libpostal+regex[lpost]+photon</td>\n",
       "      <td>41</td>\n",
       "      <td>22.0</td>\n",
       "      <td>22</td>\n",
       "      <td>0.0</td>\n",
       "      <td>9.0</td>\n",
       "      <td>7.0</td>\n",
       "      <td>0.0</td>\n",
       "      <td>1.000000</td>\n",
       "      <td>0.022</td>\n",
       "    </tr>\n",
       "    <tr>\n",
       "      <th>7</th>\n",
       "      <td>photon</td>\n",
       "      <td>19</td>\n",
       "      <td>2.0</td>\n",
       "      <td>2</td>\n",
       "      <td>0.0</td>\n",
       "      <td>3.0</td>\n",
       "      <td>2.0</td>\n",
       "      <td>0.0</td>\n",
       "      <td>1.000000</td>\n",
       "      <td>0.002</td>\n",
       "    </tr>\n",
       "    <tr>\n",
       "      <th>5</th>\n",
       "      <td>nostreet</td>\n",
       "      <td>17</td>\n",
       "      <td>17.0</td>\n",
       "      <td>17</td>\n",
       "      <td>0.0</td>\n",
       "      <td>19.0</td>\n",
       "      <td>9.0</td>\n",
       "      <td>0.0</td>\n",
       "      <td>1.000000</td>\n",
       "      <td>0.017</td>\n",
       "    </tr>\n",
       "  </tbody>\n",
       "</table>\n",
       "</div>"
      ],
      "text/plain": [
       "                          method  todo    sent  match  match_26  reject_rec  \\\n",
       "6                           orig  1000  1000.0    943      10.0       360.0   \n",
       "4                          nonum    57    57.0     16       0.0        20.0   \n",
       "2  libpostal+regex[lpost]+photon    41    22.0     22       0.0         9.0   \n",
       "7                         photon    19     2.0      2       0.0         3.0   \n",
       "5                       nostreet    17    17.0     17       0.0        19.0   \n",
       "\n",
       "   reject_addr  reject_mism  match rate  glob match rate  \n",
       "6        225.0          5.0    0.943000            0.943  \n",
       "4          8.0          1.0    0.280702            0.016  \n",
       "2          7.0          0.0    1.000000            0.022  \n",
       "7          2.0          0.0    1.000000            0.002  \n",
       "5          9.0          0.0    1.000000            0.017  "
      ]
     },
     "metadata": {},
     "output_type": "display_data"
    }
   ],
   "source": [
    "_stats[\"match rate\"] = _stats[\"match\"]/_stats[\"sent\"]\n",
    "_stats[\"glob match rate\"] = _stats[\"match\"]/addresses.shape[0]\n",
    "\n",
    "log(_stats[_stats.match > 0])#.sort_values(\"match\", ascending=False)"
   ]
  },
  {
   "cell_type": "code",
   "execution_count": 100,
   "metadata": {
    "ExecuteTime": {
     "end_time": "2020-04-24T06:24:36.737031Z",
     "start_time": "2020-04-24T06:24:36.730814Z"
    }
   },
   "outputs": [],
   "source": [
    "#"
   ]
  },
  {
   "cell_type": "code",
   "execution_count": 101,
   "metadata": {
    "ExecuteTime": {
     "end_time": "2020-04-24T06:24:37.257006Z",
     "start_time": "2020-04-24T06:24:36.742132Z"
    },
    "scrolled": true
   },
   "outputs": [],
   "source": [
    "if AddressCleanserUtils.within_jupyter:\n",
    "    import matplotlib.pyplot as plt\n",
    "\n",
    "    _stats.set_index(\"method\").match.plot.pie()\n",
    "    plt.tight_layout()"
   ]
  },
  {
   "cell_type": "code",
   "execution_count": 102,
   "metadata": {
    "ExecuteTime": {
     "end_time": "2020-04-24T06:24:37.299706Z",
     "start_time": "2020-04-24T06:24:37.260971Z"
    }
   },
   "outputs": [
    {
     "name": "stdout",
     "output_type": "stream",
     "text": [
      "[2020-04-24 06:24:37,294]  Place ranks: \n",
      "26.0    537\n",
      "30.0    440\n",
      "16.0     11\n",
      "27.0      3\n",
      "18.0      2\n",
      "14.0      2\n",
      "22.0      2\n",
      "25.0      1\n",
      "21.0      1\n",
      "24.0      1\n"
     ]
    }
   ],
   "source": [
    "log(f\"Place ranks: \\n{osm_addresses.place_rank.value_counts().to_string()}\")"
   ]
  },
  {
   "cell_type": "code",
   "execution_count": 103,
   "metadata": {
    "ExecuteTime": {
     "end_time": "2020-04-24T06:24:37.326948Z",
     "start_time": "2020-04-24T06:24:37.304940Z"
    }
   },
   "outputs": [
    {
     "data": {
      "text/plain": [
       "26.0    0.537\n",
       "30.0    0.440\n",
       "16.0    0.011\n",
       "27.0    0.003\n",
       "18.0    0.002\n",
       "14.0    0.002\n",
       "22.0    0.002\n",
       "25.0    0.001\n",
       "21.0    0.001\n",
       "24.0    0.001\n",
       "Name: place_rank, dtype: float64"
      ]
     },
     "execution_count": 103,
     "metadata": {},
     "output_type": "execute_result"
    }
   ],
   "source": [
    "osm_addresses.place_rank.value_counts() / osm_addresses.shape[0]"
   ]
  },
  {
   "cell_type": "code",
   "execution_count": 104,
   "metadata": {
    "ExecuteTime": {
     "end_time": "2020-04-24T06:24:37.788649Z",
     "start_time": "2020-04-24T06:24:37.332529Z"
    }
   },
   "outputs": [
    {
     "data": {
      "image/png": "[encoded data removed]",
      "text/plain": [
       "<Figure size 432x288 with 1 Axes>"
      ]
     },
     "metadata": {
      "needs_background": "light"
     },
     "output_type": "display_data"
    }
   ],
   "source": [
    "if AddressCleanserUtils.within_jupyter:\n",
    "    osm_addresses.place_rank.value_counts().plot.bar()"
   ]
  },
  {
   "cell_type": "code",
   "execution_count": 105,
   "metadata": {
    "ExecuteTime": {
     "end_time": "2020-04-24T06:24:38.001534Z",
     "start_time": "2020-04-24T06:24:37.792576Z"
    }
   },
   "outputs": [
    {
     "data": {
      "image/png": "[encoded data removed]",
      "text/plain": [
       "<Figure size 432x288 with 1 Axes>"
      ]
     },
     "metadata": {},
     "output_type": "display_data"
    }
   ],
   "source": [
    "if AddressCleanserUtils.within_jupyter:\n",
    "    osm_addresses.place_rank.value_counts().plot.pie()"
   ]
  },
  {
   "cell_type": "code",
   "execution_count": 106,
   "metadata": {
    "ExecuteTime": {
     "end_time": "2020-04-24T06:24:38.402703Z",
     "start_time": "2020-04-24T06:24:38.006271Z"
    }
   },
   "outputs": [
    {
     "data": {
      "image/png": "[encoded data removed]",
      "text/plain": [
       "<Figure size 432x288 with 1 Axes>"
      ]
     },
     "metadata": {
      "needs_background": "light"
     },
     "output_type": "display_data"
    }
   ],
   "source": [
    "if AddressCleanserUtils.within_jupyter:\n",
    "    osm_addresses.addr_out_number.isnull().value_counts().plot.bar()"
   ]
  },
  {
   "cell_type": "code",
   "execution_count": 107,
   "metadata": {
    "ExecuteTime": {
     "end_time": "2020-04-24T06:24:38.737583Z",
     "start_time": "2020-04-24T06:24:38.406664Z"
    }
   },
   "outputs": [
    {
     "data": {
      "image/png": "[encoded data removed]",
      "text/plain": [
       "<Figure size 432x288 with 1 Axes>"
      ]
     },
     "metadata": {
      "needs_background": "light"
     },
     "output_type": "display_data"
    }
   ],
   "source": [
    "if AddressCleanserUtils.within_jupyter:\n",
    "    addresses[config_module.housenbr_field].isnull().value_counts().plot.bar()"
   ]
  },
  {
   "cell_type": "code",
   "execution_count": 108,
   "metadata": {
    "ExecuteTime": {
     "end_time": "2020-04-24T06:24:38.750933Z",
     "start_time": "2020-04-24T06:24:38.741623Z"
    }
   },
   "outputs": [],
   "source": [
    "# Remark : only works when dask is not used \n",
    "# Gives times used of transformer, querying & processing osm, and checking results\n",
    "if not with_dask:\n",
    "    ts = AddressCleanserUtils.timestats\n",
    "    tot = np.sum([ts[key] for key in ts])\n",
    "    for key in ts: \n",
    "        log(f\"{key:12}: {ts[key]} ({100*ts[key]/tot:.3} %)\")"
   ]
  },
  {
   "cell_type": "markdown",
   "metadata": {},
   "source": [
    "# Output"
   ]
  },
  {
   "cell_type": "code",
   "execution_count": 109,
   "metadata": {
    "ExecuteTime": {
     "end_time": "2020-04-24T06:24:38.772846Z",
     "start_time": "2020-04-24T06:24:38.756936Z"
    },
    "scrolled": true
   },
   "outputs": [
    {
     "name": "stdout",
     "output_type": "stream",
     "text": [
      "[2020-04-24 06:24:38,765]  Successfully created the directory ./best.csv \n"
     ]
    }
   ],
   "source": [
    "output_folder = address_file.rsplit(\".\", 1)[0]\n",
    "\n",
    "import os\n",
    "\n",
    "try:\n",
    "    os.mkdir(output_folder)\n",
    "except OSError:\n",
    "    log (\"Creation of the directory %s failed\" % output_folder)\n",
    "else:\n",
    "    log (\"Successfully created the directory %s \" % output_folder)\n",
    "    \n",
    "    \n",
    "output_filename_xls = output_folder + \"/match.xlsx\"\n",
    "output_filename_pkl = output_folder + \"/match.pkl\"\n",
    "\n",
    "nomatch_filename = output_folder + \"/nomatch.xlsx\"\n",
    "\n",
    "reject_filename = output_folder + \"/reject.xlsx\"\n",
    "\n",
    "stats_filename = output_folder + \"/stats.xlsx\""
   ]
  },
  {
   "cell_type": "code",
   "execution_count": 110,
   "metadata": {
    "ExecuteTime": {
     "end_time": "2020-04-24T06:24:40.861055Z",
     "start_time": "2020-04-24T06:24:38.776242Z"
    },
    "scrolled": true
   },
   "outputs": [
    {
     "name": "stdout",
     "output_type": "stream",
     "text": [
      "[2020-04-24 06:24:38,803]  Writing results on ./best.csv/match.xlsx ...\n",
      "[2020-04-24 06:24:40,846]  Writing results on ./best.csv/match.pkl ...\n"
     ]
    }
   ],
   "source": [
    "final_output = addresses.merge(osm_addresses, how=\"left\")\n",
    "\n",
    "\n",
    "log(f\"Writing results on {output_filename_xls} ...\")\n",
    "try: \n",
    "    final_output.to_excel(output_filename_xls)\n",
    "except Exception as e: \n",
    "    log(\"Failed ! \")\n",
    "    log(e)\n",
    "    \n",
    "log(f\"Writing results on {output_filename_pkl} ...\")\n",
    "try: \n",
    "    final_output.to_pickle(output_filename_pkl)\n",
    "except Exception as e: \n",
    "    log(\"Failed ! \")\n",
    "    log(e)\n",
    "    "
   ]
  },
  {
   "cell_type": "code",
   "execution_count": null,
   "metadata": {
    "ExecuteTime": {
     "end_time": "2020-04-17T13:22:09.269754Z",
     "start_time": "2020-04-17T13:22:09.246646Z"
    }
   },
   "outputs": [],
   "source": []
  },
  {
   "cell_type": "code",
   "execution_count": 111,
   "metadata": {
    "ExecuteTime": {
     "end_time": "2020-04-24T06:24:40.948216Z",
     "start_time": "2020-04-24T06:24:40.865000Z"
    }
   },
   "outputs": [
    {
     "name": "stdout",
     "output_type": "stream",
     "text": [
      "[2020-04-24 06:24:40,874]  Writing rejected on ./best.csv/reject.xlsx ...\n",
      "[2020-04-24 06:24:40,903]  Failed ! \n",
      "[2020-04-24 06:24:40,905]  index 0 is out of bounds for axis 0 with size 0\n",
      "[2020-04-24 06:24:40,907]  Writing nomatch on ./best.csv/nomatch.xlsx ...\n"
     ]
    }
   ],
   "source": [
    "log(f\"Writing rejected on {reject_filename} ...\")\n",
    "try: \n",
    "\n",
    "    rejected_addresses_final.sort_values([config_module.addr_key_field]).set_index([config_module.addr_key_field,\n",
    "                                                                               config_module.street_field,\n",
    "                                                                               config_module.housenbr_field,\n",
    "                                                                               config_module.postcode_field,\n",
    "                                                                               config_module.city_field,\n",
    "                                                                               \"method\"]).to_excel(reject_filename)\n",
    "except Exception as e: \n",
    "    log(\"Failed ! \")\n",
    "    log(e)\n",
    "    \n",
    "\n",
    "log(f\"Writing nomatch on {nomatch_filename} ...\")\n",
    "try: \n",
    "    nomatch =  addresses[~addresses[config_module.addr_key_field].isin(osm_addresses[config_module.addr_key_field]) & ~addresses[config_module.addr_key_field].isin(rejected_addresses[config_module.addr_key_field])]\n",
    "    nomatch.to_excel(nomatch_filename)\n",
    "except Exception as e: \n",
    "    log(\"Failed ! \")\n",
    "    log(e)\n",
    "    "
   ]
  },
  {
   "cell_type": "code",
   "execution_count": 129,
   "metadata": {
    "ExecuteTime": {
     "end_time": "2020-04-24T06:30:15.589989Z",
     "start_time": "2020-04-24T06:30:15.539550Z"
    }
   },
   "outputs": [
    {
     "name": "stdout",
     "output_type": "stream",
     "text": [
      "[2020-04-24 06:30:15,545]  Writing stats on ./best.csv/stats.xlsx ...\n"
     ]
    }
   ],
   "source": [
    "log(f\"Writing stats on {stats_filename} ...\")\n",
    "try: \n",
    "    with pd.ExcelWriter(stats_filename) as writer:\n",
    "        _stats.to_excel(writer, \"match_rate\")\n",
    "        \n",
    "        pr_vc = osm_addresses.place_rank.value_counts()\n",
    "        pr_vc = pd.concat([pr_vc, pr_vc/ osm_addresses.shape[0]], axis=1)\n",
    "        pr_vc.columns = [\"Count\", \"%\"]\n",
    "        pr_vc.to_excel(writer, \"place_rank\")\n",
    "\n",
    "except Exception as e: \n",
    "    log(\"Failed ! \")\n",
    "    log(e)\n",
    "    "
   ]
  },
  {
   "cell_type": "code",
   "execution_count": 113,
   "metadata": {
    "ExecuteTime": {
     "end_time": "2020-04-24T06:24:41.011384Z",
     "start_time": "2020-04-24T06:24:40.994488Z"
    },
    "scrolled": true
   },
   "outputs": [
    {
     "name": "stdout",
     "output_type": "stream",
     "text": [
      "[2020-04-24 06:24:41,001]  Done !\n",
      "[2020-04-24 06:24:41,003]  Total time : 0:01:55.572560\n"
     ]
    }
   ],
   "source": [
    "log(\"Done !\")\n",
    "log(f\"Total time : {datetime.now() - starting_time}\")"
   ]
  }
 ],
 "metadata": {
  "kernelspec": {
   "display_name": "Python 3",
   "language": "python",
   "name": "python3"
  },
  "language_info": {
   "codemirror_mode": {
    "name": "ipython",
    "version": 3
   },
   "file_extension": ".py",
   "mimetype": "text/x-python",
   "name": "python",
   "nbconvert_exporter": "python",
   "pygments_lexer": "ipython3",
   "version": "3.6.8"
  },
  "toc": {
   "base_numbering": 1,
   "nav_menu": {},
   "number_sections": true,
   "sideBar": true,
   "skip_h1_title": false,
   "title_cell": "Table of Contents",
   "title_sidebar": "Contents",
   "toc_cell": false,
   "toc_position": {
    "height": "862.4px",
    "left": "22px",
    "top": "110.8px",
    "width": "174.188px"
   },
   "toc_section_display": true,
   "toc_window_display": true
  },
  "varInspector": {
   "cols": {
    "lenName": 16,
    "lenType": 16,
    "lenVar": 40
   },
   "kernels_config": {
    "python": {
     "delete_cmd_postfix": "",
     "delete_cmd_prefix": "del ",
     "library": "var_list.py",
     "varRefreshCmd": "print(var_dic_list())"
    },
    "r": {
     "delete_cmd_postfix": ") ",
     "delete_cmd_prefix": "rm(",
     "library": "var_list.r",
     "varRefreshCmd": "cat(var_dic_list()) "
    }
   },
   "types_to_exclude": [
    "module",
    "function",
    "builtin_function_or_method",
    "instance",
    "_Feature"
   ],
   "window_display": false
  }
 },
 "nbformat": 4,
 "nbformat_minor": 2
}
